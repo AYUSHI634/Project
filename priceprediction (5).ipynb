{
  "nbformat": 4,
  "nbformat_minor": 0,
  "metadata": {
    "colab": {
      "name": "priceprediction.ipynb",
      "provenance": [],
      "collapsed_sections": []
    },
    "kernelspec": {
      "display_name": "Python 3",
      "name": "python3"
    },
    "language_info": {
      "name": "python"
    }
  },
  "cells": [
    {
      "cell_type": "markdown",
      "metadata": {
        "id": "Of69T2HsU4Ud"
      },
      "source": [
        "**Data Loading**"
      ]
    },
    {
      "cell_type": "code",
      "metadata": {
        "id": "0CpEtom6y-H0",
        "colab": {
          "resources": {
            "http://localhost:8080/nbextensions/google.colab/files.js": {
              "data": "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",
              "ok": true,
              "headers": [
                [
                  "content-type",
                  "application/javascript"
                ]
              ],
              "status": 200,
              "status_text": ""
            }
          },
          "base_uri": "https://localhost:8080/",
          "height": 70
        },
        "outputId": "39435915-1fca-4234-face-b6c50c237492"
      },
      "source": [
        "from google.colab import files\n",
        "uploaded = files.upload()"
      ],
      "execution_count": 1,
      "outputs": [
        {
          "output_type": "display_data",
          "data": {
            "text/html": [
              "\n",
              "     <input type=\"file\" id=\"files-6ff8c84a-395a-4694-8945-c272fe84c071\" name=\"files[]\" multiple disabled\n",
              "        style=\"border:none\" />\n",
              "     <output id=\"result-6ff8c84a-395a-4694-8945-c272fe84c071\">\n",
              "      Upload widget is only available when the cell has been executed in the\n",
              "      current browser session. Please rerun this cell to enable.\n",
              "      </output>\n",
              "      <script src=\"/nbextensions/google.colab/files.js\"></script> "
            ],
            "text/plain": [
              "<IPython.core.display.HTML object>"
            ]
          },
          "metadata": {}
        },
        {
          "output_type": "stream",
          "text": [
            "Saving Data_Train (1).xlsx to Data_Train (1).xlsx\n"
          ],
          "name": "stdout"
        }
      ]
    },
    {
      "cell_type": "code",
      "metadata": {
        "id": "H4Q_iGet2Bxz"
      },
      "source": [
        "import pandas as pd\n",
        "import numpy as np\n",
        "import seaborn as sns\n",
        "import matplotlib.pyplot as plt\n",
        "train_data=pd.read_excel(\"Data_Train (1).xlsx\")"
      ],
      "execution_count": 2,
      "outputs": []
    },
    {
      "cell_type": "code",
      "metadata": {
        "colab": {
          "base_uri": "https://localhost:8080/"
        },
        "id": "n342_Mbc1LHC",
        "outputId": "8aa2ffec-5e8e-449f-be2a-e30f1bcda9c6"
      },
      "source": [
        "train_data.shape #OUR TRAIN DATA HAS 10683 ROWS AND 11 COLUMNS"
      ],
      "execution_count": 3,
      "outputs": [
        {
          "output_type": "execute_result",
          "data": {
            "text/plain": [
              "(10683, 11)"
            ]
          },
          "metadata": {},
          "execution_count": 3
        }
      ]
    },
    {
      "cell_type": "code",
      "metadata": {
        "id": "_U6ruSAN10D6"
      },
      "source": [
        "#CHECKING FOR NULL VALUES\n",
        "#THERE IS ONLY ONE NULL VALUE IN THE ROUTE COLUMN AND CORRESPONDINGLY THE TOTAL STOPS COLUMN TOO HAS A NULL VALUE "
      ],
      "execution_count": 4,
      "outputs": []
    },
    {
      "cell_type": "code",
      "metadata": {
        "colab": {
          "base_uri": "https://localhost:8080/"
        },
        "id": "NshMGXW-1_UR",
        "outputId": "2f5fa503-a2a8-4490-de7c-4b13cf0dd289"
      },
      "source": [
        "train_data.isna().sum() "
      ],
      "execution_count": 5,
      "outputs": [
        {
          "output_type": "execute_result",
          "data": {
            "text/plain": [
              "Airline            0\n",
              "Date_of_Journey    0\n",
              "Source             0\n",
              "Destination        0\n",
              "Route              1\n",
              "Dep_Time           0\n",
              "Arrival_Time       0\n",
              "Duration           0\n",
              "Total_Stops        1\n",
              "Additional_Info    0\n",
              "Price              0\n",
              "dtype: int64"
            ]
          },
          "metadata": {},
          "execution_count": 5
        }
      ]
    },
    {
      "cell_type": "code",
      "metadata": {
        "id": "jaBUO7jI2aQa"
      },
      "source": [
        "train_data.dropna(inplace=True)"
      ],
      "execution_count": 6,
      "outputs": []
    },
    {
      "cell_type": "code",
      "metadata": {
        "colab": {
          "resources": {
            "http://localhost:8080/nbextensions/google.colab/files.js": {
              "data": "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",
              "ok": true,
              "headers": [
                [
                  "content-type",
                  "application/javascript"
                ]
              ],
              "status": 200,
              "status_text": ""
            }
          },
          "base_uri": "https://localhost:8080/",
          "height": 70
        },
        "id": "xNO0MycV4Dkp",
        "outputId": "3549acde-e022-43c8-8230-67123ee30cdd"
      },
      "source": [
        "#ONE ROW HAS BEEN DROPPED WHICH HAD NULL VALUES IN IT\n",
        "#NOW I WILL BE IMPORTING MY TEST DATA\n",
        "from google.colab import files\n",
        "uploaded=files.upload()"
      ],
      "execution_count": 7,
      "outputs": [
        {
          "output_type": "display_data",
          "data": {
            "text/html": [
              "\n",
              "     <input type=\"file\" id=\"files-0a521a18-30d6-4bad-ac4a-1140962ec3e5\" name=\"files[]\" multiple disabled\n",
              "        style=\"border:none\" />\n",
              "     <output id=\"result-0a521a18-30d6-4bad-ac4a-1140962ec3e5\">\n",
              "      Upload widget is only available when the cell has been executed in the\n",
              "      current browser session. Please rerun this cell to enable.\n",
              "      </output>\n",
              "      <script src=\"/nbextensions/google.colab/files.js\"></script> "
            ],
            "text/plain": [
              "<IPython.core.display.HTML object>"
            ]
          },
          "metadata": {}
        },
        {
          "output_type": "stream",
          "text": [
            "Saving Test_set.xlsx to Test_set.xlsx\n"
          ],
          "name": "stdout"
        }
      ]
    },
    {
      "cell_type": "code",
      "metadata": {
        "id": "A7EL2fTF4nVx"
      },
      "source": [
        "test_data=pd.read_excel(\"Test_set.xlsx\")"
      ],
      "execution_count": 8,
      "outputs": []
    },
    {
      "cell_type": "code",
      "metadata": {
        "colab": {
          "base_uri": "https://localhost:8080/"
        },
        "id": "cWs_g-Py4x51",
        "outputId": "a4e14e54-3adb-4dbd-b47d-1291dbec626e"
      },
      "source": [
        "test_data.info() #Our test data has 2671 entries with a total of 10 columns"
      ],
      "execution_count": 9,
      "outputs": [
        {
          "output_type": "stream",
          "text": [
            "<class 'pandas.core.frame.DataFrame'>\n",
            "RangeIndex: 2671 entries, 0 to 2670\n",
            "Data columns (total 10 columns):\n",
            " #   Column           Non-Null Count  Dtype \n",
            "---  ------           --------------  ----- \n",
            " 0   Airline          2671 non-null   object\n",
            " 1   Date_of_Journey  2671 non-null   object\n",
            " 2   Source           2671 non-null   object\n",
            " 3   Destination      2671 non-null   object\n",
            " 4   Route            2671 non-null   object\n",
            " 5   Dep_Time         2671 non-null   object\n",
            " 6   Arrival_Time     2671 non-null   object\n",
            " 7   Duration         2671 non-null   object\n",
            " 8   Total_Stops      2671 non-null   object\n",
            " 9   Additional_Info  2671 non-null   object\n",
            "dtypes: object(10)\n",
            "memory usage: 208.8+ KB\n"
          ],
          "name": "stdout"
        }
      ]
    },
    {
      "cell_type": "code",
      "metadata": {
        "colab": {
          "base_uri": "https://localhost:8080/"
        },
        "id": "NL0F1maf40Y4",
        "outputId": "75ed5293-9863-4c9b-9e4b-9192152074d4"
      },
      "source": [
        "#Checking for null values in the test data\n",
        "print(test_data.isnull().sum())\n",
        "#There are no null values in our test data"
      ],
      "execution_count": 10,
      "outputs": [
        {
          "output_type": "stream",
          "text": [
            "Airline            0\n",
            "Date_of_Journey    0\n",
            "Source             0\n",
            "Destination        0\n",
            "Route              0\n",
            "Dep_Time           0\n",
            "Arrival_Time       0\n",
            "Duration           0\n",
            "Total_Stops        0\n",
            "Additional_Info    0\n",
            "dtype: int64\n"
          ],
          "name": "stdout"
        }
      ]
    },
    {
      "cell_type": "code",
      "metadata": {
        "id": "Eu8BHBnF5ELm"
      },
      "source": [
        "#Now,we will merge our training data and test data to perform data preprocessing.\n",
        "big_df=train_data.append(test_data,sort=False)"
      ],
      "execution_count": 11,
      "outputs": []
    },
    {
      "cell_type": "markdown",
      "metadata": {
        "id": "RweGNg1vxN4d"
      },
      "source": [
        "**Data Preprocessing**"
      ]
    },
    {
      "cell_type": "code",
      "metadata": {
        "id": "fhBkLUo75i3v"
      },
      "source": [
        "#Now I will create some new columns based on these columns.\n",
        "#Extracting the day,month,year,weekday from the Date column to know how the price has varied across different months,days etc.\n",
        "import datetime as dt\n",
        "big_df['Date_of_Journey']=pd.to_datetime(big_df.Date_of_Journey,format='%d/%m/%Y')\n",
        "big_df['Date']=big_df.Date_of_Journey.dt.day\n",
        "big_df['Month']=big_df.Date_of_Journey.dt.month\n",
        "big_df['Year']=big_df.Date_of_Journey.dt.year\n",
        "big_df['Day']=big_df.Date_of_Journey.dt.weekday"
      ],
      "execution_count": 12,
      "outputs": []
    },
    {
      "cell_type": "code",
      "metadata": {
        "id": "WkinJU1i7qh_"
      },
      "source": [
        "#Now we will drop the Date_of_Journey column\n",
        "big_df.drop('Date_of_Journey',axis=1,inplace=True)"
      ],
      "execution_count": 13,
      "outputs": []
    },
    {
      "cell_type": "code",
      "metadata": {
        "colab": {
          "base_uri": "https://localhost:8080/"
        },
        "id": "FQ7Xhjd_82Kx",
        "outputId": "29b68851-3f26-4471-f877-7592d5b9b231"
      },
      "source": [
        "#we will create another column now which will be based on the total stops.\n",
        "big_df['Total_Stops'].unique()"
      ],
      "execution_count": 14,
      "outputs": [
        {
          "output_type": "execute_result",
          "data": {
            "text/plain": [
              "array(['non-stop', '2 stops', '1 stop', '3 stops', '4 stops'],\n",
              "      dtype=object)"
            ]
          },
          "metadata": {},
          "execution_count": 14
        }
      ]
    },
    {
      "cell_type": "code",
      "metadata": {
        "colab": {
          "base_uri": "https://localhost:8080/"
        },
        "id": "4XQPH6sz9Cn1",
        "outputId": "12fece35-9768-4d24-fc79-6ccb0510d14e"
      },
      "source": [
        "big_df['Total_Stops']=big_df['Total_Stops'].replace('non-stop','0 stops') #Replacing the non stops with 0 stops.\n",
        "big_df['Total_Stops'].isnull().sum()"
      ],
      "execution_count": 15,
      "outputs": [
        {
          "output_type": "execute_result",
          "data": {
            "text/plain": [
              "0"
            ]
          },
          "metadata": {},
          "execution_count": 15
        }
      ]
    },
    {
      "cell_type": "code",
      "metadata": {
        "id": "w-Vn3FKF9PWx"
      },
      "source": [
        "big_df['Stops']=big_df['Total_Stops'].str.split(' ').str[0]"
      ],
      "execution_count": 16,
      "outputs": []
    },
    {
      "cell_type": "code",
      "metadata": {
        "id": "3M42H7fn-lK5"
      },
      "source": [
        "big_df.drop('Total_Stops',axis=1,inplace=True) #We are dropping this column because we have already created one based on stops."
      ],
      "execution_count": 17,
      "outputs": []
    },
    {
      "cell_type": "code",
      "metadata": {
        "id": "FbXFgKgdAh7f"
      },
      "source": [
        "#We will be calculating te duration in minutes of each flight using the duration column.\n",
        "import re\n",
        "big_df['Hours']=big_df['Duration'].str.extract('(\\d{1,}h)')\n",
        "big_df['Minutes']=big_df['Duration'].str.extract('(\\d{1,}m)')"
      ],
      "execution_count": 18,
      "outputs": []
    },
    {
      "cell_type": "code",
      "metadata": {
        "id": "fXisIS89EpfW"
      },
      "source": [
        "big_df['Hours']=big_df['Hours'].str.strip('h')\n",
        "big_df['Minutes']=big_df['Minutes'].str.strip('m')"
      ],
      "execution_count": 19,
      "outputs": []
    },
    {
      "cell_type": "code",
      "metadata": {
        "id": "jFNKNeq6F7N_"
      },
      "source": [
        "big_df['Hours']=big_df['Hours'].fillna(0)"
      ],
      "execution_count": 20,
      "outputs": []
    },
    {
      "cell_type": "code",
      "metadata": {
        "id": "UKlY5bxjGGTy"
      },
      "source": [
        "big_df['Minutes']=big_df['Minutes'].fillna(0)"
      ],
      "execution_count": 21,
      "outputs": []
    },
    {
      "cell_type": "code",
      "metadata": {
        "id": "7bdStKyGG1uU"
      },
      "source": [
        "big_df['Hours']=pd.to_numeric(big_df['Hours'])\n",
        "big_df['Minutes']=pd.to_numeric(big_df['Minutes'])\n",
        "big_df['Duration1']=(big_df['Hours']*60)+big_df['Minutes']"
      ],
      "execution_count": 22,
      "outputs": []
    },
    {
      "cell_type": "code",
      "metadata": {
        "id": "OA6XWVwHH29-"
      },
      "source": [
        "big_df[\"Duration1\"] =big_df[\"Duration1\"].astype(int)\n",
        "big_df[\"Day\"] = big_df[\"Day\"].astype(object)\n",
        "big_df[\"Month\"] = big_df[\"Month\"].astype(object)\n",
        "big_df[\"Date\"] = big_df[\"Date\"].astype(object)"
      ],
      "execution_count": 23,
      "outputs": []
    },
    {
      "cell_type": "code",
      "metadata": {
        "id": "oy8Fd8oKJSqP"
      },
      "source": [
        "#ye maine abhi run nhi kia hai big_df[\"Month\"]=big_df[\"Month\"].replace({3:\"March\",4:\"April\",5:\"May\",6:\"June\"})"
      ],
      "execution_count": 24,
      "outputs": []
    },
    {
      "cell_type": "code",
      "metadata": {
        "colab": {
          "base_uri": "https://localhost:8080/",
          "height": 108
        },
        "id": "DMKKJmqHJY16",
        "outputId": "c5f1cec5-1743-4018-dd49-83a56932828c"
      },
      "source": [
        "#Creating another column which will tell us whether the departure time is in morning,afternoon etc and same applies for the arrival column\n",
        "def deparrtime(x):\n",
        "    x=x.strip()\n",
        "    tt=(int)(x.split(':')[0])\n",
        "    if(tt>=5 and tt<11):\n",
        "        x='Morning'\n",
        "    elif(tt>=11 and tt<16):\n",
        "        x='Afternoon'    \n",
        "    elif(tt>=16 and tt<21):\n",
        "        x='Evening'\n",
        "    elif(tt>=21 or tt<5):\n",
        "        x='Night'\n",
        "    return x\n",
        "big_df['Dep_Time']=big_df['Dep_Time'].apply(deparrtime)\n",
        "big_df['Arrival_Time']=big_df['Arrival_Time'].apply(deparrtime)\n",
        "big_df.head(2)"
      ],
      "execution_count": 25,
      "outputs": [
        {
          "output_type": "execute_result",
          "data": {
            "text/html": [
              "<div>\n",
              "<style scoped>\n",
              "    .dataframe tbody tr th:only-of-type {\n",
              "        vertical-align: middle;\n",
              "    }\n",
              "\n",
              "    .dataframe tbody tr th {\n",
              "        vertical-align: top;\n",
              "    }\n",
              "\n",
              "    .dataframe thead th {\n",
              "        text-align: right;\n",
              "    }\n",
              "</style>\n",
              "<table border=\"1\" class=\"dataframe\">\n",
              "  <thead>\n",
              "    <tr style=\"text-align: right;\">\n",
              "      <th></th>\n",
              "      <th>Airline</th>\n",
              "      <th>Source</th>\n",
              "      <th>Destination</th>\n",
              "      <th>Route</th>\n",
              "      <th>Dep_Time</th>\n",
              "      <th>Arrival_Time</th>\n",
              "      <th>Duration</th>\n",
              "      <th>Additional_Info</th>\n",
              "      <th>Price</th>\n",
              "      <th>Date</th>\n",
              "      <th>Month</th>\n",
              "      <th>Year</th>\n",
              "      <th>Day</th>\n",
              "      <th>Stops</th>\n",
              "      <th>Hours</th>\n",
              "      <th>Minutes</th>\n",
              "      <th>Duration1</th>\n",
              "    </tr>\n",
              "  </thead>\n",
              "  <tbody>\n",
              "    <tr>\n",
              "      <th>0</th>\n",
              "      <td>IndiGo</td>\n",
              "      <td>Banglore</td>\n",
              "      <td>New Delhi</td>\n",
              "      <td>BLR → DEL</td>\n",
              "      <td>Night</td>\n",
              "      <td>Night</td>\n",
              "      <td>2h 50m</td>\n",
              "      <td>No info</td>\n",
              "      <td>3897.0</td>\n",
              "      <td>24</td>\n",
              "      <td>3</td>\n",
              "      <td>2019</td>\n",
              "      <td>6</td>\n",
              "      <td>0</td>\n",
              "      <td>2</td>\n",
              "      <td>50</td>\n",
              "      <td>170</td>\n",
              "    </tr>\n",
              "    <tr>\n",
              "      <th>1</th>\n",
              "      <td>Air India</td>\n",
              "      <td>Kolkata</td>\n",
              "      <td>Banglore</td>\n",
              "      <td>CCU → IXR → BBI → BLR</td>\n",
              "      <td>Morning</td>\n",
              "      <td>Afternoon</td>\n",
              "      <td>7h 25m</td>\n",
              "      <td>No info</td>\n",
              "      <td>7662.0</td>\n",
              "      <td>1</td>\n",
              "      <td>5</td>\n",
              "      <td>2019</td>\n",
              "      <td>2</td>\n",
              "      <td>2</td>\n",
              "      <td>7</td>\n",
              "      <td>25</td>\n",
              "      <td>445</td>\n",
              "    </tr>\n",
              "  </tbody>\n",
              "</table>\n",
              "</div>"
            ],
            "text/plain": [
              "     Airline    Source Destination  ... Hours Minutes Duration1\n",
              "0     IndiGo  Banglore   New Delhi  ...     2      50       170\n",
              "1  Air India   Kolkata    Banglore  ...     7      25       445\n",
              "\n",
              "[2 rows x 17 columns]"
            ]
          },
          "metadata": {},
          "execution_count": 25
        }
      ]
    },
    {
      "cell_type": "code",
      "metadata": {
        "id": "D20loH8oVUwa"
      },
      "source": [
        "#Splitting the Route column.\n",
        "big_df['Route_1']=big_df['Route'].str.split('→ ').str[0]\n",
        "big_df['Route_2']=big_df['Route'].str.split('→ ').str[1]\n",
        "big_df['Route_3']=big_df['Route'].str.split('→ ').str[2]\n",
        "big_df['Route_4']=big_df['Route'].str.split('→ ').str[3]\n",
        "big_df['Route_5']=big_df['Route'].str.split('→ ').str[4]"
      ],
      "execution_count": 26,
      "outputs": []
    },
    {
      "cell_type": "code",
      "metadata": {
        "id": "zJD31g-V-bKB"
      },
      "source": [
        "big_df['Route_1']=big_df['Route_1'].str.extract('(\\S*)')\n",
        "big_df['Route_2']=big_df['Route_2'].str.extract('(\\S*)')\n",
        "big_df['Route_3']=big_df['Route_3'].str.extract('(\\S*)')\n",
        "big_df['Route_4']=big_df['Route_4'].str.extract('(\\S*)')\n",
        "big_df['Route_5']=big_df['Route_5'].str.extract('(\\S*)')"
      ],
      "execution_count": 27,
      "outputs": []
    },
    {
      "cell_type": "code",
      "metadata": {
        "id": "N6uLqHI8dqnp"
      },
      "source": [
        "big_df['Date']=big_df['Date'].astype(int)\n",
        "big_df['Stops']=big_df['Stops'].astype(int)\n",
        "big_df['Day']=big_df['Day'].astype(int)"
      ],
      "execution_count": 28,
      "outputs": []
    },
    {
      "cell_type": "code",
      "metadata": {
        "colab": {
          "base_uri": "https://localhost:8080/"
        },
        "id": "t_rB78gifTg3",
        "outputId": "570d343a-c271-44dd-93f4-ea52ef28ed13"
      },
      "source": [
        "big_df['Destination'].value_counts()"
      ],
      "execution_count": 29,
      "outputs": [
        {
          "output_type": "execute_result",
          "data": {
            "text/plain": [
              "Cochin       5681\n",
              "Banglore     3581\n",
              "Delhi        1582\n",
              "New Delhi    1170\n",
              "Hyderabad     883\n",
              "Kolkata       456\n",
              "Name: Destination, dtype: int64"
            ]
          },
          "metadata": {},
          "execution_count": 29
        }
      ]
    },
    {
      "cell_type": "code",
      "metadata": {
        "colab": {
          "base_uri": "https://localhost:8080/"
        },
        "id": "jHA2loELJ9cK",
        "outputId": "ffd3ae03-8328-490e-e940-f7c68c1171f3"
      },
      "source": [
        "big_df['Airline'].value_counts() "
      ],
      "execution_count": 30,
      "outputs": [
        {
          "output_type": "execute_result",
          "data": {
            "text/plain": [
              "Jet Airways                          4746\n",
              "IndiGo                               2564\n",
              "Air India                            2191\n",
              "Multiple carriers                    1543\n",
              "SpiceJet                             1026\n",
              "Vistara                               608\n",
              "Air Asia                              405\n",
              "GoAir                                 240\n",
              "Multiple carriers Premium economy      16\n",
              "Jet Airways Business                    8\n",
              "Vistara Premium economy                 5\n",
              "Trujet                                  1\n",
              "Name: Airline, dtype: int64"
            ]
          },
          "metadata": {},
          "execution_count": 30
        }
      ]
    },
    {
      "cell_type": "code",
      "metadata": {
        "id": "yLTn73iTDKD4"
      },
      "source": [
        "#Since our data has some airlines which are not used by a larger proportion of people so we will group these uncommon airlines.\n",
        "list=['GoAir','Multiple carriers Premium economy','Jet Airways Business','Vistara Premium economy','Trujet','Air Asia']\n",
        "filt=big_df['Airline'].isin(list)\n",
        "big_df.loc[filt,'Airline']='Others'"
      ],
      "execution_count": 31,
      "outputs": []
    },
    {
      "cell_type": "code",
      "metadata": {
        "colab": {
          "base_uri": "https://localhost:8080/"
        },
        "id": "wMRFoZ_fXzjL",
        "outputId": "0fffdbdf-5188-439c-d4bb-e0dd8aaca203"
      },
      "source": [
        "big_df['Arrival_Time'].value_counts()"
      ],
      "execution_count": 32,
      "outputs": [
        {
          "output_type": "execute_result",
          "data": {
            "text/plain": [
              "Night        4608\n",
              "Evening      3877\n",
              "Morning      2454\n",
              "Afternoon    2414\n",
              "Name: Arrival_Time, dtype: int64"
            ]
          },
          "metadata": {},
          "execution_count": 32
        }
      ]
    },
    {
      "cell_type": "code",
      "metadata": {
        "colab": {
          "base_uri": "https://localhost:8080/"
        },
        "id": "uceAbcsJDcEa",
        "outputId": "29999176-adab-4363-8c87-bc1014404f5c"
      },
      "source": [
        "big_df['Airline'].value_counts()"
      ],
      "execution_count": 33,
      "outputs": [
        {
          "output_type": "execute_result",
          "data": {
            "text/plain": [
              "Jet Airways          4746\n",
              "IndiGo               2564\n",
              "Air India            2191\n",
              "Multiple carriers    1543\n",
              "SpiceJet             1026\n",
              "Others                675\n",
              "Vistara               608\n",
              "Name: Airline, dtype: int64"
            ]
          },
          "metadata": {},
          "execution_count": 33
        }
      ]
    },
    {
      "cell_type": "code",
      "metadata": {
        "colab": {
          "base_uri": "https://localhost:8080/",
          "height": 297
        },
        "id": "Db3IvB7e8qyE",
        "outputId": "a0b1934a-b3d6-4fc6-9131-09faed6896d4"
      },
      "source": [
        "big_df['Stops'].value_counts()\n",
        "big_df.head(5)"
      ],
      "execution_count": 34,
      "outputs": [
        {
          "output_type": "execute_result",
          "data": {
            "text/html": [
              "<div>\n",
              "<style scoped>\n",
              "    .dataframe tbody tr th:only-of-type {\n",
              "        vertical-align: middle;\n",
              "    }\n",
              "\n",
              "    .dataframe tbody tr th {\n",
              "        vertical-align: top;\n",
              "    }\n",
              "\n",
              "    .dataframe thead th {\n",
              "        text-align: right;\n",
              "    }\n",
              "</style>\n",
              "<table border=\"1\" class=\"dataframe\">\n",
              "  <thead>\n",
              "    <tr style=\"text-align: right;\">\n",
              "      <th></th>\n",
              "      <th>Airline</th>\n",
              "      <th>Source</th>\n",
              "      <th>Destination</th>\n",
              "      <th>Route</th>\n",
              "      <th>Dep_Time</th>\n",
              "      <th>Arrival_Time</th>\n",
              "      <th>Duration</th>\n",
              "      <th>Additional_Info</th>\n",
              "      <th>Price</th>\n",
              "      <th>Date</th>\n",
              "      <th>Month</th>\n",
              "      <th>Year</th>\n",
              "      <th>Day</th>\n",
              "      <th>Stops</th>\n",
              "      <th>Hours</th>\n",
              "      <th>Minutes</th>\n",
              "      <th>Duration1</th>\n",
              "      <th>Route_1</th>\n",
              "      <th>Route_2</th>\n",
              "      <th>Route_3</th>\n",
              "      <th>Route_4</th>\n",
              "      <th>Route_5</th>\n",
              "    </tr>\n",
              "  </thead>\n",
              "  <tbody>\n",
              "    <tr>\n",
              "      <th>0</th>\n",
              "      <td>IndiGo</td>\n",
              "      <td>Banglore</td>\n",
              "      <td>New Delhi</td>\n",
              "      <td>BLR → DEL</td>\n",
              "      <td>Night</td>\n",
              "      <td>Night</td>\n",
              "      <td>2h 50m</td>\n",
              "      <td>No info</td>\n",
              "      <td>3897.0</td>\n",
              "      <td>24</td>\n",
              "      <td>3</td>\n",
              "      <td>2019</td>\n",
              "      <td>6</td>\n",
              "      <td>0</td>\n",
              "      <td>2</td>\n",
              "      <td>50</td>\n",
              "      <td>170</td>\n",
              "      <td>BLR</td>\n",
              "      <td>DEL</td>\n",
              "      <td>NaN</td>\n",
              "      <td>NaN</td>\n",
              "      <td>NaN</td>\n",
              "    </tr>\n",
              "    <tr>\n",
              "      <th>1</th>\n",
              "      <td>Air India</td>\n",
              "      <td>Kolkata</td>\n",
              "      <td>Banglore</td>\n",
              "      <td>CCU → IXR → BBI → BLR</td>\n",
              "      <td>Morning</td>\n",
              "      <td>Afternoon</td>\n",
              "      <td>7h 25m</td>\n",
              "      <td>No info</td>\n",
              "      <td>7662.0</td>\n",
              "      <td>1</td>\n",
              "      <td>5</td>\n",
              "      <td>2019</td>\n",
              "      <td>2</td>\n",
              "      <td>2</td>\n",
              "      <td>7</td>\n",
              "      <td>25</td>\n",
              "      <td>445</td>\n",
              "      <td>CCU</td>\n",
              "      <td>IXR</td>\n",
              "      <td>BBI</td>\n",
              "      <td>BLR</td>\n",
              "      <td>NaN</td>\n",
              "    </tr>\n",
              "    <tr>\n",
              "      <th>2</th>\n",
              "      <td>Jet Airways</td>\n",
              "      <td>Delhi</td>\n",
              "      <td>Cochin</td>\n",
              "      <td>DEL → LKO → BOM → COK</td>\n",
              "      <td>Morning</td>\n",
              "      <td>Night</td>\n",
              "      <td>19h</td>\n",
              "      <td>No info</td>\n",
              "      <td>13882.0</td>\n",
              "      <td>9</td>\n",
              "      <td>6</td>\n",
              "      <td>2019</td>\n",
              "      <td>6</td>\n",
              "      <td>2</td>\n",
              "      <td>19</td>\n",
              "      <td>0</td>\n",
              "      <td>1140</td>\n",
              "      <td>DEL</td>\n",
              "      <td>LKO</td>\n",
              "      <td>BOM</td>\n",
              "      <td>COK</td>\n",
              "      <td>NaN</td>\n",
              "    </tr>\n",
              "    <tr>\n",
              "      <th>3</th>\n",
              "      <td>IndiGo</td>\n",
              "      <td>Kolkata</td>\n",
              "      <td>Banglore</td>\n",
              "      <td>CCU → NAG → BLR</td>\n",
              "      <td>Evening</td>\n",
              "      <td>Night</td>\n",
              "      <td>5h 25m</td>\n",
              "      <td>No info</td>\n",
              "      <td>6218.0</td>\n",
              "      <td>12</td>\n",
              "      <td>5</td>\n",
              "      <td>2019</td>\n",
              "      <td>6</td>\n",
              "      <td>1</td>\n",
              "      <td>5</td>\n",
              "      <td>25</td>\n",
              "      <td>325</td>\n",
              "      <td>CCU</td>\n",
              "      <td>NAG</td>\n",
              "      <td>BLR</td>\n",
              "      <td>NaN</td>\n",
              "      <td>NaN</td>\n",
              "    </tr>\n",
              "    <tr>\n",
              "      <th>4</th>\n",
              "      <td>IndiGo</td>\n",
              "      <td>Banglore</td>\n",
              "      <td>New Delhi</td>\n",
              "      <td>BLR → NAG → DEL</td>\n",
              "      <td>Evening</td>\n",
              "      <td>Night</td>\n",
              "      <td>4h 45m</td>\n",
              "      <td>No info</td>\n",
              "      <td>13302.0</td>\n",
              "      <td>1</td>\n",
              "      <td>3</td>\n",
              "      <td>2019</td>\n",
              "      <td>4</td>\n",
              "      <td>1</td>\n",
              "      <td>4</td>\n",
              "      <td>45</td>\n",
              "      <td>285</td>\n",
              "      <td>BLR</td>\n",
              "      <td>NAG</td>\n",
              "      <td>DEL</td>\n",
              "      <td>NaN</td>\n",
              "      <td>NaN</td>\n",
              "    </tr>\n",
              "  </tbody>\n",
              "</table>\n",
              "</div>"
            ],
            "text/plain": [
              "       Airline    Source Destination  ... Route_3 Route_4 Route_5\n",
              "0       IndiGo  Banglore   New Delhi  ...     NaN     NaN     NaN\n",
              "1    Air India   Kolkata    Banglore  ...     BBI     BLR     NaN\n",
              "2  Jet Airways     Delhi      Cochin  ...     BOM     COK     NaN\n",
              "3       IndiGo   Kolkata    Banglore  ...     BLR     NaN     NaN\n",
              "4       IndiGo  Banglore   New Delhi  ...     DEL     NaN     NaN\n",
              "\n",
              "[5 rows x 22 columns]"
            ]
          },
          "metadata": {},
          "execution_count": 34
        }
      ]
    },
    {
      "cell_type": "code",
      "metadata": {
        "id": "-InfPbInWPIO"
      },
      "source": [
        "list=['No check-in baggage included','1 Long layover','Change airports','Business class','No Info','1 Short layover','2 Long layover','Red-eye flight']\n",
        "filt=big_df['Additional_Info'].isin(list)\n",
        "big_df.loc[filt,'Additional_Info']='Others'"
      ],
      "execution_count": 35,
      "outputs": []
    },
    {
      "cell_type": "code",
      "metadata": {
        "colab": {
          "base_uri": "https://localhost:8080/"
        },
        "id": "s3x0pmv4fu07",
        "outputId": "42b3189b-bc61-4b92-cd6e-938ffc2b5e52"
      },
      "source": [
        "big_df.groupby(['Date'])['Price'].min('Price') #Since the min price does not vary a lot so we will eventually drop the date column.  "
      ],
      "execution_count": 36,
      "outputs": [
        {
          "output_type": "execute_result",
          "data": {
            "text/plain": [
              "Date\n",
              "1     1965.0\n",
              "3     1759.0\n",
              "6     1965.0\n",
              "9     1965.0\n",
              "12    1965.0\n",
              "15    1965.0\n",
              "18    1965.0\n",
              "21    1759.0\n",
              "24    1965.0\n",
              "27    1759.0\n",
              "Name: Price, dtype: float64"
            ]
          },
          "metadata": {},
          "execution_count": 36
        }
      ]
    },
    {
      "cell_type": "code",
      "metadata": {
        "colab": {
          "base_uri": "https://localhost:8080/"
        },
        "id": "aX3EKv-sVk_D",
        "outputId": "ea83293f-9756-4cc9-ca3e-0df895c7b4e0"
      },
      "source": [
        "big_df['Additional_Info'].value_counts()"
      ],
      "execution_count": 37,
      "outputs": [
        {
          "output_type": "execute_result",
          "data": {
            "text/plain": [
              "No info                        10492\n",
              "In-flight meal not included     2426\n",
              "Others                           435\n",
              "Name: Additional_Info, dtype: int64"
            ]
          },
          "metadata": {},
          "execution_count": 37
        }
      ]
    },
    {
      "cell_type": "code",
      "metadata": {
        "id": "ALouirrpOQa4"
      },
      "source": [
        "for i in range(len(big_df['Date'])):\n",
        "    if big_df['Date'].values[i] >1 and big_df['Date'].values[i] <=10:\n",
        "        big_df['Date'].values[i] = 1\n",
        "    elif big_df['Date'].values[i] >10 and big_df['Date'].values[i] <=20:\n",
        "        big_df['Date'].values[i] = 2\n",
        "    elif big_df['Date'].values[i] >20 and big_df['Date'].values[i] <=30:\n",
        "        big_df['Date'].values[i] = 3    \n",
        "    "
      ],
      "execution_count": 38,
      "outputs": []
    },
    {
      "cell_type": "code",
      "metadata": {
        "id": "7ZDNDycfOZgc"
      },
      "source": [
        "big_df['Date'] =big_df['Date'].replace((1,2,3),('Start','Middle','End'))"
      ],
      "execution_count": 39,
      "outputs": []
    },
    {
      "cell_type": "code",
      "metadata": {
        "colab": {
          "resources": {
            "http://localhost:8080/nbextensions/google.colab/files.js": {
              "data": "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",
              "ok": true,
              "headers": [
                [
                  "content-type",
                  "application/javascript"
                ]
              ],
              "status": 200,
              "status_text": ""
            }
          },
          "base_uri": "https://localhost:8080/",
          "height": 70
        },
        "id": "zWjZaCo9DmIu",
        "outputId": "c8bcc92a-eec6-4623-a387-12906458b5b6"
      },
      "source": [
        "from google.colab import files\n",
        "uploaded=files.upload()"
      ],
      "execution_count": 40,
      "outputs": [
        {
          "output_type": "display_data",
          "data": {
            "text/html": [
              "\n",
              "     <input type=\"file\" id=\"files-d135feab-ae17-4d22-bf7e-a469342911c5\" name=\"files[]\" multiple disabled\n",
              "        style=\"border:none\" />\n",
              "     <output id=\"result-d135feab-ae17-4d22-bf7e-a469342911c5\">\n",
              "      Upload widget is only available when the cell has been executed in the\n",
              "      current browser session. Please rerun this cell to enable.\n",
              "      </output>\n",
              "      <script src=\"/nbextensions/google.colab/files.js\"></script> "
            ],
            "text/plain": [
              "<IPython.core.display.HTML object>"
            ]
          },
          "metadata": {}
        },
        {
          "output_type": "stream",
          "text": [
            "Saving convertcsv (1).csv to convertcsv (1).csv\n"
          ],
          "name": "stdout"
        }
      ]
    },
    {
      "cell_type": "code",
      "metadata": {
        "id": "SKy92oTJDwhV"
      },
      "source": [
        "airports=pd.read_csv('convertcsv (1).csv')"
      ],
      "execution_count": 41,
      "outputs": []
    },
    {
      "cell_type": "code",
      "metadata": {
        "id": "1Htizhv1Dvv8"
      },
      "source": [
        "import re\n",
        "airports['Latitude1']=airports['Latitude'].str.extract(\"(\\d+\\.\\d+)\")\n",
        "airports['Longitude1']=airports['Longitude'].str.extract(\"(\\d+\\.\\d+)\")"
      ],
      "execution_count": 42,
      "outputs": []
    },
    {
      "cell_type": "code",
      "metadata": {
        "id": "MLcGH3ihmYVL"
      },
      "source": [
        "airports['Latitude1'] = airports['Latitude1'].astype(float)\n",
        "airports['Longitude1'] = airports['Longitude1'].astype(float)"
      ],
      "execution_count": 43,
      "outputs": []
    },
    {
      "cell_type": "code",
      "metadata": {
        "id": "jOV9ntxsnHqs",
        "colab": {
          "base_uri": "https://localhost:8080/"
        },
        "outputId": "08401fac-aee7-40e6-dc79-87da45a77457"
      },
      "source": [
        "airports.columns"
      ],
      "execution_count": 44,
      "outputs": [
        {
          "output_type": "execute_result",
          "data": {
            "text/plain": [
              "Index(['Kind', 'ICAO', 'FAA', 'IATA', 'City', 'Name', 'Latitude', 'Longitude',\n",
              "       'Max Runway', 'Airlines', 'Latitude1', 'Longitude1'],\n",
              "      dtype='object')"
            ]
          },
          "metadata": {},
          "execution_count": 44
        }
      ]
    },
    {
      "cell_type": "code",
      "metadata": {
        "id": "PSuVi9pLnNnX"
      },
      "source": [
        "airports1=airports.copy()"
      ],
      "execution_count": 45,
      "outputs": []
    },
    {
      "cell_type": "code",
      "metadata": {
        "id": "gF5AIb1hnRl3"
      },
      "source": [
        "airports1.drop(columns=['Kind', 'ICAO', 'FAA','City', 'Name', 'Latitude', 'Longitude','Max Runway', 'Airlines'],inplace=True) "
      ],
      "execution_count": 46,
      "outputs": []
    },
    {
      "cell_type": "code",
      "metadata": {
        "id": "5e0Bcb5pEKXv"
      },
      "source": [
        "airports1.drop(columns='Longitude1',inplace=True)"
      ],
      "execution_count": 47,
      "outputs": []
    },
    {
      "cell_type": "code",
      "metadata": {
        "id": "hGOpCa5eElUK"
      },
      "source": [
        "a=airports1.set_index('IATA').to_dict()"
      ],
      "execution_count": 48,
      "outputs": []
    },
    {
      "cell_type": "code",
      "metadata": {
        "id": "qaznpfuxE1vg",
        "colab": {
          "base_uri": "https://localhost:8080/"
        },
        "outputId": "2e5bfa1a-61e4-4405-ab9a-f7d86f0a6f13"
      },
      "source": [
        "print(a)"
      ],
      "execution_count": 49,
      "outputs": [
        {
          "output_type": "stream",
          "text": [
            "{'Latitude1': {nan: 13.136, 'IXK': 21.317, 'JSA': 26.889, 'AGX': 10.824, 'STV': 21.114, 'NMB': 20.434, 'RTC': 17.014, 'KLH': 16.665, 'BUP': 30.27, 'IXP': 32.234, 'HSS': 29.179, 'LUH': 30.855, 'VDY': 15.175, 'AKD': 20.699, 'SLV': 31.082, 'KUU': 31.877, 'GUX': 24.655, 'AGR': 27.156, 'TCR': 8.724, 'CDP': 14.51, 'PNY': 11.969, 'JLR': 23.178, 'KNU': 26.441, 'VGA': 16.53, 'TNI': 24.562, 'PAB': 21.988, 'RRK': 22.257, 'GAY': 24.744, 'MZU': 26.119, 'IXW': 22.813, 'DBD': 23.834, 'COH': 26.331, 'RUP': 26.14, 'IXQ': 24.132, 'IXH': 24.308, 'TEZ': 26.709, 'CBD': 9.153, 'ZER': 27.588, 'IXV': 28.175, 'IXA': 23.887, 'AMD': 23.077, 'AJL': 23.841, 'IXD': 25.44, 'NLE': 0.0, 'ATQ': 31.71, 'IXU': 19.863, 'RGH': 25.262, 'BLR': 13.198, 'BEK': 28.422, 'IXG': 15.859, 'BEP': 15.163, 'BHU': 21.752, 'BHO': 23.287, 'BBI': 20.244, 'BHJ': 23.288, 'BKB': 28.071, 'IXC': 30.673, 'COK': 10.152, 'CJB': 11.03, 'GOI': 15.381, 'DEP': 27.986, 'DED': 30.19, 'DEL': 28.567, 'DIB': 27.484, 'DMU': 25.884, 'DIU': 20.713, 'RDP': 23.622, 'DHM': 32.165, 'GOP': 26.74, 'GAU': 26.106, 'GWL': 26.293, 'HBX': 15.362, 'HYD': 17.231, 'BPM': 17.453, 'IMF': 24.76, 'IDR': 22.722, 'JGB': 19.074, 'JAI': 26.824, 'IXJ': 32.689, 'JGA': 22.466, 'PYB': 18.88, 'JDH': 26.251, 'JRH': 26.732, 'IXY': 23.113, 'CCJ': 11.137, 'HJR': 24.817, 'IXN': 24.062, 'CCU': 22.655, 'KTU': 25.16, 'IXS': 24.913, 'LKO': 26.761, 'MAA': 12.994, 'IXM': 9.835, 'LDA': 25.033, 'IXE': 12.961, 'BOM': 19.089, 'MYQ': 12.307, 'NAG': 21.092, 'NDC': 19.182, 'NVY': 11.613, 'IXI': 27.295, 'OMN': 18.281, 'PGH': 29.033, 'IXT': 28.066, 'PAT': 25.591, 'PBD': 21.649, 'IXZ': 11.641, 'PUT': 14.149, 'PNQ': 18.582, 'RPR': 21.18, 'RJA': 17.11, 'RAJ': 22.309, 'RMD': 18.701, 'IXR': 23.314, 'SXV': 11.783, 'SHL': 25.704, 'IXB': 26.681, 'SSE': 17.628, 'SXR': 33.987, 'TEI': 27.941, 'TJV': 10.722, 'TRZ': 10.765, 'TIR': 13.632, 'TRV': 8.482, 'UDR': 24.618, 'BDQ': 22.336, 'VNS': 25.452, 'VTZ': 17.721, 'WGC': 17.914}}\n"
          ],
          "name": "stdout"
        }
      ]
    },
    {
      "cell_type": "code",
      "metadata": {
        "id": "pcRqGlcCFDXp",
        "colab": {
          "base_uri": "https://localhost:8080/",
          "height": 733
        },
        "outputId": "df9b6857-7e66-4217-a89a-93945cd742d6"
      },
      "source": [
        "big_df"
      ],
      "execution_count": 50,
      "outputs": [
        {
          "output_type": "execute_result",
          "data": {
            "text/html": [
              "<div>\n",
              "<style scoped>\n",
              "    .dataframe tbody tr th:only-of-type {\n",
              "        vertical-align: middle;\n",
              "    }\n",
              "\n",
              "    .dataframe tbody tr th {\n",
              "        vertical-align: top;\n",
              "    }\n",
              "\n",
              "    .dataframe thead th {\n",
              "        text-align: right;\n",
              "    }\n",
              "</style>\n",
              "<table border=\"1\" class=\"dataframe\">\n",
              "  <thead>\n",
              "    <tr style=\"text-align: right;\">\n",
              "      <th></th>\n",
              "      <th>Airline</th>\n",
              "      <th>Source</th>\n",
              "      <th>Destination</th>\n",
              "      <th>Route</th>\n",
              "      <th>Dep_Time</th>\n",
              "      <th>Arrival_Time</th>\n",
              "      <th>Duration</th>\n",
              "      <th>Additional_Info</th>\n",
              "      <th>Price</th>\n",
              "      <th>Date</th>\n",
              "      <th>Month</th>\n",
              "      <th>Year</th>\n",
              "      <th>Day</th>\n",
              "      <th>Stops</th>\n",
              "      <th>Hours</th>\n",
              "      <th>Minutes</th>\n",
              "      <th>Duration1</th>\n",
              "      <th>Route_1</th>\n",
              "      <th>Route_2</th>\n",
              "      <th>Route_3</th>\n",
              "      <th>Route_4</th>\n",
              "      <th>Route_5</th>\n",
              "    </tr>\n",
              "  </thead>\n",
              "  <tbody>\n",
              "    <tr>\n",
              "      <th>0</th>\n",
              "      <td>IndiGo</td>\n",
              "      <td>Banglore</td>\n",
              "      <td>New Delhi</td>\n",
              "      <td>BLR → DEL</td>\n",
              "      <td>Night</td>\n",
              "      <td>Night</td>\n",
              "      <td>2h 50m</td>\n",
              "      <td>No info</td>\n",
              "      <td>3897.0</td>\n",
              "      <td>End</td>\n",
              "      <td>3</td>\n",
              "      <td>2019</td>\n",
              "      <td>6</td>\n",
              "      <td>0</td>\n",
              "      <td>2</td>\n",
              "      <td>50</td>\n",
              "      <td>170</td>\n",
              "      <td>BLR</td>\n",
              "      <td>DEL</td>\n",
              "      <td>NaN</td>\n",
              "      <td>NaN</td>\n",
              "      <td>NaN</td>\n",
              "    </tr>\n",
              "    <tr>\n",
              "      <th>1</th>\n",
              "      <td>Air India</td>\n",
              "      <td>Kolkata</td>\n",
              "      <td>Banglore</td>\n",
              "      <td>CCU → IXR → BBI → BLR</td>\n",
              "      <td>Morning</td>\n",
              "      <td>Afternoon</td>\n",
              "      <td>7h 25m</td>\n",
              "      <td>No info</td>\n",
              "      <td>7662.0</td>\n",
              "      <td>Start</td>\n",
              "      <td>5</td>\n",
              "      <td>2019</td>\n",
              "      <td>2</td>\n",
              "      <td>2</td>\n",
              "      <td>7</td>\n",
              "      <td>25</td>\n",
              "      <td>445</td>\n",
              "      <td>CCU</td>\n",
              "      <td>IXR</td>\n",
              "      <td>BBI</td>\n",
              "      <td>BLR</td>\n",
              "      <td>NaN</td>\n",
              "    </tr>\n",
              "    <tr>\n",
              "      <th>2</th>\n",
              "      <td>Jet Airways</td>\n",
              "      <td>Delhi</td>\n",
              "      <td>Cochin</td>\n",
              "      <td>DEL → LKO → BOM → COK</td>\n",
              "      <td>Morning</td>\n",
              "      <td>Night</td>\n",
              "      <td>19h</td>\n",
              "      <td>No info</td>\n",
              "      <td>13882.0</td>\n",
              "      <td>Start</td>\n",
              "      <td>6</td>\n",
              "      <td>2019</td>\n",
              "      <td>6</td>\n",
              "      <td>2</td>\n",
              "      <td>19</td>\n",
              "      <td>0</td>\n",
              "      <td>1140</td>\n",
              "      <td>DEL</td>\n",
              "      <td>LKO</td>\n",
              "      <td>BOM</td>\n",
              "      <td>COK</td>\n",
              "      <td>NaN</td>\n",
              "    </tr>\n",
              "    <tr>\n",
              "      <th>3</th>\n",
              "      <td>IndiGo</td>\n",
              "      <td>Kolkata</td>\n",
              "      <td>Banglore</td>\n",
              "      <td>CCU → NAG → BLR</td>\n",
              "      <td>Evening</td>\n",
              "      <td>Night</td>\n",
              "      <td>5h 25m</td>\n",
              "      <td>No info</td>\n",
              "      <td>6218.0</td>\n",
              "      <td>Middle</td>\n",
              "      <td>5</td>\n",
              "      <td>2019</td>\n",
              "      <td>6</td>\n",
              "      <td>1</td>\n",
              "      <td>5</td>\n",
              "      <td>25</td>\n",
              "      <td>325</td>\n",
              "      <td>CCU</td>\n",
              "      <td>NAG</td>\n",
              "      <td>BLR</td>\n",
              "      <td>NaN</td>\n",
              "      <td>NaN</td>\n",
              "    </tr>\n",
              "    <tr>\n",
              "      <th>4</th>\n",
              "      <td>IndiGo</td>\n",
              "      <td>Banglore</td>\n",
              "      <td>New Delhi</td>\n",
              "      <td>BLR → NAG → DEL</td>\n",
              "      <td>Evening</td>\n",
              "      <td>Night</td>\n",
              "      <td>4h 45m</td>\n",
              "      <td>No info</td>\n",
              "      <td>13302.0</td>\n",
              "      <td>Start</td>\n",
              "      <td>3</td>\n",
              "      <td>2019</td>\n",
              "      <td>4</td>\n",
              "      <td>1</td>\n",
              "      <td>4</td>\n",
              "      <td>45</td>\n",
              "      <td>285</td>\n",
              "      <td>BLR</td>\n",
              "      <td>NAG</td>\n",
              "      <td>DEL</td>\n",
              "      <td>NaN</td>\n",
              "      <td>NaN</td>\n",
              "    </tr>\n",
              "    <tr>\n",
              "      <th>...</th>\n",
              "      <td>...</td>\n",
              "      <td>...</td>\n",
              "      <td>...</td>\n",
              "      <td>...</td>\n",
              "      <td>...</td>\n",
              "      <td>...</td>\n",
              "      <td>...</td>\n",
              "      <td>...</td>\n",
              "      <td>...</td>\n",
              "      <td>...</td>\n",
              "      <td>...</td>\n",
              "      <td>...</td>\n",
              "      <td>...</td>\n",
              "      <td>...</td>\n",
              "      <td>...</td>\n",
              "      <td>...</td>\n",
              "      <td>...</td>\n",
              "      <td>...</td>\n",
              "      <td>...</td>\n",
              "      <td>...</td>\n",
              "      <td>...</td>\n",
              "      <td>...</td>\n",
              "    </tr>\n",
              "    <tr>\n",
              "      <th>2666</th>\n",
              "      <td>Air India</td>\n",
              "      <td>Kolkata</td>\n",
              "      <td>Banglore</td>\n",
              "      <td>CCU → DEL → BLR</td>\n",
              "      <td>Evening</td>\n",
              "      <td>Evening</td>\n",
              "      <td>23h 55m</td>\n",
              "      <td>No info</td>\n",
              "      <td>NaN</td>\n",
              "      <td>Start</td>\n",
              "      <td>6</td>\n",
              "      <td>2019</td>\n",
              "      <td>3</td>\n",
              "      <td>1</td>\n",
              "      <td>23</td>\n",
              "      <td>55</td>\n",
              "      <td>1435</td>\n",
              "      <td>CCU</td>\n",
              "      <td>DEL</td>\n",
              "      <td>BLR</td>\n",
              "      <td>NaN</td>\n",
              "      <td>NaN</td>\n",
              "    </tr>\n",
              "    <tr>\n",
              "      <th>2667</th>\n",
              "      <td>IndiGo</td>\n",
              "      <td>Kolkata</td>\n",
              "      <td>Banglore</td>\n",
              "      <td>CCU → BLR</td>\n",
              "      <td>Afternoon</td>\n",
              "      <td>Evening</td>\n",
              "      <td>2h 35m</td>\n",
              "      <td>No info</td>\n",
              "      <td>NaN</td>\n",
              "      <td>End</td>\n",
              "      <td>3</td>\n",
              "      <td>2019</td>\n",
              "      <td>2</td>\n",
              "      <td>0</td>\n",
              "      <td>2</td>\n",
              "      <td>35</td>\n",
              "      <td>155</td>\n",
              "      <td>CCU</td>\n",
              "      <td>BLR</td>\n",
              "      <td>NaN</td>\n",
              "      <td>NaN</td>\n",
              "      <td>NaN</td>\n",
              "    </tr>\n",
              "    <tr>\n",
              "      <th>2668</th>\n",
              "      <td>Jet Airways</td>\n",
              "      <td>Delhi</td>\n",
              "      <td>Cochin</td>\n",
              "      <td>DEL → BOM → COK</td>\n",
              "      <td>Night</td>\n",
              "      <td>Night</td>\n",
              "      <td>6h 35m</td>\n",
              "      <td>No info</td>\n",
              "      <td>NaN</td>\n",
              "      <td>Start</td>\n",
              "      <td>3</td>\n",
              "      <td>2019</td>\n",
              "      <td>2</td>\n",
              "      <td>1</td>\n",
              "      <td>6</td>\n",
              "      <td>35</td>\n",
              "      <td>395</td>\n",
              "      <td>DEL</td>\n",
              "      <td>BOM</td>\n",
              "      <td>COK</td>\n",
              "      <td>NaN</td>\n",
              "      <td>NaN</td>\n",
              "    </tr>\n",
              "    <tr>\n",
              "      <th>2669</th>\n",
              "      <td>Air India</td>\n",
              "      <td>Delhi</td>\n",
              "      <td>Cochin</td>\n",
              "      <td>DEL → BOM → COK</td>\n",
              "      <td>Night</td>\n",
              "      <td>Evening</td>\n",
              "      <td>15h 15m</td>\n",
              "      <td>No info</td>\n",
              "      <td>NaN</td>\n",
              "      <td>Start</td>\n",
              "      <td>3</td>\n",
              "      <td>2019</td>\n",
              "      <td>2</td>\n",
              "      <td>1</td>\n",
              "      <td>15</td>\n",
              "      <td>15</td>\n",
              "      <td>915</td>\n",
              "      <td>DEL</td>\n",
              "      <td>BOM</td>\n",
              "      <td>COK</td>\n",
              "      <td>NaN</td>\n",
              "      <td>NaN</td>\n",
              "    </tr>\n",
              "    <tr>\n",
              "      <th>2670</th>\n",
              "      <td>Multiple carriers</td>\n",
              "      <td>Delhi</td>\n",
              "      <td>Cochin</td>\n",
              "      <td>DEL → BOM → COK</td>\n",
              "      <td>Night</td>\n",
              "      <td>Evening</td>\n",
              "      <td>14h 20m</td>\n",
              "      <td>No info</td>\n",
              "      <td>NaN</td>\n",
              "      <td>Middle</td>\n",
              "      <td>6</td>\n",
              "      <td>2019</td>\n",
              "      <td>5</td>\n",
              "      <td>1</td>\n",
              "      <td>14</td>\n",
              "      <td>20</td>\n",
              "      <td>860</td>\n",
              "      <td>DEL</td>\n",
              "      <td>BOM</td>\n",
              "      <td>COK</td>\n",
              "      <td>NaN</td>\n",
              "      <td>NaN</td>\n",
              "    </tr>\n",
              "  </tbody>\n",
              "</table>\n",
              "<p>13353 rows × 22 columns</p>\n",
              "</div>"
            ],
            "text/plain": [
              "                Airline    Source Destination  ... Route_3 Route_4 Route_5\n",
              "0                IndiGo  Banglore   New Delhi  ...     NaN     NaN     NaN\n",
              "1             Air India   Kolkata    Banglore  ...     BBI     BLR     NaN\n",
              "2           Jet Airways     Delhi      Cochin  ...     BOM     COK     NaN\n",
              "3                IndiGo   Kolkata    Banglore  ...     BLR     NaN     NaN\n",
              "4                IndiGo  Banglore   New Delhi  ...     DEL     NaN     NaN\n",
              "...                 ...       ...         ...  ...     ...     ...     ...\n",
              "2666          Air India   Kolkata    Banglore  ...     BLR     NaN     NaN\n",
              "2667             IndiGo   Kolkata    Banglore  ...     NaN     NaN     NaN\n",
              "2668        Jet Airways     Delhi      Cochin  ...     COK     NaN     NaN\n",
              "2669          Air India     Delhi      Cochin  ...     COK     NaN     NaN\n",
              "2670  Multiple carriers     Delhi      Cochin  ...     COK     NaN     NaN\n",
              "\n",
              "[13353 rows x 22 columns]"
            ]
          },
          "metadata": {},
          "execution_count": 50
        }
      ]
    },
    {
      "cell_type": "code",
      "metadata": {
        "id": "TkiBQxrSFNHo"
      },
      "source": [
        "big_df['Route_11']=big_df['Route'].str.split('→ ').str[0]\n",
        "big_df['Route_22']=big_df['Route'].str.split('→ ').str[1]\n",
        "big_df['Route_33']=big_df['Route'].str.split('→ ').str[2]\n",
        "big_df['Route_44']=big_df['Route'].str.split('→ ').str[3]\n",
        "big_df['Route_55']=big_df['Route'].str.split('→ ').str[4]"
      ],
      "execution_count": 51,
      "outputs": []
    },
    {
      "cell_type": "code",
      "metadata": {
        "id": "aQfFeqKxFYDA"
      },
      "source": [
        "big_df['Route_11']=big_df['Route_11'].str.extract('(\\S*)')\n",
        "big_df['Route_22']=big_df['Route_22'].str.extract('(\\S*)')\n",
        "big_df['Route_33']=big_df['Route_33'].str.extract('(\\S*)')\n",
        "big_df['Route_44']=big_df['Route_44'].str.extract('(\\S*)')\n",
        "big_df['Route_55']=big_df['Route_55'].str.extract('(\\S*)')"
      ],
      "execution_count": 52,
      "outputs": []
    },
    {
      "cell_type": "code",
      "metadata": {
        "id": "sPgwlqUPG8wc"
      },
      "source": [
        "big_df['Route_11'].fillna(\"None\",inplace=True)\n",
        "big_df['Route_22'].fillna(\"None\",inplace=True)\n",
        "big_df['Route_33'].fillna(\"None\",inplace=True)\n",
        "big_df['Route_44'].fillna(\"None\",inplace=True)\n",
        "big_df['Route_55'].fillna(\"None\",inplace=True)"
      ],
      "execution_count": 53,
      "outputs": []
    },
    {
      "cell_type": "code",
      "metadata": {
        "id": "zFgBOhogFgUP"
      },
      "source": [
        "big_df['Route_11']=big_df['Route_11'].map({'IXK': 21.317, 'JSA': 26.889, 'AGX': 10.824, 'STV': 21.114, 'NMB': 20.434, 'RTC': 17.014, 'KLH': 16.665, 'BUP': 30.27, 'IXP': 32.234, 'HSS': 29.179, 'LUH': 30.855, 'VDY': 15.175, 'AKD': 20.699, 'SLV': 31.082, 'KUU': 31.877, 'GUX': 24.655, 'AGR': 27.156, 'TCR': 8.724, 'CDP': 14.51, 'PNY': 11.969, 'JLR': 23.178, 'KNU': 26.441, 'VGA': 16.53, 'TNI': 24.562, 'PAB': 21.988, 'RRK': 22.257, 'GAY': 24.744, 'MZU': 26.119, 'IXW': 22.813, 'DBD': 23.834, 'COH': 26.331, 'RUP': 26.14, 'IXQ': 24.132, 'IXH': 24.308, 'TEZ': 26.709, 'CBD': 9.153, 'ZER': 27.588, 'IXV': 28.175, 'IXA': 23.887, 'AMD': 23.077, 'AJL': 23.841, 'IXD': 25.44, 'NLE': 0.0, 'ATQ': 31.71, 'IXU': 19.863, 'RGH': 25.262, 'BLR': 13.198, 'BEK': 28.422, 'IXG': 15.859, 'BEP': 15.163, 'BHU': 21.752, 'BHO': 23.287, 'BBI': 20.244, 'BHJ': 23.288, 'BKB': 28.071, 'IXC': 30.673, 'COK': 10.152, 'CJB': 11.03, 'GOI': 15.381, 'DEP': 27.986, 'DED': 30.19, 'DEL': 28.567, 'DIB': 27.484, 'DMU': 25.884, 'DIU': 20.713, 'RDP': 23.622, 'DHM': 32.165, 'GOP': 26.74, 'GAU': 26.106, 'GWL': 26.293, 'HBX': 15.362, 'HYD': 17.231, 'BPM': 17.453, 'IMF': 24.76, 'IDR': 22.722, 'JGB': 19.074, 'JAI': 26.824, 'IXJ': 32.689, 'JGA': 22.466, 'PYB': 18.88, 'JDH': 26.251, 'JRH': 26.732, 'IXY': 23.113, 'CCJ': 11.137, 'HJR': 24.817, 'IXN': 24.062, 'CCU': 22.655, 'KTU': 25.16, 'IXS': 24.913, 'LKO': 26.761, 'MAA': 12.994, 'IXM': 9.835, 'LDA': 25.033, 'IXE': 12.961, 'BOM': 19.089, 'MYQ': 12.307, 'NAG': 21.092, 'NDC': 19.182, 'NVY': 11.613, 'IXI': 27.295, 'OMN': 18.281, 'PGH': 29.033, 'IXT': 28.066, 'PAT': 25.591, 'PBD': 21.649, 'IXZ': 11.641, 'PUT': 14.149, 'PNQ': 18.582, 'RPR': 21.18, 'RJA': 17.11, 'RAJ': 22.309, 'RMD': 18.701, 'IXR': 23.314, 'SXV': 11.783, 'SHL': 25.704, 'IXB': 26.681, 'SSE': 17.628, 'SXR': 33.987, 'TEI': 27.941, 'TJV': 10.722, 'TRZ': 10.765, 'TIR': 13.632, 'TRV': 8.482, 'UDR': 24.618, 'BDQ': 22.336, 'VNS': 25.452, 'VTZ': 17.721, 'WGC': 17.914})"
      ],
      "execution_count": 54,
      "outputs": []
    },
    {
      "cell_type": "code",
      "metadata": {
        "id": "huEaf4twGAa7"
      },
      "source": [
        "big_df['Route_22']=big_df['Route_22'].map({'IXK': 21.317, 'JSA': 26.889, 'AGX': 10.824, 'STV': 21.114, 'NMB': 20.434, 'RTC': 17.014, 'KLH': 16.665, 'BUP': 30.27, 'IXP': 32.234, 'HSS': 29.179, 'LUH': 30.855, 'VDY': 15.175, 'AKD': 20.699, 'SLV': 31.082, 'KUU': 31.877, 'GUX': 24.655, 'AGR': 27.156, 'TCR': 8.724, 'CDP': 14.51, 'PNY': 11.969, 'JLR': 23.178, 'KNU': 26.441, 'VGA': 16.53, 'TNI': 24.562, 'PAB': 21.988, 'RRK': 22.257, 'GAY': 24.744, 'MZU': 26.119, 'IXW': 22.813, 'DBD': 23.834, 'COH': 26.331, 'RUP': 26.14, 'IXQ': 24.132, 'IXH': 24.308, 'TEZ': 26.709, 'CBD': 9.153, 'ZER': 27.588, 'IXV': 28.175, 'IXA': 23.887, 'AMD': 23.077, 'AJL': 23.841, 'IXD': 25.44, 'NLE': 0.0, 'ATQ': 31.71, 'IXU': 19.863, 'RGH': 25.262, 'BLR': 13.198, 'BEK': 28.422, 'IXG': 15.859, 'BEP': 15.163, 'BHU': 21.752, 'BHO': 23.287, 'BBI': 20.244, 'BHJ': 23.288, 'BKB': 28.071, 'IXC': 30.673, 'COK': 10.152, 'CJB': 11.03, 'GOI': 15.381, 'DEP': 27.986, 'DED': 30.19, 'DEL': 28.567, 'DIB': 27.484, 'DMU': 25.884, 'DIU': 20.713, 'RDP': 23.622, 'DHM': 32.165, 'GOP': 26.74, 'GAU': 26.106, 'GWL': 26.293, 'HBX': 15.362, 'HYD': 17.231, 'BPM': 17.453, 'IMF': 24.76, 'IDR': 22.722, 'JGB': 19.074, 'JAI': 26.824, 'IXJ': 32.689, 'JGA': 22.466, 'PYB': 18.88, 'JDH': 26.251, 'JRH': 26.732, 'IXY': 23.113, 'CCJ': 11.137, 'HJR': 24.817, 'IXN': 24.062, 'CCU': 22.655, 'KTU': 25.16, 'IXS': 24.913, 'LKO': 26.761, 'MAA': 12.994, 'IXM': 9.835, 'LDA': 25.033, 'IXE': 12.961, 'BOM': 19.089, 'MYQ': 12.307, 'NAG': 21.092, 'NDC': 19.182, 'NVY': 11.613, 'IXI': 27.295, 'OMN': 18.281, 'PGH': 29.033, 'IXT': 28.066, 'PAT': 25.591, 'PBD': 21.649, 'IXZ': 11.641, 'PUT': 14.149, 'PNQ': 18.582, 'RPR': 21.18, 'RJA': 17.11, 'RAJ': 22.309, 'RMD': 18.701, 'IXR': 23.314, 'SXV': 11.783, 'SHL': 25.704, 'IXB': 26.681, 'SSE': 17.628, 'SXR': 33.987, 'TEI': 27.941, 'TJV': 10.722, 'TRZ': 10.765, 'TIR': 13.632, 'TRV': 8.482, 'UDR': 24.618, 'BDQ': 22.336, 'VNS': 25.452, 'VTZ': 17.721, 'WGC': 17.914})"
      ],
      "execution_count": 55,
      "outputs": []
    },
    {
      "cell_type": "code",
      "metadata": {
        "id": "CveggYXxHChm"
      },
      "source": [
        "big_df['Route_33']=big_df['Route_33'].map({'None':0,'IXK': 21.317, 'JSA': 26.889, 'AGX': 10.824, 'ISK':20.1129,'STV': 21.114, 'NMB': 20.434, 'RTC': 17.014, 'KLH': 16.665, 'BUP': 30.27, 'IXP': 32.234, 'HSS': 29.179, 'LUH': 30.855, 'VDY': 15.175, 'AKD': 20.699, 'SLV': 31.082, 'KUU': 31.877, 'GUX': 24.655, 'AGR': 27.156, 'TCR': 8.724, 'CDP': 14.51, 'PNY': 11.969, 'JLR': 23.178, 'KNU': 26.441, 'VGA': 16.53, 'TNI': 24.562, 'PAB': 21.988, 'RRK': 22.257, 'GAY': 24.744, 'MZU': 26.119, 'IXW': 22.813, 'DBD': 23.834, 'COH': 26.331, 'RUP': 26.14, 'IXQ': 24.132, 'IXH': 24.308, 'TEZ': 26.709, 'CBD': 9.153, 'ZER': 27.588, 'IXV': 28.175, 'IXA': 23.887, 'AMD': 23.077, 'AJL': 23.841, 'IXD': 25.44, 'NLE': 0.0, 'ATQ': 31.71, 'IXU': 19.863, 'RGH': 25.262, 'BLR': 13.198, 'BEK': 28.422, 'IXG': 15.859, 'BEP': 15.163, 'BHU': 21.752, 'BHO': 23.287, 'BBI': 20.244, 'BHJ': 23.288, 'BKB': 28.071, 'IXC': 30.673, 'COK': 10.152, 'CJB': 11.03, 'GOI': 15.381, 'DEP': 27.986, 'DED': 30.19, 'DEL': 28.567, 'DIB': 27.484, 'DMU': 25.884, 'DIU': 20.713, 'RDP': 23.622, 'DHM': 32.165, 'GOP': 26.74, 'GAU': 26.106, 'GWL': 26.293, 'HBX': 15.362, 'HYD': 17.231, 'BPM': 17.453, 'IMF': 24.76, 'IDR': 22.722, 'JGB': 19.074, 'JAI': 26.824, 'IXJ': 32.689, 'JGA': 22.466, 'PYB': 18.88, 'JDH': 26.251, 'JRH': 26.732, 'IXY': 23.113, 'CCJ': 11.137, 'HJR': 24.817, 'IXN': 24.062, 'CCU': 22.655, 'KTU': 25.16, 'IXS': 24.913, 'LKO': 26.761, 'MAA': 12.994, 'IXM': 9.835, 'LDA': 25.033, 'IXE': 12.961, 'BOM': 19.089, 'MYQ': 12.307, 'NAG': 21.092, 'NDC': 19.182, 'NVY': 11.613, 'IXI': 27.295, 'OMN': 18.281, 'PGH': 29.033, 'IXT': 28.066, 'PAT': 25.591, 'PBD': 21.649, 'IXZ': 11.641, 'PUT': 14.149, 'PNQ': 18.582, 'RPR': 21.18, 'RJA': 17.11, 'RAJ': 22.309, 'RMD': 18.701, 'IXR': 23.314, 'SXV': 11.783, 'SHL': 25.704, 'IXB': 26.681, 'SSE': 17.628, 'SXR': 33.987, 'TEI': 27.941, 'TJV': 10.722, 'TRZ': 10.765, 'TIR': 13.632, 'TRV': 8.482, 'UDR': 24.618, 'BDQ': 22.336, 'VNS': 25.452, 'VTZ': 17.721, 'WGC': 17.914})"
      ],
      "execution_count": 56,
      "outputs": []
    },
    {
      "cell_type": "code",
      "metadata": {
        "id": "iRAyu8NRHOiq"
      },
      "source": [
        "big_df['Route_44']=big_df['Route_44'].map({'None':0,'IXK': 21.317, 'JSA': 26.889, 'AGX': 10.824, 'STV': 21.114, 'NMB': 20.434, 'RTC': 17.014, 'KLH': 16.665, 'BUP': 30.27, 'IXP': 32.234, 'HSS': 29.179, 'LUH': 30.855, 'VDY': 15.175, 'AKD': 20.699, 'SLV': 31.082, 'KUU': 31.877, 'GUX': 24.655, 'AGR': 27.156, 'TCR': 8.724, 'CDP': 14.51, 'PNY': 11.969, 'JLR': 23.178, 'KNU': 26.441, 'VGA': 16.53, 'TNI': 24.562, 'PAB': 21.988, 'RRK': 22.257, 'GAY': 24.744, 'MZU': 26.119, 'IXW': 22.813, 'DBD': 23.834, 'COH': 26.331, 'RUP': 26.14, 'IXQ': 24.132, 'IXH': 24.308, 'TEZ': 26.709, 'CBD': 9.153, 'ZER': 27.588, 'IXV': 28.175, 'IXA': 23.887, 'AMD': 23.077, 'AJL': 23.841, 'IXD': 25.44, 'NLE': 0.0, 'ATQ': 31.71, 'IXU': 19.863, 'RGH': 25.262, 'BLR': 13.198, 'BEK': 28.422, 'IXG': 15.859, 'BEP': 15.163, 'BHU': 21.752, 'BHO': 23.287, 'BBI': 20.244, 'BHJ': 23.288, 'BKB': 28.071, 'IXC': 30.673, 'COK': 10.152, 'CJB': 11.03, 'GOI': 15.381, 'DEP': 27.986, 'DED': 30.19, 'DEL': 28.567, 'DIB': 27.484, 'DMU': 25.884, 'DIU': 20.713, 'RDP': 23.622, 'DHM': 32.165, 'GOP': 26.74, 'GAU': 26.106, 'GWL': 26.293, 'HBX': 15.362, 'HYD': 17.231, 'BPM': 17.453, 'IMF': 24.76, 'IDR': 22.722, 'JGB': 19.074, 'JAI': 26.824, 'IXJ': 32.689, 'JGA': 22.466, 'PYB': 18.88, 'JDH': 26.251, 'JRH': 26.732, 'IXY': 23.113, 'CCJ': 11.137, 'HJR': 24.817, 'IXN': 24.062, 'CCU': 22.655, 'KTU': 25.16, 'IXS': 24.913, 'LKO': 26.761, 'MAA': 12.994, 'IXM': 9.835, 'LDA': 25.033, 'IXE': 12.961, 'BOM': 19.089, 'MYQ': 12.307, 'NAG': 21.092, 'NDC': 19.182, 'NVY': 11.613, 'IXI': 27.295, 'OMN': 18.281, 'PGH': 29.033, 'IXT': 28.066, 'PAT': 25.591, 'PBD': 21.649, 'IXZ': 11.641, 'PUT': 14.149, 'PNQ': 18.582, 'RPR': 21.18, 'RJA': 17.11, 'RAJ': 22.309, 'RMD': 18.701, 'IXR': 23.314, 'SXV': 11.783, 'SHL': 25.704, 'IXB': 26.681, 'SSE': 17.628, 'SXR': 33.987, 'TEI': 27.941, 'TJV': 10.722, 'TRZ': 10.765, 'TIR': 13.632, 'TRV': 8.482, 'UDR': 24.618, 'BDQ': 22.336, 'VNS': 25.452, 'VTZ': 17.721, 'WGC': 17.914})"
      ],
      "execution_count": 57,
      "outputs": []
    },
    {
      "cell_type": "code",
      "metadata": {
        "id": "veHiWsKOHVhr"
      },
      "source": [
        "big_df['Route_55']=big_df['Route_55'].map({'None':0,'IXK': 21.317, 'JSA': 26.889, 'AGX': 10.824, 'STV': 21.114, 'NMB': 20.434, 'RTC': 17.014, 'KLH': 16.665, 'BUP': 30.27, 'IXP': 32.234, 'HSS': 29.179, 'LUH': 30.855, 'VDY': 15.175, 'AKD': 20.699, 'SLV': 31.082, 'KUU': 31.877, 'GUX': 24.655, 'AGR': 27.156, 'TCR': 8.724, 'CDP': 14.51, 'PNY': 11.969, 'JLR': 23.178, 'KNU': 26.441, 'VGA': 16.53, 'TNI': 24.562, 'PAB': 21.988, 'RRK': 22.257, 'GAY': 24.744, 'MZU': 26.119, 'IXW': 22.813, 'DBD': 23.834, 'COH': 26.331, 'RUP': 26.14, 'IXQ': 24.132, 'IXH': 24.308, 'TEZ': 26.709, 'CBD': 9.153, 'ZER': 27.588, 'IXV': 28.175, 'IXA': 23.887, 'AMD': 23.077, 'AJL': 23.841, 'IXD': 25.44, 'NLE': 0.0, 'ATQ': 31.71, 'IXU': 19.863, 'RGH': 25.262, 'BLR': 13.198, 'BEK': 28.422, 'IXG': 15.859, 'BEP': 15.163, 'BHU': 21.752, 'BHO': 23.287, 'BBI': 20.244, 'BHJ': 23.288, 'BKB': 28.071, 'IXC': 30.673, 'COK': 10.152, 'CJB': 11.03, 'GOI': 15.381, 'DEP': 27.986, 'DED': 30.19, 'DEL': 28.567, 'DIB': 27.484, 'DMU': 25.884, 'DIU': 20.713, 'RDP': 23.622, 'DHM': 32.165, 'GOP': 26.74, 'GAU': 26.106, 'GWL': 26.293, 'HBX': 15.362, 'HYD': 17.231, 'BPM': 17.453, 'IMF': 24.76, 'IDR': 22.722, 'JGB': 19.074, 'JAI': 26.824, 'IXJ': 32.689, 'JGA': 22.466, 'PYB': 18.88, 'JDH': 26.251, 'JRH': 26.732, 'IXY': 23.113, 'CCJ': 11.137, 'HJR': 24.817, 'IXN': 24.062, 'CCU': 22.655, 'KTU': 25.16, 'IXS': 24.913, 'LKO': 26.761, 'MAA': 12.994, 'IXM': 9.835, 'LDA': 25.033, 'IXE': 12.961, 'BOM': 19.089, 'MYQ': 12.307, 'NAG': 21.092, 'NDC': 19.182, 'NVY': 11.613, 'IXI': 27.295, 'OMN': 18.281, 'PGH': 29.033, 'IXT': 28.066, 'PAT': 25.591, 'PBD': 21.649, 'IXZ': 11.641, 'PUT': 14.149, 'PNQ': 18.582, 'RPR': 21.18, 'RJA': 17.11, 'RAJ': 22.309, 'RMD': 18.701, 'IXR': 23.314, 'SXV': 11.783, 'SHL': 25.704, 'IXB': 26.681, 'SSE': 17.628, 'SXR': 33.987, 'TEI': 27.941, 'TJV': 10.722, 'TRZ': 10.765, 'TIR': 13.632, 'TRV': 8.482, 'UDR': 24.618, 'BDQ': 22.336, 'VNS': 25.452, 'VTZ': 17.721, 'WGC': 17.914})"
      ],
      "execution_count": 58,
      "outputs": []
    },
    {
      "cell_type": "code",
      "metadata": {
        "id": "FmugtMrEHaEq",
        "colab": {
          "base_uri": "https://localhost:8080/"
        },
        "outputId": "252339a0-e344-471e-add4-9a71d285a468"
      },
      "source": [
        "big_df.shape"
      ],
      "execution_count": 59,
      "outputs": [
        {
          "output_type": "execute_result",
          "data": {
            "text/plain": [
              "(13353, 27)"
            ]
          },
          "metadata": {},
          "execution_count": 59
        }
      ]
    },
    {
      "cell_type": "code",
      "metadata": {
        "id": "h2yuXEUwHuWU"
      },
      "source": [
        "airports.drop(columns=['Kind', 'ICAO', 'FAA', 'City', 'Name', 'Latitude', 'Longitude','Max Runway', 'Airlines','Latitude1'],inplace=True)"
      ],
      "execution_count": 60,
      "outputs": []
    },
    {
      "cell_type": "code",
      "metadata": {
        "id": "_ZTYeyhUIUxn"
      },
      "source": [
        "b=airports.set_index('IATA').to_dict()"
      ],
      "execution_count": 61,
      "outputs": []
    },
    {
      "cell_type": "code",
      "metadata": {
        "id": "RtDlXeLFJqns"
      },
      "source": [
        "#creating new columns to extract the longitude of every location\n",
        "big_df['Route_11l']=big_df['Route'].str.split('→ ').str[0]\n",
        "big_df['Route_22l']=big_df['Route'].str.split('→ ').str[1]\n",
        "big_df['Route_33l']=big_df['Route'].str.split('→ ').str[2]\n",
        "big_df['Route_44l']=big_df['Route'].str.split('→ ').str[3]\n",
        "big_df['Route_55l']=big_df['Route'].str.split('→ ').str[4]"
      ],
      "execution_count": 62,
      "outputs": []
    },
    {
      "cell_type": "code",
      "metadata": {
        "id": "8CjDGr5oJyTG"
      },
      "source": [
        "big_df['Route_11l']=big_df['Route_11l'].str.extract('(\\S*)')\n",
        "big_df['Route_22l']=big_df['Route_22l'].str.extract('(\\S*)')\n",
        "big_df['Route_33l']=big_df['Route_33l'].str.extract('(\\S*)')\n",
        "big_df['Route_44l']=big_df['Route_44l'].str.extract('(\\S*)')\n",
        "big_df['Route_55l']=big_df['Route_55l'].str.extract('(\\S*)')"
      ],
      "execution_count": 63,
      "outputs": []
    },
    {
      "cell_type": "code",
      "metadata": {
        "id": "dSjlqLYEJ7pi"
      },
      "source": [
        "big_df['Route_11l'].fillna(\"None\",inplace=True)\n",
        "big_df['Route_22l'].fillna(\"None\",inplace=True)\n",
        "big_df['Route_33l'].fillna(\"None\",inplace=True)\n",
        "big_df['Route_44l'].fillna(\"None\",inplace=True)\n",
        "big_df['Route_55l'].fillna(\"None\",inplace=True)"
      ],
      "execution_count": 64,
      "outputs": []
    },
    {
      "cell_type": "code",
      "metadata": {
        "id": "qQizuRuHJWco",
        "colab": {
          "base_uri": "https://localhost:8080/"
        },
        "outputId": "5030c8b6-a954-4af3-c1fd-b14833bc4b24"
      },
      "source": [
        "print(b)"
      ],
      "execution_count": 65,
      "outputs": [
        {
          "output_type": "stream",
          "text": [
            "{'Longitude1': {nan: 77.606, 'IXK': 70.27, 'JSA': 70.865, 'AGX': 72.176, 'STV': 72.742, 'NMB': 72.843, 'RTC': 73.328, 'KLH': 74.289, 'BUP': 74.756, 'IXP': 75.635, 'HSS': 75.755, 'LUH': 75.953, 'VDY': 76.635, 'AKD': 77.059, 'SLV': 77.068, 'KUU': 77.154, 'GUX': 77.347, 'AGR': 77.961, 'TCR': 78.026, 'CDP': 78.773, 'PNY': 79.81, 'JLR': 80.052, 'KNU': 80.365, 'VGA': 80.797, 'TNI': 80.855, 'PAB': 82.111, 'RRK': 84.815, 'GAY': 84.951, 'MZU': 85.314, 'IXW': 86.169, 'DBD': 86.425, 'COH': 89.467, 'RUP': 89.91, 'IXQ': 91.814, 'IXH': 92.007, 'TEZ': 92.785, 'CBD': 92.82, 'ZER': 93.828, 'IXV': 94.802, 'IXA': 91.24, 'AMD': 72.635, 'AJL': 92.62, 'IXD': 81.734, 'NLE': 0.0, 'ATQ': 74.797, 'IXU': 75.398, 'RGH': 88.796, 'BLR': 77.706, 'BEK': 79.451, 'IXG': 74.618, 'BEP': 76.883, 'BHU': 72.185, 'BHO': 77.337, 'BBI': 85.818, 'BHJ': 69.67, 'BKB': 73.207, 'IXC': 76.789, 'COK': 76.402, 'CJB': 77.043, 'GOI': 73.831, 'DEP': 94.223, 'DED': 78.18, 'DEL': 77.103, 'DIB': 95.017, 'DMU': 93.771, 'DIU': 70.921, 'RDP': 87.243, 'DHM': 76.263, 'GOP': 83.45, 'GAU': 91.586, 'GWL': 78.228, 'HBX': 75.085, 'HYD': 78.43, 'BPM': 78.468, 'IMF': 93.897, 'IDR': 75.801, 'JGB': 82.037, 'JAI': 75.812, 'IXJ': 74.837, 'JGA': 70.013, 'PYB': 82.552, 'JDH': 73.049, 'JRH': 94.176, 'IXY': 70.1, 'CCJ': 75.955, 'HJR': 79.919, 'IXN': 91.604, 'CCU': 88.447, 'KTU': 75.846, 'IXS': 92.979, 'LKO': 80.889, 'MAA': 80.181, 'IXM': 78.093, 'LDA': 88.133, 'IXE': 74.89, 'BOM': 72.868, 'MYQ': 76.65, 'NAG': 79.047, 'NDC': 77.318, 'NVY': 79.527, 'IXI': 94.098, 'OMN': 76.057, 'PGH': 79.474, 'IXT': 95.336, 'PAT': 85.088, 'PBD': 69.657, 'IXZ': 92.73, 'PUT': 77.791, 'PNQ': 73.92, 'RPR': 81.739, 'RJA': 81.818, 'RAJ': 70.78, 'RMD': 79.392, 'IXR': 85.322, 'SXV': 78.066, 'SHL': 91.979, 'IXB': 88.329, 'SSE': 75.935, 'SXR': 74.774, 'TEI': 96.134, 'TJV': 79.102, 'TRZ': 78.71, 'TIR': 79.543, 'TRV': 76.92, 'UDR': 73.896, 'BDQ': 73.226, 'VNS': 82.859, 'VTZ': 83.224, 'WGC': 79.602}}\n"
          ],
          "name": "stdout"
        }
      ]
    },
    {
      "cell_type": "code",
      "metadata": {
        "id": "G5amy9ItKgkz"
      },
      "source": [
        "big_df['Route_22l']=big_df['Route_22l'].map({'None':0,'IXK': 70.27, 'JSA': 70.865, 'AGX': 72.176, 'STV': 72.742, 'NMB': 72.843, 'RTC': 73.328, 'KLH': 74.289, 'BUP': 74.756, 'IXP': 75.635, 'HSS': 75.755, 'LUH': 75.953, 'VDY': 76.635, 'AKD': 77.059, 'SLV': 77.068, 'KUU': 77.154, 'GUX': 77.347, 'AGR': 77.961, 'TCR': 78.026, 'CDP': 78.773, 'PNY': 79.81, 'JLR': 80.052, 'KNU': 80.365, 'VGA': 80.797, 'TNI': 80.855, 'PAB': 82.111, 'RRK': 84.815, 'GAY': 84.951, 'MZU': 85.314, 'IXW': 86.169, 'DBD': 86.425, 'COH': 89.467, 'RUP': 89.91, 'IXQ': 91.814, 'IXH': 92.007, 'TEZ': 92.785, 'CBD': 92.82, 'ZER': 93.828, 'IXV': 94.802, 'IXA': 91.24, 'AMD': 72.635, 'AJL': 92.62, 'IXD': 81.734, 'NLE': 0.0, 'ATQ': 74.797, 'IXU': 75.398, 'RGH': 88.796, 'BLR': 77.706, 'BEK': 79.451, 'IXG': 74.618, 'BEP': 76.883, 'BHU': 72.185, 'BHO': 77.337, 'BBI': 85.818, 'BHJ': 69.67, 'BKB': 73.207, 'IXC': 76.789, 'COK': 76.402, 'CJB': 77.043, 'GOI': 73.831, 'DEP': 94.223, 'DED': 78.18, 'DEL': 77.103, 'DIB': 95.017, 'DMU': 93.771, 'DIU': 70.921, 'RDP': 87.243, 'DHM': 76.263, 'GOP': 83.45, 'GAU': 91.586, 'GWL': 78.228, 'HBX': 75.085, 'HYD': 78.43, 'BPM': 78.468, 'IMF': 93.897, 'IDR': 75.801, 'JGB': 82.037, 'JAI': 75.812, 'IXJ': 74.837, 'JGA': 70.013, 'PYB': 82.552, 'JDH': 73.049, 'JRH': 94.176, 'IXY': 70.1, 'CCJ': 75.955, 'HJR': 79.919, 'IXN': 91.604, 'CCU': 88.447, 'KTU': 75.846, 'IXS': 92.979, 'LKO': 80.889, 'MAA': 80.181, 'IXM': 78.093, 'LDA': 88.133, 'IXE': 74.89, 'BOM': 72.868, 'MYQ': 76.65, 'NAG': 79.047, 'NDC': 77.318, 'NVY': 79.527, 'IXI': 94.098, 'OMN': 76.057, 'PGH': 79.474, 'IXT': 95.336, 'PAT': 85.088, 'PBD': 69.657, 'IXZ': 92.73, 'PUT': 77.791, 'PNQ': 73.92, 'RPR': 81.739, 'RJA': 81.818, 'RAJ': 70.78, 'RMD': 79.392, 'IXR': 85.322, 'SXV': 78.066, 'SHL': 91.979, 'IXB': 88.329, 'SSE': 75.935, 'SXR': 74.774, 'TEI': 96.134, 'TJV': 79.102, 'TRZ': 78.71, 'TIR': 79.543, 'TRV': 76.92, 'UDR': 73.896, 'BDQ': 73.226, 'VNS': 82.859, 'VTZ': 83.224, 'WGC': 79.602})"
      ],
      "execution_count": 66,
      "outputs": []
    },
    {
      "cell_type": "code",
      "metadata": {
        "id": "hCUexVdmLkg8"
      },
      "source": [
        "big_df['Route_33l']=big_df['Route_33l'].map({'None':0,'IXK': 70.27, 'JSA': 70.865, 'AGX': 72.176, 'STV': 72.742,'ISK':73.8938, 'NMB': 72.843, 'RTC': 73.328, 'KLH': 74.289, 'BUP': 74.756, 'IXP': 75.635, 'HSS': 75.755, 'LUH': 75.953, 'VDY': 76.635, 'AKD': 77.059, 'SLV': 77.068, 'KUU': 77.154, 'GUX': 77.347, 'AGR': 77.961, 'TCR': 78.026, 'CDP': 78.773, 'PNY': 79.81, 'JLR': 80.052, 'KNU': 80.365, 'VGA': 80.797, 'TNI': 80.855, 'PAB': 82.111, 'RRK': 84.815, 'GAY': 84.951, 'MZU': 85.314, 'IXW': 86.169, 'DBD': 86.425, 'COH': 89.467, 'RUP': 89.91, 'IXQ': 91.814, 'IXH': 92.007, 'TEZ': 92.785, 'CBD': 92.82, 'ZER': 93.828, 'IXV': 94.802, 'IXA': 91.24, 'AMD': 72.635, 'AJL': 92.62, 'IXD': 81.734, 'NLE': 0.0, 'ATQ': 74.797, 'IXU': 75.398, 'RGH': 88.796, 'BLR': 77.706, 'BEK': 79.451, 'IXG': 74.618, 'BEP': 76.883, 'BHU': 72.185, 'BHO': 77.337, 'BBI': 85.818, 'BHJ': 69.67, 'BKB': 73.207, 'IXC': 76.789, 'COK': 76.402, 'CJB': 77.043, 'GOI': 73.831, 'DEP': 94.223, 'DED': 78.18, 'DEL': 77.103, 'DIB': 95.017, 'DMU': 93.771, 'DIU': 70.921, 'RDP': 87.243, 'DHM': 76.263, 'GOP': 83.45, 'GAU': 91.586, 'GWL': 78.228, 'HBX': 75.085, 'HYD': 78.43, 'BPM': 78.468, 'IMF': 93.897, 'IDR': 75.801, 'JGB': 82.037, 'JAI': 75.812, 'IXJ': 74.837, 'JGA': 70.013, 'PYB': 82.552, 'JDH': 73.049, 'JRH': 94.176, 'IXY': 70.1, 'CCJ': 75.955, 'HJR': 79.919, 'IXN': 91.604, 'CCU': 88.447, 'KTU': 75.846, 'IXS': 92.979, 'LKO': 80.889, 'MAA': 80.181, 'IXM': 78.093, 'LDA': 88.133, 'IXE': 74.89, 'BOM': 72.868, 'MYQ': 76.65, 'NAG': 79.047, 'NDC': 77.318, 'NVY': 79.527, 'IXI': 94.098, 'OMN': 76.057, 'PGH': 79.474, 'IXT': 95.336, 'PAT': 85.088, 'PBD': 69.657, 'IXZ': 92.73, 'PUT': 77.791, 'PNQ': 73.92, 'RPR': 81.739, 'RJA': 81.818, 'RAJ': 70.78, 'RMD': 79.392, 'IXR': 85.322, 'SXV': 78.066, 'SHL': 91.979, 'IXB': 88.329, 'SSE': 75.935, 'SXR': 74.774, 'TEI': 96.134, 'TJV': 79.102, 'TRZ': 78.71, 'TIR': 79.543, 'TRV': 76.92, 'UDR': 73.896, 'BDQ': 73.226, 'VNS': 82.859, 'VTZ': 83.224, 'WGC': 79.602})"
      ],
      "execution_count": 67,
      "outputs": []
    },
    {
      "cell_type": "code",
      "metadata": {
        "id": "t51A_3MKLiC9"
      },
      "source": [
        "big_df['Route_11l']=big_df['Route_11l'].map({'None':0,'IXK': 70.27, 'JSA': 70.865, 'AGX': 72.176, 'STV': 72.742, 'NMB': 72.843, 'RTC': 73.328, 'KLH': 74.289, 'BUP': 74.756, 'IXP': 75.635, 'HSS': 75.755, 'LUH': 75.953, 'VDY': 76.635, 'AKD': 77.059, 'SLV': 77.068, 'KUU': 77.154, 'GUX': 77.347, 'AGR': 77.961, 'TCR': 78.026, 'CDP': 78.773, 'PNY': 79.81, 'JLR': 80.052, 'KNU': 80.365, 'VGA': 80.797, 'TNI': 80.855, 'PAB': 82.111, 'RRK': 84.815, 'GAY': 84.951, 'MZU': 85.314, 'IXW': 86.169, 'DBD': 86.425, 'COH': 89.467, 'RUP': 89.91, 'IXQ': 91.814, 'IXH': 92.007, 'TEZ': 92.785, 'CBD': 92.82, 'ZER': 93.828, 'IXV': 94.802, 'IXA': 91.24, 'AMD': 72.635, 'AJL': 92.62, 'IXD': 81.734, 'NLE': 0.0, 'ATQ': 74.797, 'IXU': 75.398, 'RGH': 88.796, 'BLR': 77.706, 'BEK': 79.451, 'IXG': 74.618, 'BEP': 76.883, 'BHU': 72.185, 'BHO': 77.337, 'BBI': 85.818, 'BHJ': 69.67, 'BKB': 73.207, 'IXC': 76.789, 'COK': 76.402, 'CJB': 77.043, 'GOI': 73.831, 'DEP': 94.223, 'DED': 78.18, 'DEL': 77.103, 'DIB': 95.017, 'DMU': 93.771, 'DIU': 70.921, 'RDP': 87.243, 'DHM': 76.263, 'GOP': 83.45, 'GAU': 91.586, 'GWL': 78.228, 'HBX': 75.085, 'HYD': 78.43, 'BPM': 78.468, 'IMF': 93.897, 'IDR': 75.801, 'JGB': 82.037, 'JAI': 75.812, 'IXJ': 74.837, 'JGA': 70.013, 'PYB': 82.552, 'JDH': 73.049, 'JRH': 94.176, 'IXY': 70.1, 'CCJ': 75.955, 'HJR': 79.919, 'IXN': 91.604, 'CCU': 88.447, 'KTU': 75.846, 'IXS': 92.979, 'LKO': 80.889, 'MAA': 80.181, 'IXM': 78.093, 'LDA': 88.133, 'IXE': 74.89, 'BOM': 72.868, 'MYQ': 76.65, 'NAG': 79.047, 'NDC': 77.318, 'NVY': 79.527, 'IXI': 94.098, 'OMN': 76.057, 'PGH': 79.474, 'IXT': 95.336, 'PAT': 85.088, 'PBD': 69.657, 'IXZ': 92.73, 'PUT': 77.791, 'PNQ': 73.92, 'RPR': 81.739, 'RJA': 81.818, 'RAJ': 70.78, 'RMD': 79.392, 'IXR': 85.322, 'SXV': 78.066, 'SHL': 91.979, 'IXB': 88.329, 'SSE': 75.935, 'SXR': 74.774, 'TEI': 96.134, 'TJV': 79.102, 'TRZ': 78.71, 'TIR': 79.543, 'TRV': 76.92, 'UDR': 73.896, 'BDQ': 73.226, 'VNS': 82.859, 'VTZ': 83.224, 'WGC': 79.602})"
      ],
      "execution_count": 68,
      "outputs": []
    },
    {
      "cell_type": "code",
      "metadata": {
        "id": "bt66ZeIZLzGX"
      },
      "source": [
        "big_df['Route_44l']=big_df['Route_44l'].map({'None':0,'IXK': 70.27, 'JSA': 70.865, 'AGX': 72.176, 'STV': 72.742, 'NMB': 72.843, 'RTC': 73.328, 'KLH': 74.289, 'BUP': 74.756, 'IXP': 75.635, 'HSS': 75.755, 'LUH': 75.953, 'VDY': 76.635, 'AKD': 77.059, 'SLV': 77.068, 'KUU': 77.154, 'GUX': 77.347, 'AGR': 77.961, 'TCR': 78.026, 'CDP': 78.773, 'PNY': 79.81, 'JLR': 80.052, 'KNU': 80.365, 'VGA': 80.797, 'TNI': 80.855, 'PAB': 82.111, 'RRK': 84.815, 'GAY': 84.951, 'MZU': 85.314, 'IXW': 86.169, 'DBD': 86.425, 'COH': 89.467, 'RUP': 89.91, 'IXQ': 91.814, 'IXH': 92.007, 'TEZ': 92.785, 'CBD': 92.82, 'ZER': 93.828, 'IXV': 94.802, 'IXA': 91.24, 'AMD': 72.635, 'AJL': 92.62, 'IXD': 81.734, 'NLE': 0.0, 'ATQ': 74.797, 'IXU': 75.398, 'RGH': 88.796, 'BLR': 77.706, 'BEK': 79.451, 'IXG': 74.618, 'BEP': 76.883, 'BHU': 72.185, 'BHO': 77.337, 'BBI': 85.818, 'BHJ': 69.67, 'BKB': 73.207, 'IXC': 76.789, 'COK': 76.402, 'CJB': 77.043, 'GOI': 73.831, 'DEP': 94.223, 'DED': 78.18, 'DEL': 77.103, 'DIB': 95.017, 'DMU': 93.771, 'DIU': 70.921, 'RDP': 87.243, 'DHM': 76.263, 'GOP': 83.45, 'GAU': 91.586, 'GWL': 78.228, 'HBX': 75.085, 'HYD': 78.43, 'BPM': 78.468, 'IMF': 93.897, 'IDR': 75.801, 'JGB': 82.037, 'JAI': 75.812, 'IXJ': 74.837, 'JGA': 70.013, 'PYB': 82.552, 'JDH': 73.049, 'JRH': 94.176, 'IXY': 70.1, 'CCJ': 75.955, 'HJR': 79.919, 'IXN': 91.604, 'CCU': 88.447, 'KTU': 75.846, 'IXS': 92.979, 'LKO': 80.889, 'MAA': 80.181, 'IXM': 78.093, 'LDA': 88.133, 'IXE': 74.89, 'BOM': 72.868, 'MYQ': 76.65, 'NAG': 79.047, 'NDC': 77.318, 'NVY': 79.527, 'IXI': 94.098, 'OMN': 76.057, 'PGH': 79.474, 'IXT': 95.336, 'PAT': 85.088, 'PBD': 69.657, 'IXZ': 92.73, 'PUT': 77.791, 'PNQ': 73.92, 'RPR': 81.739, 'RJA': 81.818, 'RAJ': 70.78, 'RMD': 79.392, 'IXR': 85.322, 'SXV': 78.066, 'SHL': 91.979, 'IXB': 88.329, 'SSE': 75.935, 'SXR': 74.774, 'TEI': 96.134, 'TJV': 79.102, 'TRZ': 78.71, 'TIR': 79.543, 'TRV': 76.92, 'UDR': 73.896, 'BDQ': 73.226, 'VNS': 82.859, 'VTZ': 83.224, 'WGC': 79.602})"
      ],
      "execution_count": 69,
      "outputs": []
    },
    {
      "cell_type": "code",
      "metadata": {
        "id": "PBtQxJmmL4Zk"
      },
      "source": [
        "big_df['Route_55l']=big_df['Route_55l'].map({'None':0,'IXK': 70.27, 'JSA': 70.865, 'AGX': 72.176, 'STV': 72.742, 'NMB': 72.843, 'RTC': 73.328, 'KLH': 74.289, 'BUP': 74.756, 'IXP': 75.635, 'HSS': 75.755, 'LUH': 75.953, 'VDY': 76.635, 'AKD': 77.059, 'SLV': 77.068, 'KUU': 77.154, 'GUX': 77.347, 'AGR': 77.961, 'TCR': 78.026, 'CDP': 78.773, 'PNY': 79.81, 'JLR': 80.052, 'KNU': 80.365, 'VGA': 80.797, 'TNI': 80.855, 'PAB': 82.111, 'RRK': 84.815, 'GAY': 84.951, 'MZU': 85.314, 'IXW': 86.169, 'DBD': 86.425, 'COH': 89.467, 'RUP': 89.91, 'IXQ': 91.814, 'IXH': 92.007, 'TEZ': 92.785, 'CBD': 92.82, 'ZER': 93.828, 'IXV': 94.802, 'IXA': 91.24, 'AMD': 72.635, 'AJL': 92.62, 'IXD': 81.734, 'NLE': 0.0, 'ATQ': 74.797, 'IXU': 75.398, 'RGH': 88.796, 'BLR': 77.706, 'BEK': 79.451, 'IXG': 74.618, 'BEP': 76.883, 'BHU': 72.185, 'BHO': 77.337, 'BBI': 85.818, 'BHJ': 69.67, 'BKB': 73.207, 'IXC': 76.789, 'COK': 76.402, 'CJB': 77.043, 'GOI': 73.831, 'DEP': 94.223, 'DED': 78.18, 'DEL': 77.103, 'DIB': 95.017, 'DMU': 93.771, 'DIU': 70.921, 'RDP': 87.243, 'DHM': 76.263, 'GOP': 83.45, 'GAU': 91.586, 'GWL': 78.228, 'HBX': 75.085, 'HYD': 78.43, 'BPM': 78.468, 'IMF': 93.897, 'IDR': 75.801, 'JGB': 82.037, 'JAI': 75.812, 'IXJ': 74.837, 'JGA': 70.013, 'PYB': 82.552, 'JDH': 73.049, 'JRH': 94.176, 'IXY': 70.1, 'CCJ': 75.955, 'HJR': 79.919, 'IXN': 91.604, 'CCU': 88.447, 'KTU': 75.846, 'IXS': 92.979, 'LKO': 80.889, 'MAA': 80.181, 'IXM': 78.093, 'LDA': 88.133, 'IXE': 74.89, 'BOM': 72.868, 'MYQ': 76.65, 'NAG': 79.047, 'NDC': 77.318, 'NVY': 79.527, 'IXI': 94.098, 'OMN': 76.057, 'PGH': 79.474, 'IXT': 95.336, 'PAT': 85.088, 'PBD': 69.657, 'IXZ': 92.73, 'PUT': 77.791, 'PNQ': 73.92, 'RPR': 81.739, 'RJA': 81.818, 'RAJ': 70.78, 'RMD': 79.392, 'IXR': 85.322, 'SXV': 78.066, 'SHL': 91.979, 'IXB': 88.329, 'SSE': 75.935, 'SXR': 74.774, 'TEI': 96.134, 'TJV': 79.102, 'TRZ': 78.71, 'TIR': 79.543, 'TRV': 76.92, 'UDR': 73.896, 'BDQ': 73.226, 'VNS': 82.859, 'VTZ': 83.224, 'WGC': 79.602})"
      ],
      "execution_count": 70,
      "outputs": []
    },
    {
      "cell_type": "code",
      "metadata": {
        "id": "kWdiqcz-L9rQ",
        "colab": {
          "base_uri": "https://localhost:8080/",
          "height": 68
        },
        "outputId": "43913051-3337-447f-b3bf-b4ce7401632d"
      },
      "source": [
        "big_df[big_df['Route_33'].isna()]"
      ],
      "execution_count": 71,
      "outputs": [
        {
          "output_type": "execute_result",
          "data": {
            "text/html": [
              "<div>\n",
              "<style scoped>\n",
              "    .dataframe tbody tr th:only-of-type {\n",
              "        vertical-align: middle;\n",
              "    }\n",
              "\n",
              "    .dataframe tbody tr th {\n",
              "        vertical-align: top;\n",
              "    }\n",
              "\n",
              "    .dataframe thead th {\n",
              "        text-align: right;\n",
              "    }\n",
              "</style>\n",
              "<table border=\"1\" class=\"dataframe\">\n",
              "  <thead>\n",
              "    <tr style=\"text-align: right;\">\n",
              "      <th></th>\n",
              "      <th>Airline</th>\n",
              "      <th>Source</th>\n",
              "      <th>Destination</th>\n",
              "      <th>Route</th>\n",
              "      <th>Dep_Time</th>\n",
              "      <th>Arrival_Time</th>\n",
              "      <th>Duration</th>\n",
              "      <th>Additional_Info</th>\n",
              "      <th>Price</th>\n",
              "      <th>Date</th>\n",
              "      <th>Month</th>\n",
              "      <th>Year</th>\n",
              "      <th>Day</th>\n",
              "      <th>Stops</th>\n",
              "      <th>Hours</th>\n",
              "      <th>Minutes</th>\n",
              "      <th>Duration1</th>\n",
              "      <th>Route_1</th>\n",
              "      <th>Route_2</th>\n",
              "      <th>Route_3</th>\n",
              "      <th>Route_4</th>\n",
              "      <th>Route_5</th>\n",
              "      <th>Route_11</th>\n",
              "      <th>Route_22</th>\n",
              "      <th>Route_33</th>\n",
              "      <th>Route_44</th>\n",
              "      <th>Route_55</th>\n",
              "      <th>Route_11l</th>\n",
              "      <th>Route_22l</th>\n",
              "      <th>Route_33l</th>\n",
              "      <th>Route_44l</th>\n",
              "      <th>Route_55l</th>\n",
              "    </tr>\n",
              "  </thead>\n",
              "  <tbody>\n",
              "  </tbody>\n",
              "</table>\n",
              "</div>"
            ],
            "text/plain": [
              "Empty DataFrame\n",
              "Columns: [Airline, Source, Destination, Route, Dep_Time, Arrival_Time, Duration, Additional_Info, Price, Date, Month, Year, Day, Stops, Hours, Minutes, Duration1, Route_1, Route_2, Route_3, Route_4, Route_5, Route_11, Route_22, Route_33, Route_44, Route_55, Route_11l, Route_22l, Route_33l, Route_44l, Route_55l]\n",
              "Index: []"
            ]
          },
          "metadata": {},
          "execution_count": 71
        }
      ]
    },
    {
      "cell_type": "code",
      "metadata": {
        "id": "GnC7b_ysfwXj",
        "colab": {
          "base_uri": "https://localhost:8080/"
        },
        "outputId": "d4c3822d-1119-44dc-de41-df400008c1e3"
      },
      "source": [
        "big_df.info()"
      ],
      "execution_count": 72,
      "outputs": [
        {
          "output_type": "stream",
          "text": [
            "<class 'pandas.core.frame.DataFrame'>\n",
            "Int64Index: 13353 entries, 0 to 2670\n",
            "Data columns (total 32 columns):\n",
            " #   Column           Non-Null Count  Dtype  \n",
            "---  ------           --------------  -----  \n",
            " 0   Airline          13353 non-null  object \n",
            " 1   Source           13353 non-null  object \n",
            " 2   Destination      13353 non-null  object \n",
            " 3   Route            13353 non-null  object \n",
            " 4   Dep_Time         13353 non-null  object \n",
            " 5   Arrival_Time     13353 non-null  object \n",
            " 6   Duration         13353 non-null  object \n",
            " 7   Additional_Info  13353 non-null  object \n",
            " 8   Price            10682 non-null  float64\n",
            " 9   Date             13353 non-null  object \n",
            " 10  Month            13353 non-null  object \n",
            " 11  Year             13353 non-null  int64  \n",
            " 12  Day              13353 non-null  int64  \n",
            " 13  Stops            13353 non-null  int64  \n",
            " 14  Hours            13353 non-null  int64  \n",
            " 15  Minutes          13353 non-null  int64  \n",
            " 16  Duration1        13353 non-null  int64  \n",
            " 17  Route_1          13353 non-null  object \n",
            " 18  Route_2          13353 non-null  object \n",
            " 19  Route_3          9013 non-null   object \n",
            " 20  Route_4          1957 non-null   object \n",
            " 21  Route_5          58 non-null     object \n",
            " 22  Route_11         13353 non-null  float64\n",
            " 23  Route_22         13353 non-null  float64\n",
            " 24  Route_33         13353 non-null  float64\n",
            " 25  Route_44         13353 non-null  float64\n",
            " 26  Route_55         13353 non-null  float64\n",
            " 27  Route_11l        13353 non-null  float64\n",
            " 28  Route_22l        13353 non-null  float64\n",
            " 29  Route_33l        13353 non-null  float64\n",
            " 30  Route_44l        13353 non-null  float64\n",
            " 31  Route_55l        13353 non-null  float64\n",
            "dtypes: float64(11), int64(6), object(15)\n",
            "memory usage: 3.4+ MB\n"
          ],
          "name": "stdout"
        }
      ]
    },
    {
      "cell_type": "code",
      "metadata": {
        "id": "_EzCeloBk6j9"
      },
      "source": [
        "#Defining a function to calculate the distance between the routes.\n",
        "def haversine_vectorize(Route_11, Route_11l, Route_22, Route_22l):\n",
        "    Route_11, Route_11l, Route_22, Route_22l = map(np.radians, [Route_11, Route_11l, Route_22, Route_22l])\n",
        "    newlon = Route_22l - Route_11l\n",
        "    newlat = Route_22 - Route_11\n",
        "    haver_formula = np.sin(newlat/2.0)**2 + np.cos(Route_11) * np.cos(Route_22) * np.sin(newlon/2.0)**2\n",
        "    dist = 2 * np.arcsin(np.sqrt(haver_formula ))\n",
        "    km = 6367 * dist #6367 for distance in KM for miles use 3958\n",
        "    return km"
      ],
      "execution_count": 73,
      "outputs": []
    },
    {
      "cell_type": "code",
      "metadata": {
        "id": "3n3J8VEaoqBp"
      },
      "source": [
        "big_df['Distance1']=haversine_vectorize(big_df['Route_11'], big_df['Route_11l'],big_df['Route_22'],big_df['Route_22l'])"
      ],
      "execution_count": 74,
      "outputs": []
    },
    {
      "cell_type": "code",
      "metadata": {
        "id": "eCNVZgAxpnm-"
      },
      "source": [
        "big_df['Distance2']=haversine_vectorize(big_df['Route_22'], big_df['Route_22l'],big_df['Route_33'],big_df['Route_33l'])"
      ],
      "execution_count": 75,
      "outputs": []
    },
    {
      "cell_type": "code",
      "metadata": {
        "id": "i1ZLJErmpwrD"
      },
      "source": [
        "big_df['Distance3']=haversine_vectorize(big_df['Route_33'], big_df['Route_33l'],big_df['Route_44'],big_df['Route_44l'])"
      ],
      "execution_count": 76,
      "outputs": []
    },
    {
      "cell_type": "code",
      "metadata": {
        "id": "_Ce33R_3p279"
      },
      "source": [
        "big_df['Distance4']=haversine_vectorize(big_df['Route_44'], big_df['Route_44l'],big_df['Route_55'],big_df['Route_55l'])"
      ],
      "execution_count": 77,
      "outputs": []
    },
    {
      "cell_type": "code",
      "metadata": {
        "id": "Ouijwcaap9jf",
        "colab": {
          "base_uri": "https://localhost:8080/"
        },
        "outputId": "623847ef-8560-4f62-b47d-19c722e4936b"
      },
      "source": [
        "big_df.info()"
      ],
      "execution_count": 78,
      "outputs": [
        {
          "output_type": "stream",
          "text": [
            "<class 'pandas.core.frame.DataFrame'>\n",
            "Int64Index: 13353 entries, 0 to 2670\n",
            "Data columns (total 36 columns):\n",
            " #   Column           Non-Null Count  Dtype  \n",
            "---  ------           --------------  -----  \n",
            " 0   Airline          13353 non-null  object \n",
            " 1   Source           13353 non-null  object \n",
            " 2   Destination      13353 non-null  object \n",
            " 3   Route            13353 non-null  object \n",
            " 4   Dep_Time         13353 non-null  object \n",
            " 5   Arrival_Time     13353 non-null  object \n",
            " 6   Duration         13353 non-null  object \n",
            " 7   Additional_Info  13353 non-null  object \n",
            " 8   Price            10682 non-null  float64\n",
            " 9   Date             13353 non-null  object \n",
            " 10  Month            13353 non-null  object \n",
            " 11  Year             13353 non-null  int64  \n",
            " 12  Day              13353 non-null  int64  \n",
            " 13  Stops            13353 non-null  int64  \n",
            " 14  Hours            13353 non-null  int64  \n",
            " 15  Minutes          13353 non-null  int64  \n",
            " 16  Duration1        13353 non-null  int64  \n",
            " 17  Route_1          13353 non-null  object \n",
            " 18  Route_2          13353 non-null  object \n",
            " 19  Route_3          9013 non-null   object \n",
            " 20  Route_4          1957 non-null   object \n",
            " 21  Route_5          58 non-null     object \n",
            " 22  Route_11         13353 non-null  float64\n",
            " 23  Route_22         13353 non-null  float64\n",
            " 24  Route_33         13353 non-null  float64\n",
            " 25  Route_44         13353 non-null  float64\n",
            " 26  Route_55         13353 non-null  float64\n",
            " 27  Route_11l        13353 non-null  float64\n",
            " 28  Route_22l        13353 non-null  float64\n",
            " 29  Route_33l        13353 non-null  float64\n",
            " 30  Route_44l        13353 non-null  float64\n",
            " 31  Route_55l        13353 non-null  float64\n",
            " 32  Distance1        13353 non-null  float64\n",
            " 33  Distance2        13353 non-null  float64\n",
            " 34  Distance3        13353 non-null  float64\n",
            " 35  Distance4        13353 non-null  float64\n",
            "dtypes: float64(15), int64(6), object(15)\n",
            "memory usage: 3.8+ MB\n"
          ],
          "name": "stdout"
        }
      ]
    },
    {
      "cell_type": "code",
      "metadata": {
        "id": "z78UMu4XqgYU"
      },
      "source": [
        "big_df['Total']=big_df['Distance1']+big_df['Distance2']+big_df['Distance3']+big_df['Distance4']"
      ],
      "execution_count": 79,
      "outputs": []
    },
    {
      "cell_type": "code",
      "metadata": {
        "id": "1iVw3hQ1rbwU",
        "colab": {
          "base_uri": "https://localhost:8080/",
          "height": 258
        },
        "outputId": "f90ea5e2-0f9b-4b0e-fd5d-56a5daab9bda"
      },
      "source": [
        "big_df.head(2)"
      ],
      "execution_count": 80,
      "outputs": [
        {
          "output_type": "execute_result",
          "data": {
            "text/html": [
              "<div>\n",
              "<style scoped>\n",
              "    .dataframe tbody tr th:only-of-type {\n",
              "        vertical-align: middle;\n",
              "    }\n",
              "\n",
              "    .dataframe tbody tr th {\n",
              "        vertical-align: top;\n",
              "    }\n",
              "\n",
              "    .dataframe thead th {\n",
              "        text-align: right;\n",
              "    }\n",
              "</style>\n",
              "<table border=\"1\" class=\"dataframe\">\n",
              "  <thead>\n",
              "    <tr style=\"text-align: right;\">\n",
              "      <th></th>\n",
              "      <th>Airline</th>\n",
              "      <th>Source</th>\n",
              "      <th>Destination</th>\n",
              "      <th>Route</th>\n",
              "      <th>Dep_Time</th>\n",
              "      <th>Arrival_Time</th>\n",
              "      <th>Duration</th>\n",
              "      <th>Additional_Info</th>\n",
              "      <th>Price</th>\n",
              "      <th>Date</th>\n",
              "      <th>Month</th>\n",
              "      <th>Year</th>\n",
              "      <th>Day</th>\n",
              "      <th>Stops</th>\n",
              "      <th>Hours</th>\n",
              "      <th>Minutes</th>\n",
              "      <th>Duration1</th>\n",
              "      <th>Route_1</th>\n",
              "      <th>Route_2</th>\n",
              "      <th>Route_3</th>\n",
              "      <th>Route_4</th>\n",
              "      <th>Route_5</th>\n",
              "      <th>Route_11</th>\n",
              "      <th>Route_22</th>\n",
              "      <th>Route_33</th>\n",
              "      <th>Route_44</th>\n",
              "      <th>Route_55</th>\n",
              "      <th>Route_11l</th>\n",
              "      <th>Route_22l</th>\n",
              "      <th>Route_33l</th>\n",
              "      <th>Route_44l</th>\n",
              "      <th>Route_55l</th>\n",
              "      <th>Distance1</th>\n",
              "      <th>Distance2</th>\n",
              "      <th>Distance3</th>\n",
              "      <th>Distance4</th>\n",
              "      <th>Total</th>\n",
              "    </tr>\n",
              "  </thead>\n",
              "  <tbody>\n",
              "    <tr>\n",
              "      <th>0</th>\n",
              "      <td>IndiGo</td>\n",
              "      <td>Banglore</td>\n",
              "      <td>New Delhi</td>\n",
              "      <td>BLR → DEL</td>\n",
              "      <td>Night</td>\n",
              "      <td>Night</td>\n",
              "      <td>2h 50m</td>\n",
              "      <td>No info</td>\n",
              "      <td>3897.0</td>\n",
              "      <td>End</td>\n",
              "      <td>3</td>\n",
              "      <td>2019</td>\n",
              "      <td>6</td>\n",
              "      <td>0</td>\n",
              "      <td>2</td>\n",
              "      <td>50</td>\n",
              "      <td>170</td>\n",
              "      <td>BLR</td>\n",
              "      <td>DEL</td>\n",
              "      <td>NaN</td>\n",
              "      <td>NaN</td>\n",
              "      <td>NaN</td>\n",
              "      <td>13.198</td>\n",
              "      <td>28.567</td>\n",
              "      <td>0.000</td>\n",
              "      <td>0.000</td>\n",
              "      <td>0.0</td>\n",
              "      <td>77.706</td>\n",
              "      <td>77.103</td>\n",
              "      <td>0.000</td>\n",
              "      <td>0.000</td>\n",
              "      <td>0.0</td>\n",
              "      <td>1709.019087</td>\n",
              "      <td>8745.024719</td>\n",
              "      <td>0.000000</td>\n",
              "      <td>0.000000</td>\n",
              "      <td>10454.043807</td>\n",
              "    </tr>\n",
              "    <tr>\n",
              "      <th>1</th>\n",
              "      <td>Air India</td>\n",
              "      <td>Kolkata</td>\n",
              "      <td>Banglore</td>\n",
              "      <td>CCU → IXR → BBI → BLR</td>\n",
              "      <td>Morning</td>\n",
              "      <td>Afternoon</td>\n",
              "      <td>7h 25m</td>\n",
              "      <td>No info</td>\n",
              "      <td>7662.0</td>\n",
              "      <td>Start</td>\n",
              "      <td>5</td>\n",
              "      <td>2019</td>\n",
              "      <td>2</td>\n",
              "      <td>2</td>\n",
              "      <td>7</td>\n",
              "      <td>25</td>\n",
              "      <td>445</td>\n",
              "      <td>CCU</td>\n",
              "      <td>IXR</td>\n",
              "      <td>BBI</td>\n",
              "      <td>BLR</td>\n",
              "      <td>NaN</td>\n",
              "      <td>22.655</td>\n",
              "      <td>23.314</td>\n",
              "      <td>20.244</td>\n",
              "      <td>13.198</td>\n",
              "      <td>0.0</td>\n",
              "      <td>88.447</td>\n",
              "      <td>85.322</td>\n",
              "      <td>85.818</td>\n",
              "      <td>77.706</td>\n",
              "      <td>0.0</td>\n",
              "      <td>327.968346</td>\n",
              "      <td>344.970976</td>\n",
              "      <td>1164.951588</td>\n",
              "      <td>8671.714372</td>\n",
              "      <td>10509.605282</td>\n",
              "    </tr>\n",
              "  </tbody>\n",
              "</table>\n",
              "</div>"
            ],
            "text/plain": [
              "     Airline    Source Destination  ...    Distance3    Distance4         Total\n",
              "0     IndiGo  Banglore   New Delhi  ...     0.000000     0.000000  10454.043807\n",
              "1  Air India   Kolkata    Banglore  ...  1164.951588  8671.714372  10509.605282\n",
              "\n",
              "[2 rows x 37 columns]"
            ]
          },
          "metadata": {},
          "execution_count": 80
        }
      ]
    },
    {
      "cell_type": "markdown",
      "metadata": {
        "id": "bdN7zAzxEF-7"
      },
      "source": [
        "**EXPLORATORY DATA ANALYSIS**"
      ]
    },
    {
      "cell_type": "code",
      "metadata": {
        "id": "E1QlqLQltJUb"
      },
      "source": [
        "#Performing the data analysis on our training data.\n",
        "train=big_df[0:10682] \n",
        "test=big_df[10682:]"
      ],
      "execution_count": 81,
      "outputs": []
    },
    {
      "cell_type": "code",
      "metadata": {
        "id": "E3dS0ymGmYTh",
        "colab": {
          "base_uri": "https://localhost:8080/",
          "height": 308
        },
        "outputId": "f8b767e1-8b23-4404-82cd-fde712663a40"
      },
      "source": [
        "##Journey month v/s total fare\n",
        "v1=sns.barplot(x='Month', y='Price', data=train,estimator=sum,palette='spring')\n",
        "v1.set_title('Monthv/sPrice')\n",
        "v1.set_ylabel('Price')\n",
        "v1.set_xlabel('Month of booking')\n",
        "v1.set_xticklabels(v1.get_xticklabels(), rotation=80)"
      ],
      "execution_count": 82,
      "outputs": [
        {
          "output_type": "execute_result",
          "data": {
            "text/plain": [
              "[Text(0, 0, '3'), Text(0, 0, '4'), Text(0, 0, '5'), Text(0, 0, '6')]"
            ]
          },
          "metadata": {},
          "execution_count": 82
        },
        {
          "output_type": "display_data",
          "data": {
            "image/png": "[encoded data removed]",
            "text/plain": [
              "<Figure size 432x288 with 1 Axes>"
            ]
          },
          "metadata": {
            "needs_background": "light"
          }
        }
      ]
    },
    {
      "cell_type": "code",
      "metadata": {
        "id": "EyZbscZ3mvUd",
        "colab": {
          "base_uri": "https://localhost:8080/"
        },
        "outputId": "e0bc9a8a-8787-4c68-ab88-b5124d72f5f1"
      },
      "source": [
        "#Counts of flights in these months\n",
        "train['Month'].value_counts()"
      ],
      "execution_count": 83,
      "outputs": [
        {
          "output_type": "execute_result",
          "data": {
            "text/plain": [
              "5    3465\n",
              "6    3414\n",
              "3    2724\n",
              "4    1079\n",
              "Name: Month, dtype: int64"
            ]
          },
          "metadata": {},
          "execution_count": 83
        }
      ]
    },
    {
      "cell_type": "code",
      "metadata": {
        "id": "Lr3iRW8qt4xD"
      },
      "source": [
        "#Analysis:We see that the total count of flight is maximum towards the month-May which can also be concluded from the above bar plot which shows that the sum of fare is maximum in May.This can be due to : Summer vacations in the month of may for schools/colleges, hence most families are also generally going for vacations around this time.The count of flights is lowest on the month of April, this can be because : Schools,colleges have their final exams around this time, offices are mostly busy in the month of April as it is the end of Quarter"
      ],
      "execution_count": 84,
      "outputs": []
    },
    {
      "cell_type": "code",
      "metadata": {
        "id": "KJQhnbTtn5oT",
        "colab": {
          "base_uri": "https://localhost:8080/",
          "height": 398
        },
        "outputId": "aea435b9-a712-4a00-efba-355b75429256"
      },
      "source": [
        "# Destination vs AveragePrice\n",
        "sns.catplot(y='Price',x='Destination',data= train.sort_values('Price',ascending=False))\n",
        "plt.show"
      ],
      "execution_count": 85,
      "outputs": [
        {
          "output_type": "execute_result",
          "data": {
            "text/plain": [
              "<function matplotlib.pyplot.show>"
            ]
          },
          "metadata": {},
          "execution_count": 85
        },
        {
          "output_type": "display_data",
          "data": {
            "image/png": "[encoded data removed]",
            "text/plain": [
              "<Figure size 360x360 with 1 Axes>"
            ]
          },
          "metadata": {
            "needs_background": "light"
          }
        }
      ]
    },
    {
      "cell_type": "code",
      "metadata": {
        "id": "I9zLYiaSqTzX"
      },
      "source": [
        "#Analysis\n",
        "#The airfare price range in Delhi & New Delhi is the maximum, this can be due to: Jet fuel prices in Delhi had increased in the year of 2018 by 26.4%, it is also the National Capital, political seat of power and a highly visited place for vacations(same for bangalore & cochin)\n",
        "#The same reasoning can be given for higher price range in delhi as the source of the flight.\n"
      ],
      "execution_count": 86,
      "outputs": []
    },
    {
      "cell_type": "code",
      "metadata": {
        "id": "RmCMb4W2qy6p",
        "colab": {
          "base_uri": "https://localhost:8080/",
          "height": 327
        },
        "outputId": "490e4a18-5602-4f1b-8b8f-ca7054aeeaac"
      },
      "source": [
        "# Source vs AveragePrice\n",
        "sns.catplot(y='Price',x='Source',data= train.sort_values('Price',ascending=False),kind=\"boxen\",height=4, aspect=2)\n",
        "plt.show"
      ],
      "execution_count": 87,
      "outputs": [
        {
          "output_type": "execute_result",
          "data": {
            "text/plain": [
              "<function matplotlib.pyplot.show>"
            ]
          },
          "metadata": {},
          "execution_count": 87
        },
        {
          "output_type": "display_data",
          "data": {
            "image/png": "[encoded data removed]",
            "text/plain": [
              "<Figure size 576x288 with 1 Axes>"
            ]
          },
          "metadata": {
            "needs_background": "light"
          }
        }
      ]
    },
    {
      "cell_type": "code",
      "metadata": {
        "id": "L56ysHgQq4qy",
        "colab": {
          "base_uri": "https://localhost:8080/",
          "height": 692
        },
        "outputId": "7735ada6-646c-4d26-c8bc-fc9bde225ecd"
      },
      "source": [
        "#Count of flights v/s Airline\n",
        "plt.figure(figsize = (15, 10))\n",
        "plt.title('Count of flights with different Airlines')\n",
        "ax=sns.countplot(x = 'Airline', data=train,palette='spring')\n",
        "plt.xlabel('Airline')\n",
        "plt.ylabel('Count of flights')\n",
        "plt.xticks(rotation = 90)\n",
        "for p in ax.patches:\n",
        "    ax.annotate(int(p.get_height()), (p.get_x()+0.25, p.get_height()+1), va='bottom',color= 'black')"
      ],
      "execution_count": 88,
      "outputs": [
        {
          "output_type": "display_data",
          "data": {
            "image/png": "[encoded data removed]",
            "text/plain": [
              "<Figure size 1080x720 with 1 Axes>"
            ]
          },
          "metadata": {
            "needs_background": "light"
          }
        }
      ]
    },
    {
      "cell_type": "code",
      "metadata": {
        "id": "4lXBRSfarTpv"
      },
      "source": [
        "#Analysis\n",
        "#from the diagram below we can see that jet airways Business has the highest price apart from the first airline almost all are having similar median"
      ],
      "execution_count": 89,
      "outputs": []
    },
    {
      "cell_type": "code",
      "metadata": {
        "id": "9RRpPOl_rg9l",
        "colab": {
          "base_uri": "https://localhost:8080/",
          "height": 327
        },
        "outputId": "4c84e81c-b2a1-4e2c-998a-a12d2a3988bb"
      },
      "source": [
        "# Airline vs AveragePrice\n",
        "sns.catplot(y='Price',x='Airline',data= train.sort_values('Price',ascending=False),kind=\"boxen\",height=4, aspect=2)\n",
        "plt.show"
      ],
      "execution_count": 90,
      "outputs": [
        {
          "output_type": "execute_result",
          "data": {
            "text/plain": [
              "<function matplotlib.pyplot.show>"
            ]
          },
          "metadata": {},
          "execution_count": 90
        },
        {
          "output_type": "display_data",
          "data": {
            "image/png": "[encoded data removed]",
            "text/plain": [
              "<Figure size 576x288 with 1 Axes>"
            ]
          },
          "metadata": {
            "needs_background": "light"
          }
        }
      ]
    },
    {
      "cell_type": "code",
      "metadata": {
        "id": "YJQwP1Ldrsif"
      },
      "source": [
        "#Analysis\n",
        "#Jet airways and Air India are full service airlines are and always highly priced due to various amenities they provide. Low-cost carriers like indigo and spicejet have a lower and similar fare range ."
      ],
      "execution_count": 91,
      "outputs": []
    },
    {
      "cell_type": "code",
      "metadata": {
        "id": "iStJQWK0r-fQ",
        "colab": {
          "base_uri": "https://localhost:8080/",
          "height": 295
        },
        "outputId": "69a915e2-f663-4938-862a-cac8e571f35f"
      },
      "source": [
        "#Duration v/s AveragePrice\n",
        "sns.scatterplot(data=train, x='Duration1', y='Price')"
      ],
      "execution_count": 92,
      "outputs": [
        {
          "output_type": "execute_result",
          "data": {
            "text/plain": [
              "<matplotlib.axes._subplots.AxesSubplot at 0x7fd438ee9590>"
            ]
          },
          "metadata": {},
          "execution_count": 92
        },
        {
          "output_type": "display_data",
          "data": {
            "image/png": "[encoded data removed]",
            "text/plain": [
              "<Figure size 432x288 with 1 Axes>"
            ]
          },
          "metadata": {
            "needs_background": "light"
          }
        }
      ]
    },
    {
      "cell_type": "code",
      "metadata": {
        "id": "Twbh4kCEsIR_"
      },
      "source": [
        "#Analysis\n",
        "#We know that duration( or distance) plays a major role in affecting air ticket prices but we see no such pattern here, as there must be there are other significant factors affecting air fare like type of airline, destination of flight, date of journey of flight(higher if collides with a public holiday)"
      ],
      "execution_count": 93,
      "outputs": []
    },
    {
      "cell_type": "code",
      "metadata": {
        "id": "tr-He2oNsP0s",
        "colab": {
          "base_uri": "https://localhost:8080/",
          "height": 387
        },
        "outputId": "fc8d6b11-85f6-4c70-9722-dad4db70f7f8"
      },
      "source": [
        "#Deptarure time v/s AveragePrice\n",
        "v2=sns.barplot(x='Dep_Time', y='Price', data=train,palette='spring')\n",
        "v2.set_ylabel('Price')\n",
        "v2.set_xlabel('Time of dept')\n",
        "v2.set_xticklabels(v2.get_xticklabels(), rotation=80)"
      ],
      "execution_count": 94,
      "outputs": [
        {
          "output_type": "execute_result",
          "data": {
            "text/plain": [
              "[Text(0, 0, 'Night'),\n",
              " Text(0, 0, 'Morning'),\n",
              " Text(0, 0, 'Evening'),\n",
              " Text(0, 0, 'Afternoon')]"
            ]
          },
          "metadata": {},
          "execution_count": 94
        },
        {
          "output_type": "display_data",
          "data": {
            "image/png": "[encoded data removed]",
            "text/plain": [
              "<Figure size 432x288 with 1 Axes>"
            ]
          },
          "metadata": {
            "needs_background": "light"
          }
        }
      ]
    },
    {
      "cell_type": "code",
      "metadata": {
        "id": "-gX5gVPYu7v3",
        "colab": {
          "base_uri": "https://localhost:8080/"
        },
        "outputId": "4d1a6739-0023-4a90-fa0f-a23b1a73930c"
      },
      "source": [
        "#time of departure vs counts of flight\n",
        "train['Dep_Time'].value_counts()"
      ],
      "execution_count": 95,
      "outputs": [
        {
          "output_type": "execute_result",
          "data": {
            "text/plain": [
              "Morning      4331\n",
              "Evening      2829\n",
              "Afternoon    2017\n",
              "Night        1505\n",
              "Name: Dep_Time, dtype: int64"
            ]
          },
          "metadata": {},
          "execution_count": 95
        }
      ]
    },
    {
      "cell_type": "code",
      "metadata": {
        "id": "S0y74ntXvnK8"
      },
      "source": [
        "#Analysis:\n",
        "#Early Morning flights are always cheaper and so are midnight flight prices.\n",
        "#Evening flight fares are expensive due to more demand and is the most convenient time to tarvel for most people."
      ],
      "execution_count": 96,
      "outputs": []
    },
    {
      "cell_type": "code",
      "metadata": {
        "id": "5ad7nCOn7BfP",
        "colab": {
          "base_uri": "https://localhost:8080/",
          "height": 401
        },
        "outputId": "0226c179-8fc0-4282-891a-4a9737270f35"
      },
      "source": [
        "#TIME OF ARRIVAL V/S average price\n",
        "v3=sns.barplot(x='Arrival_Time', y='Price', data=train,palette='spring')\n",
        "v3.set_title('TIME OF ARRIVALV/S PRICE')\n",
        "v3.set_ylabel('Price')\n",
        "v3.set_xlabel('Arrival_time')\n",
        "v3.set_xticklabels(v3.get_xticklabels(), rotation=80)"
      ],
      "execution_count": 97,
      "outputs": [
        {
          "output_type": "execute_result",
          "data": {
            "text/plain": [
              "[Text(0, 0, 'Night'),\n",
              " Text(0, 0, 'Afternoon'),\n",
              " Text(0, 0, 'Morning'),\n",
              " Text(0, 0, 'Evening')]"
            ]
          },
          "metadata": {},
          "execution_count": 97
        },
        {
          "output_type": "display_data",
          "data": {
            "image/png": "[encoded data removed]",
            "text/plain": [
              "<Figure size 432x288 with 1 Axes>"
            ]
          },
          "metadata": {
            "needs_background": "light"
          }
        }
      ]
    },
    {
      "cell_type": "code",
      "metadata": {
        "id": "cX4kuHrA8M0f",
        "colab": {
          "base_uri": "https://localhost:8080/",
          "height": 375
        },
        "outputId": "6b1713f6-f85a-429d-a1f5-959d0cf589ea"
      },
      "source": [
        "#total stops v/s average price\n",
        "v4=sns.barplot(x='Stops', y='Price', data=train)\n",
        "v4.set_title('NO. OF STOPS V/S PRICE')\n",
        "v4.set_ylabel('Price')\n",
        "v4.set_xlabel('Total_Stops')\n",
        "v4.set_xticklabels(v4.get_xticklabels(), rotation=80)"
      ],
      "execution_count": 98,
      "outputs": [
        {
          "output_type": "execute_result",
          "data": {
            "text/plain": [
              "[Text(0, 0, '0'),\n",
              " Text(0, 0, '1'),\n",
              " Text(0, 0, '2'),\n",
              " Text(0, 0, '3'),\n",
              " Text(0, 0, '4')]"
            ]
          },
          "metadata": {},
          "execution_count": 98
        },
        {
          "output_type": "display_data",
          "data": {
            "image/png": "[encoded data removed]",
            "text/plain": [
              "<Figure size 432x288 with 1 Axes>"
            ]
          },
          "metadata": {
            "needs_background": "light"
          }
        }
      ]
    },
    {
      "cell_type": "code",
      "metadata": {
        "id": "JcophoTM8T_P"
      },
      "source": [
        "#Analysis\n",
        "#As a direct/non-stop flight is accounting for fare of only one flight for a trip, its average fair is the least. As the no. of stops/layovers increase, the fare price goes up accounting for no. of flights and due to other resources being used up for the same.¶"
      ],
      "execution_count": 99,
      "outputs": []
    },
    {
      "cell_type": "code",
      "metadata": {
        "id": "8A4r-VBI8foo",
        "colab": {
          "base_uri": "https://localhost:8080/",
          "height": 406
        },
        "outputId": "ea6c50d7-124a-4202-f86d-9f653da45ac6"
      },
      "source": [
        "#WEEKDAY V/S average price\n",
        "v4=sns.barplot(x='Day', y='Price', data=train,palette='spring')\n",
        "v4.set_title('WEEKDAY V/S PRICE')\n",
        "v4.set_ylabel('Price')\n",
        "v4.set_xlabel('WEEKDAY')\n",
        "v4.set_xticklabels(v4.get_xticklabels(), rotation=80)"
      ],
      "execution_count": 100,
      "outputs": [
        {
          "output_type": "execute_result",
          "data": {
            "text/plain": [
              "[Text(0, 0, '0'),\n",
              " Text(0, 0, '1'),\n",
              " Text(0, 0, '2'),\n",
              " Text(0, 0, '3'),\n",
              " Text(0, 0, '4'),\n",
              " Text(0, 0, '5'),\n",
              " Text(0, 0, '6')]"
            ]
          },
          "metadata": {},
          "execution_count": 100
        },
        {
          "output_type": "display_data",
          "data": {
            "image/png": "[encoded data removed]",
            "text/plain": [
              "<Figure size 432x288 with 1 Axes>"
            ]
          },
          "metadata": {
            "needs_background": "light"
          }
        }
      ]
    },
    {
      "cell_type": "code",
      "metadata": {
        "id": "GKfBhkgb8qZT"
      },
      "source": [
        "#Analysis\n",
        "#We see that prices are highest on a friday, that may be because this is when airlines start raising prices to make up for the lower prices before and also because weekdays are off for most people so they are mostly travelling to or travelling back."
      ],
      "execution_count": 101,
      "outputs": []
    },
    {
      "cell_type": "code",
      "metadata": {
        "id": "53ifc7Aq83FQ",
        "colab": {
          "base_uri": "https://localhost:8080/",
          "height": 336
        },
        "outputId": "e37fca13-9e84-4051-c03d-68518e5a4dbd"
      },
      "source": [
        "#Journey_Day v/s Average price \n",
        "v5=sns.barplot(x='Date', y='Price', data=big_df,palette='spring')\n",
        "v5.set_title('Price of flights with different datess')\n",
        "v5.set_ylabel('Price')\n",
        "v5.set_xlabel('date')\n",
        "v5.set_xticklabels(v5.get_xticklabels(), rotation=80)"
      ],
      "execution_count": 102,
      "outputs": [
        {
          "output_type": "execute_result",
          "data": {
            "text/plain": [
              "[Text(0, 0, 'End'), Text(0, 0, 'Start'), Text(0, 0, 'Middle')]"
            ]
          },
          "metadata": {},
          "execution_count": 102
        },
        {
          "output_type": "display_data",
          "data": {
            "image/png": "[encoded data removed]",
            "text/plain": [
              "<Figure size 432x288 with 1 Axes>"
            ]
          },
          "metadata": {
            "needs_background": "light"
          }
        }
      ]
    },
    {
      "cell_type": "code",
      "metadata": {
        "id": "C39eweo79K8U"
      },
      "source": [
        "#Analysis\n",
        "#It looks like that there's a trend in the air fare when compared to the day of respective months, prices are higher\n",
        "#in the start of month but this is not a trend if you see from the broader perspective as this might be due to various reasons\n",
        "#For eg. the date of Journey is 10th March and people are booking towards 5th March or so, \n",
        "#this will lead to higher flight prices.(Prices increase as near you date of booking is to the date of journey). "
      ],
      "execution_count": 103,
      "outputs": []
    },
    {
      "cell_type": "code",
      "metadata": {
        "id": "jzMUOUwlKeSY",
        "colab": {
          "base_uri": "https://localhost:8080/"
        },
        "outputId": "fee4e7f6-5370-4cc7-a6dc-2c125555c55a"
      },
      "source": [
        "train.shape"
      ],
      "execution_count": 104,
      "outputs": [
        {
          "output_type": "execute_result",
          "data": {
            "text/plain": [
              "(10682, 37)"
            ]
          },
          "metadata": {},
          "execution_count": 104
        }
      ]
    },
    {
      "cell_type": "markdown",
      "metadata": {
        "id": "savsHTDyLLrE"
      },
      "source": [
        "Correlation tests\n",
        "Pearson correlation coefficient : To check the linear association between the target variable and independent continuous variable.(this condition needs to be met)\n",
        "\n",
        "H0: Two variables are not correlated\n",
        "\n",
        "H1: Two variables are correlated\n",
        "\n",
        "if p-value < 0.05, then we reject the null hypothesis and accept the H1, saying they are correlated.\n"
      ]
    },
    {
      "cell_type": "code",
      "metadata": {
        "id": "llr_nc9AKjrh",
        "colab": {
          "base_uri": "https://localhost:8080/",
          "height": 631
        },
        "outputId": "f8cffefe-5f26-4a33-9820-0fca8f52b38b"
      },
      "source": [
        "import scipy.stats as stats\n",
        "v5 = sns.jointplot(x='Duration1',y='Price',data=train,kind = 'reg')\n",
        "v5.annotate(stats.pearsonr)\n",
        "plt.show()"
      ],
      "execution_count": 105,
      "outputs": [
        {
          "output_type": "error",
          "ename": "AttributeError",
          "evalue": "ignored",
          "traceback": [
            "\u001b[0;31m---------------------------------------------------------------------------\u001b[0m",
            "\u001b[0;31mAttributeError\u001b[0m                            Traceback (most recent call last)",
            "\u001b[0;32m<ipython-input-105-ac37ee813cd3>\u001b[0m in \u001b[0;36m<module>\u001b[0;34m()\u001b[0m\n\u001b[1;32m      1\u001b[0m \u001b[0;32mimport\u001b[0m \u001b[0mscipy\u001b[0m\u001b[0;34m.\u001b[0m\u001b[0mstats\u001b[0m \u001b[0;32mas\u001b[0m \u001b[0mstats\u001b[0m\u001b[0;34m\u001b[0m\u001b[0;34m\u001b[0m\u001b[0m\n\u001b[1;32m      2\u001b[0m \u001b[0mv5\u001b[0m \u001b[0;34m=\u001b[0m \u001b[0msns\u001b[0m\u001b[0;34m.\u001b[0m\u001b[0mjointplot\u001b[0m\u001b[0;34m(\u001b[0m\u001b[0mx\u001b[0m\u001b[0;34m=\u001b[0m\u001b[0;34m'Duration1'\u001b[0m\u001b[0;34m,\u001b[0m\u001b[0my\u001b[0m\u001b[0;34m=\u001b[0m\u001b[0;34m'Price'\u001b[0m\u001b[0;34m,\u001b[0m\u001b[0mdata\u001b[0m\u001b[0;34m=\u001b[0m\u001b[0mtrain\u001b[0m\u001b[0;34m,\u001b[0m\u001b[0mkind\u001b[0m \u001b[0;34m=\u001b[0m \u001b[0;34m'reg'\u001b[0m\u001b[0;34m)\u001b[0m\u001b[0;34m\u001b[0m\u001b[0;34m\u001b[0m\u001b[0m\n\u001b[0;32m----> 3\u001b[0;31m \u001b[0mv5\u001b[0m\u001b[0;34m.\u001b[0m\u001b[0mannotate\u001b[0m\u001b[0;34m(\u001b[0m\u001b[0mstats\u001b[0m\u001b[0;34m.\u001b[0m\u001b[0mpearsonr\u001b[0m\u001b[0;34m)\u001b[0m\u001b[0;34m\u001b[0m\u001b[0;34m\u001b[0m\u001b[0m\n\u001b[0m\u001b[1;32m      4\u001b[0m \u001b[0mplt\u001b[0m\u001b[0;34m.\u001b[0m\u001b[0mshow\u001b[0m\u001b[0;34m(\u001b[0m\u001b[0;34m)\u001b[0m\u001b[0;34m\u001b[0m\u001b[0;34m\u001b[0m\u001b[0m\n",
            "\u001b[0;31mAttributeError\u001b[0m: 'JointGrid' object has no attribute 'annotate'"
          ]
        },
        {
          "output_type": "display_data",
          "data": {
            "image/png": "[encoded data removed]",
            "text/plain": [
              "<Figure size 432x432 with 3 Axes>"
            ]
          },
          "metadata": {
            "needs_background": "light"
          }
        }
      ]
    },
    {
      "cell_type": "markdown",
      "metadata": {
        "id": "7EsMi9aObPfU"
      },
      "source": [
        "We get p-value < 0.05, hence we accept H1 and say the target variable and continuous independent variable are correlated. r = 0.51 says they are moderately related.\n"
      ]
    },
    {
      "cell_type": "code",
      "metadata": {
        "id": "PVf5bT_7LkNY"
      },
      "source": [
        "import scipy.stats as stats\n",
        "v5 = sns.jointplot(x='Total',y='Price',data=train,kind = 'reg')\n",
        "v5.annotate(stats.pearsonr)\n",
        "plt.show()"
      ],
      "execution_count": null,
      "outputs": []
    },
    {
      "cell_type": "markdown",
      "metadata": {
        "id": "Ycuk0JKML0-k"
      },
      "source": [
        "We get p-value < 0.05, hence we accept H1 and say the target variable and continuous independent variable are correlated. r = 0.51 says they are moderately related.\n",
        "\n"
      ]
    },
    {
      "cell_type": "markdown",
      "metadata": {
        "id": "LWZQMOhN0A_o"
      },
      "source": [
        "**Feature Engineering**"
      ]
    },
    {
      "cell_type": "code",
      "metadata": {
        "id": "nbohzFDC0GWm"
      },
      "source": [
        "big_df['Month'] =big_df['Month'].replace((3, 4, 5, 6),(2,1,1,1))"
      ],
      "execution_count": 110,
      "outputs": []
    },
    {
      "cell_type": "code",
      "metadata": {
        "id": "Pa3D23DEMGQu"
      },
      "source": [
        "#Since the prices were relatively higher in the starting of the month so we have decided to give it a higher weight than the pther periods.\n",
        "big_df['Date'] =big_df['Date'].replace(('Start','Middle','End'),(2,1,1))"
      ],
      "execution_count": 111,
      "outputs": []
    },
    {
      "cell_type": "code",
      "metadata": {
        "colab": {
          "base_uri": "https://localhost:8080/"
        },
        "id": "Ujj1CbecH1_b",
        "outputId": "63b2d360-65a5-46dc-a3b8-c702df709369"
      },
      "source": [
        "big_df['Date'].unique()"
      ],
      "execution_count": 112,
      "outputs": [
        {
          "output_type": "execute_result",
          "data": {
            "text/plain": [
              "array([1, 2])"
            ]
          },
          "metadata": {},
          "execution_count": 112
        }
      ]
    },
    {
      "cell_type": "code",
      "metadata": {
        "id": "FVIsF1sW02mc"
      },
      "source": [
        "air_dum = pd.get_dummies(data = big_df, columns = ['Airline','Source','Destination', 'Dep_Time', 'Additional_Info'])"
      ],
      "execution_count": 113,
      "outputs": []
    },
    {
      "cell_type": "code",
      "metadata": {
        "colab": {
          "base_uri": "https://localhost:8080/",
          "height": 1000
        },
        "id": "Nq83Iqtq05kj",
        "outputId": "332eeb12-b722-4276-9b1d-abb91f3ec6c5"
      },
      "source": [
        "air_dum.head(10)"
      ],
      "execution_count": 114,
      "outputs": [
        {
          "output_type": "execute_result",
          "data": {
            "text/html": [
              "<div>\n",
              "<style scoped>\n",
              "    .dataframe tbody tr th:only-of-type {\n",
              "        vertical-align: middle;\n",
              "    }\n",
              "\n",
              "    .dataframe tbody tr th {\n",
              "        vertical-align: top;\n",
              "    }\n",
              "\n",
              "    .dataframe thead th {\n",
              "        text-align: right;\n",
              "    }\n",
              "</style>\n",
              "<table border=\"1\" class=\"dataframe\">\n",
              "  <thead>\n",
              "    <tr style=\"text-align: right;\">\n",
              "      <th></th>\n",
              "      <th>Route</th>\n",
              "      <th>Arrival_Time</th>\n",
              "      <th>Duration</th>\n",
              "      <th>Price</th>\n",
              "      <th>Date</th>\n",
              "      <th>Month</th>\n",
              "      <th>Year</th>\n",
              "      <th>Day</th>\n",
              "      <th>Stops</th>\n",
              "      <th>Hours</th>\n",
              "      <th>Minutes</th>\n",
              "      <th>Duration1</th>\n",
              "      <th>Route_1</th>\n",
              "      <th>Route_2</th>\n",
              "      <th>Route_3</th>\n",
              "      <th>Route_4</th>\n",
              "      <th>Route_5</th>\n",
              "      <th>Route_11</th>\n",
              "      <th>Route_22</th>\n",
              "      <th>Route_33</th>\n",
              "      <th>Route_44</th>\n",
              "      <th>Route_55</th>\n",
              "      <th>Route_11l</th>\n",
              "      <th>Route_22l</th>\n",
              "      <th>Route_33l</th>\n",
              "      <th>Route_44l</th>\n",
              "      <th>Route_55l</th>\n",
              "      <th>Distance1</th>\n",
              "      <th>Distance2</th>\n",
              "      <th>Distance3</th>\n",
              "      <th>Distance4</th>\n",
              "      <th>Total</th>\n",
              "      <th>Airline_Air India</th>\n",
              "      <th>Airline_IndiGo</th>\n",
              "      <th>Airline_Jet Airways</th>\n",
              "      <th>Airline_Multiple carriers</th>\n",
              "      <th>Airline_Others</th>\n",
              "      <th>Airline_SpiceJet</th>\n",
              "      <th>Airline_Vistara</th>\n",
              "      <th>Source_Banglore</th>\n",
              "      <th>Source_Chennai</th>\n",
              "      <th>Source_Delhi</th>\n",
              "      <th>Source_Kolkata</th>\n",
              "      <th>Source_Mumbai</th>\n",
              "      <th>Destination_Banglore</th>\n",
              "      <th>Destination_Cochin</th>\n",
              "      <th>Destination_Delhi</th>\n",
              "      <th>Destination_Hyderabad</th>\n",
              "      <th>Destination_Kolkata</th>\n",
              "      <th>Destination_New Delhi</th>\n",
              "      <th>Dep_Time_Afternoon</th>\n",
              "      <th>Dep_Time_Evening</th>\n",
              "      <th>Dep_Time_Morning</th>\n",
              "      <th>Dep_Time_Night</th>\n",
              "      <th>Additional_Info_In-flight meal not included</th>\n",
              "      <th>Additional_Info_No info</th>\n",
              "      <th>Additional_Info_Others</th>\n",
              "    </tr>\n",
              "  </thead>\n",
              "  <tbody>\n",
              "    <tr>\n",
              "      <th>0</th>\n",
              "      <td>BLR → DEL</td>\n",
              "      <td>Night</td>\n",
              "      <td>2h 50m</td>\n",
              "      <td>3897.0</td>\n",
              "      <td>1</td>\n",
              "      <td>2</td>\n",
              "      <td>2019</td>\n",
              "      <td>6</td>\n",
              "      <td>0</td>\n",
              "      <td>2</td>\n",
              "      <td>50</td>\n",
              "      <td>170</td>\n",
              "      <td>BLR</td>\n",
              "      <td>DEL</td>\n",
              "      <td>NaN</td>\n",
              "      <td>NaN</td>\n",
              "      <td>NaN</td>\n",
              "      <td>13.198</td>\n",
              "      <td>28.567</td>\n",
              "      <td>0.000</td>\n",
              "      <td>0.000</td>\n",
              "      <td>0.0</td>\n",
              "      <td>77.706</td>\n",
              "      <td>77.103</td>\n",
              "      <td>0.000</td>\n",
              "      <td>0.000</td>\n",
              "      <td>0.0</td>\n",
              "      <td>1709.019087</td>\n",
              "      <td>8745.024719</td>\n",
              "      <td>0.000000</td>\n",
              "      <td>0.000000</td>\n",
              "      <td>10454.043807</td>\n",
              "      <td>0</td>\n",
              "      <td>1</td>\n",
              "      <td>0</td>\n",
              "      <td>0</td>\n",
              "      <td>0</td>\n",
              "      <td>0</td>\n",
              "      <td>0</td>\n",
              "      <td>1</td>\n",
              "      <td>0</td>\n",
              "      <td>0</td>\n",
              "      <td>0</td>\n",
              "      <td>0</td>\n",
              "      <td>0</td>\n",
              "      <td>0</td>\n",
              "      <td>0</td>\n",
              "      <td>0</td>\n",
              "      <td>0</td>\n",
              "      <td>1</td>\n",
              "      <td>0</td>\n",
              "      <td>0</td>\n",
              "      <td>0</td>\n",
              "      <td>1</td>\n",
              "      <td>0</td>\n",
              "      <td>1</td>\n",
              "      <td>0</td>\n",
              "    </tr>\n",
              "    <tr>\n",
              "      <th>1</th>\n",
              "      <td>CCU → IXR → BBI → BLR</td>\n",
              "      <td>Afternoon</td>\n",
              "      <td>7h 25m</td>\n",
              "      <td>7662.0</td>\n",
              "      <td>2</td>\n",
              "      <td>1</td>\n",
              "      <td>2019</td>\n",
              "      <td>2</td>\n",
              "      <td>2</td>\n",
              "      <td>7</td>\n",
              "      <td>25</td>\n",
              "      <td>445</td>\n",
              "      <td>CCU</td>\n",
              "      <td>IXR</td>\n",
              "      <td>BBI</td>\n",
              "      <td>BLR</td>\n",
              "      <td>NaN</td>\n",
              "      <td>22.655</td>\n",
              "      <td>23.314</td>\n",
              "      <td>20.244</td>\n",
              "      <td>13.198</td>\n",
              "      <td>0.0</td>\n",
              "      <td>88.447</td>\n",
              "      <td>85.322</td>\n",
              "      <td>85.818</td>\n",
              "      <td>77.706</td>\n",
              "      <td>0.0</td>\n",
              "      <td>327.968346</td>\n",
              "      <td>344.970976</td>\n",
              "      <td>1164.951588</td>\n",
              "      <td>8671.714372</td>\n",
              "      <td>10509.605282</td>\n",
              "      <td>1</td>\n",
              "      <td>0</td>\n",
              "      <td>0</td>\n",
              "      <td>0</td>\n",
              "      <td>0</td>\n",
              "      <td>0</td>\n",
              "      <td>0</td>\n",
              "      <td>0</td>\n",
              "      <td>0</td>\n",
              "      <td>0</td>\n",
              "      <td>1</td>\n",
              "      <td>0</td>\n",
              "      <td>1</td>\n",
              "      <td>0</td>\n",
              "      <td>0</td>\n",
              "      <td>0</td>\n",
              "      <td>0</td>\n",
              "      <td>0</td>\n",
              "      <td>0</td>\n",
              "      <td>0</td>\n",
              "      <td>1</td>\n",
              "      <td>0</td>\n",
              "      <td>0</td>\n",
              "      <td>1</td>\n",
              "      <td>0</td>\n",
              "    </tr>\n",
              "    <tr>\n",
              "      <th>2</th>\n",
              "      <td>DEL → LKO → BOM → COK</td>\n",
              "      <td>Night</td>\n",
              "      <td>19h</td>\n",
              "      <td>13882.0</td>\n",
              "      <td>2</td>\n",
              "      <td>1</td>\n",
              "      <td>2019</td>\n",
              "      <td>6</td>\n",
              "      <td>2</td>\n",
              "      <td>19</td>\n",
              "      <td>0</td>\n",
              "      <td>1140</td>\n",
              "      <td>DEL</td>\n",
              "      <td>LKO</td>\n",
              "      <td>BOM</td>\n",
              "      <td>COK</td>\n",
              "      <td>NaN</td>\n",
              "      <td>28.567</td>\n",
              "      <td>26.761</td>\n",
              "      <td>19.089</td>\n",
              "      <td>10.152</td>\n",
              "      <td>0.0</td>\n",
              "      <td>77.103</td>\n",
              "      <td>80.889</td>\n",
              "      <td>72.868</td>\n",
              "      <td>76.402</td>\n",
              "      <td>0.0</td>\n",
              "      <td>423.196202</td>\n",
              "      <td>1182.818371</td>\n",
              "      <td>1063.175197</td>\n",
              "      <td>8514.282404</td>\n",
              "      <td>11183.472175</td>\n",
              "      <td>0</td>\n",
              "      <td>0</td>\n",
              "      <td>1</td>\n",
              "      <td>0</td>\n",
              "      <td>0</td>\n",
              "      <td>0</td>\n",
              "      <td>0</td>\n",
              "      <td>0</td>\n",
              "      <td>0</td>\n",
              "      <td>1</td>\n",
              "      <td>0</td>\n",
              "      <td>0</td>\n",
              "      <td>0</td>\n",
              "      <td>1</td>\n",
              "      <td>0</td>\n",
              "      <td>0</td>\n",
              "      <td>0</td>\n",
              "      <td>0</td>\n",
              "      <td>0</td>\n",
              "      <td>0</td>\n",
              "      <td>1</td>\n",
              "      <td>0</td>\n",
              "      <td>0</td>\n",
              "      <td>1</td>\n",
              "      <td>0</td>\n",
              "    </tr>\n",
              "    <tr>\n",
              "      <th>3</th>\n",
              "      <td>CCU → NAG → BLR</td>\n",
              "      <td>Night</td>\n",
              "      <td>5h 25m</td>\n",
              "      <td>6218.0</td>\n",
              "      <td>1</td>\n",
              "      <td>1</td>\n",
              "      <td>2019</td>\n",
              "      <td>6</td>\n",
              "      <td>1</td>\n",
              "      <td>5</td>\n",
              "      <td>25</td>\n",
              "      <td>325</td>\n",
              "      <td>CCU</td>\n",
              "      <td>NAG</td>\n",
              "      <td>BLR</td>\n",
              "      <td>NaN</td>\n",
              "      <td>NaN</td>\n",
              "      <td>22.655</td>\n",
              "      <td>21.092</td>\n",
              "      <td>13.198</td>\n",
              "      <td>0.000</td>\n",
              "      <td>0.0</td>\n",
              "      <td>88.447</td>\n",
              "      <td>79.047</td>\n",
              "      <td>77.706</td>\n",
              "      <td>0.000</td>\n",
              "      <td>0.0</td>\n",
              "      <td>984.620308</td>\n",
              "      <td>888.680642</td>\n",
              "      <td>8671.714372</td>\n",
              "      <td>0.000000</td>\n",
              "      <td>10545.015322</td>\n",
              "      <td>0</td>\n",
              "      <td>1</td>\n",
              "      <td>0</td>\n",
              "      <td>0</td>\n",
              "      <td>0</td>\n",
              "      <td>0</td>\n",
              "      <td>0</td>\n",
              "      <td>0</td>\n",
              "      <td>0</td>\n",
              "      <td>0</td>\n",
              "      <td>1</td>\n",
              "      <td>0</td>\n",
              "      <td>1</td>\n",
              "      <td>0</td>\n",
              "      <td>0</td>\n",
              "      <td>0</td>\n",
              "      <td>0</td>\n",
              "      <td>0</td>\n",
              "      <td>0</td>\n",
              "      <td>1</td>\n",
              "      <td>0</td>\n",
              "      <td>0</td>\n",
              "      <td>0</td>\n",
              "      <td>1</td>\n",
              "      <td>0</td>\n",
              "    </tr>\n",
              "    <tr>\n",
              "      <th>4</th>\n",
              "      <td>BLR → NAG → DEL</td>\n",
              "      <td>Night</td>\n",
              "      <td>4h 45m</td>\n",
              "      <td>13302.0</td>\n",
              "      <td>2</td>\n",
              "      <td>2</td>\n",
              "      <td>2019</td>\n",
              "      <td>4</td>\n",
              "      <td>1</td>\n",
              "      <td>4</td>\n",
              "      <td>45</td>\n",
              "      <td>285</td>\n",
              "      <td>BLR</td>\n",
              "      <td>NAG</td>\n",
              "      <td>DEL</td>\n",
              "      <td>NaN</td>\n",
              "      <td>NaN</td>\n",
              "      <td>13.198</td>\n",
              "      <td>21.092</td>\n",
              "      <td>28.567</td>\n",
              "      <td>0.000</td>\n",
              "      <td>0.0</td>\n",
              "      <td>77.706</td>\n",
              "      <td>79.047</td>\n",
              "      <td>77.103</td>\n",
              "      <td>0.000</td>\n",
              "      <td>0.0</td>\n",
              "      <td>888.680642</td>\n",
              "      <td>853.431238</td>\n",
              "      <td>8745.024719</td>\n",
              "      <td>0.000000</td>\n",
              "      <td>10487.136599</td>\n",
              "      <td>0</td>\n",
              "      <td>1</td>\n",
              "      <td>0</td>\n",
              "      <td>0</td>\n",
              "      <td>0</td>\n",
              "      <td>0</td>\n",
              "      <td>0</td>\n",
              "      <td>1</td>\n",
              "      <td>0</td>\n",
              "      <td>0</td>\n",
              "      <td>0</td>\n",
              "      <td>0</td>\n",
              "      <td>0</td>\n",
              "      <td>0</td>\n",
              "      <td>0</td>\n",
              "      <td>0</td>\n",
              "      <td>0</td>\n",
              "      <td>1</td>\n",
              "      <td>0</td>\n",
              "      <td>1</td>\n",
              "      <td>0</td>\n",
              "      <td>0</td>\n",
              "      <td>0</td>\n",
              "      <td>1</td>\n",
              "      <td>0</td>\n",
              "    </tr>\n",
              "    <tr>\n",
              "      <th>5</th>\n",
              "      <td>CCU → BLR</td>\n",
              "      <td>Afternoon</td>\n",
              "      <td>2h 25m</td>\n",
              "      <td>3873.0</td>\n",
              "      <td>1</td>\n",
              "      <td>1</td>\n",
              "      <td>2019</td>\n",
              "      <td>0</td>\n",
              "      <td>0</td>\n",
              "      <td>2</td>\n",
              "      <td>25</td>\n",
              "      <td>145</td>\n",
              "      <td>CCU</td>\n",
              "      <td>BLR</td>\n",
              "      <td>NaN</td>\n",
              "      <td>NaN</td>\n",
              "      <td>NaN</td>\n",
              "      <td>22.655</td>\n",
              "      <td>13.198</td>\n",
              "      <td>0.000</td>\n",
              "      <td>0.000</td>\n",
              "      <td>0.0</td>\n",
              "      <td>88.447</td>\n",
              "      <td>77.706</td>\n",
              "      <td>0.000</td>\n",
              "      <td>0.000</td>\n",
              "      <td>0.0</td>\n",
              "      <td>1545.929153</td>\n",
              "      <td>8671.714372</td>\n",
              "      <td>0.000000</td>\n",
              "      <td>0.000000</td>\n",
              "      <td>10217.643526</td>\n",
              "      <td>0</td>\n",
              "      <td>0</td>\n",
              "      <td>0</td>\n",
              "      <td>0</td>\n",
              "      <td>0</td>\n",
              "      <td>1</td>\n",
              "      <td>0</td>\n",
              "      <td>0</td>\n",
              "      <td>0</td>\n",
              "      <td>0</td>\n",
              "      <td>1</td>\n",
              "      <td>0</td>\n",
              "      <td>1</td>\n",
              "      <td>0</td>\n",
              "      <td>0</td>\n",
              "      <td>0</td>\n",
              "      <td>0</td>\n",
              "      <td>0</td>\n",
              "      <td>0</td>\n",
              "      <td>0</td>\n",
              "      <td>1</td>\n",
              "      <td>0</td>\n",
              "      <td>0</td>\n",
              "      <td>1</td>\n",
              "      <td>0</td>\n",
              "    </tr>\n",
              "    <tr>\n",
              "      <th>6</th>\n",
              "      <td>BLR → BOM → DEL</td>\n",
              "      <td>Morning</td>\n",
              "      <td>15h 30m</td>\n",
              "      <td>11087.0</td>\n",
              "      <td>1</td>\n",
              "      <td>2</td>\n",
              "      <td>2019</td>\n",
              "      <td>1</td>\n",
              "      <td>1</td>\n",
              "      <td>15</td>\n",
              "      <td>30</td>\n",
              "      <td>930</td>\n",
              "      <td>BLR</td>\n",
              "      <td>BOM</td>\n",
              "      <td>DEL</td>\n",
              "      <td>NaN</td>\n",
              "      <td>NaN</td>\n",
              "      <td>13.198</td>\n",
              "      <td>19.089</td>\n",
              "      <td>28.567</td>\n",
              "      <td>0.000</td>\n",
              "      <td>0.0</td>\n",
              "      <td>77.706</td>\n",
              "      <td>72.868</td>\n",
              "      <td>77.103</td>\n",
              "      <td>0.000</td>\n",
              "      <td>0.0</td>\n",
              "      <td>833.629555</td>\n",
              "      <td>1137.527550</td>\n",
              "      <td>8745.024719</td>\n",
              "      <td>0.000000</td>\n",
              "      <td>10716.181824</td>\n",
              "      <td>0</td>\n",
              "      <td>0</td>\n",
              "      <td>1</td>\n",
              "      <td>0</td>\n",
              "      <td>0</td>\n",
              "      <td>0</td>\n",
              "      <td>0</td>\n",
              "      <td>1</td>\n",
              "      <td>0</td>\n",
              "      <td>0</td>\n",
              "      <td>0</td>\n",
              "      <td>0</td>\n",
              "      <td>0</td>\n",
              "      <td>0</td>\n",
              "      <td>0</td>\n",
              "      <td>0</td>\n",
              "      <td>0</td>\n",
              "      <td>1</td>\n",
              "      <td>0</td>\n",
              "      <td>1</td>\n",
              "      <td>0</td>\n",
              "      <td>0</td>\n",
              "      <td>1</td>\n",
              "      <td>0</td>\n",
              "      <td>0</td>\n",
              "    </tr>\n",
              "    <tr>\n",
              "      <th>7</th>\n",
              "      <td>BLR → BOM → DEL</td>\n",
              "      <td>Morning</td>\n",
              "      <td>21h 5m</td>\n",
              "      <td>22270.0</td>\n",
              "      <td>2</td>\n",
              "      <td>2</td>\n",
              "      <td>2019</td>\n",
              "      <td>4</td>\n",
              "      <td>1</td>\n",
              "      <td>21</td>\n",
              "      <td>5</td>\n",
              "      <td>1265</td>\n",
              "      <td>BLR</td>\n",
              "      <td>BOM</td>\n",
              "      <td>DEL</td>\n",
              "      <td>NaN</td>\n",
              "      <td>NaN</td>\n",
              "      <td>13.198</td>\n",
              "      <td>19.089</td>\n",
              "      <td>28.567</td>\n",
              "      <td>0.000</td>\n",
              "      <td>0.0</td>\n",
              "      <td>77.706</td>\n",
              "      <td>72.868</td>\n",
              "      <td>77.103</td>\n",
              "      <td>0.000</td>\n",
              "      <td>0.0</td>\n",
              "      <td>833.629555</td>\n",
              "      <td>1137.527550</td>\n",
              "      <td>8745.024719</td>\n",
              "      <td>0.000000</td>\n",
              "      <td>10716.181824</td>\n",
              "      <td>0</td>\n",
              "      <td>0</td>\n",
              "      <td>1</td>\n",
              "      <td>0</td>\n",
              "      <td>0</td>\n",
              "      <td>0</td>\n",
              "      <td>0</td>\n",
              "      <td>1</td>\n",
              "      <td>0</td>\n",
              "      <td>0</td>\n",
              "      <td>0</td>\n",
              "      <td>0</td>\n",
              "      <td>0</td>\n",
              "      <td>0</td>\n",
              "      <td>0</td>\n",
              "      <td>0</td>\n",
              "      <td>0</td>\n",
              "      <td>1</td>\n",
              "      <td>0</td>\n",
              "      <td>0</td>\n",
              "      <td>1</td>\n",
              "      <td>0</td>\n",
              "      <td>0</td>\n",
              "      <td>1</td>\n",
              "      <td>0</td>\n",
              "    </tr>\n",
              "    <tr>\n",
              "      <th>8</th>\n",
              "      <td>BLR → BOM → DEL</td>\n",
              "      <td>Morning</td>\n",
              "      <td>25h 30m</td>\n",
              "      <td>11087.0</td>\n",
              "      <td>1</td>\n",
              "      <td>2</td>\n",
              "      <td>2019</td>\n",
              "      <td>1</td>\n",
              "      <td>1</td>\n",
              "      <td>25</td>\n",
              "      <td>30</td>\n",
              "      <td>1530</td>\n",
              "      <td>BLR</td>\n",
              "      <td>BOM</td>\n",
              "      <td>DEL</td>\n",
              "      <td>NaN</td>\n",
              "      <td>NaN</td>\n",
              "      <td>13.198</td>\n",
              "      <td>19.089</td>\n",
              "      <td>28.567</td>\n",
              "      <td>0.000</td>\n",
              "      <td>0.0</td>\n",
              "      <td>77.706</td>\n",
              "      <td>72.868</td>\n",
              "      <td>77.103</td>\n",
              "      <td>0.000</td>\n",
              "      <td>0.0</td>\n",
              "      <td>833.629555</td>\n",
              "      <td>1137.527550</td>\n",
              "      <td>8745.024719</td>\n",
              "      <td>0.000000</td>\n",
              "      <td>10716.181824</td>\n",
              "      <td>0</td>\n",
              "      <td>0</td>\n",
              "      <td>1</td>\n",
              "      <td>0</td>\n",
              "      <td>0</td>\n",
              "      <td>0</td>\n",
              "      <td>0</td>\n",
              "      <td>1</td>\n",
              "      <td>0</td>\n",
              "      <td>0</td>\n",
              "      <td>0</td>\n",
              "      <td>0</td>\n",
              "      <td>0</td>\n",
              "      <td>0</td>\n",
              "      <td>0</td>\n",
              "      <td>0</td>\n",
              "      <td>0</td>\n",
              "      <td>1</td>\n",
              "      <td>0</td>\n",
              "      <td>0</td>\n",
              "      <td>1</td>\n",
              "      <td>0</td>\n",
              "      <td>1</td>\n",
              "      <td>0</td>\n",
              "      <td>0</td>\n",
              "    </tr>\n",
              "    <tr>\n",
              "      <th>9</th>\n",
              "      <td>DEL → BOM → COK</td>\n",
              "      <td>Evening</td>\n",
              "      <td>7h 50m</td>\n",
              "      <td>8625.0</td>\n",
              "      <td>1</td>\n",
              "      <td>1</td>\n",
              "      <td>2019</td>\n",
              "      <td>0</td>\n",
              "      <td>1</td>\n",
              "      <td>7</td>\n",
              "      <td>50</td>\n",
              "      <td>470</td>\n",
              "      <td>DEL</td>\n",
              "      <td>BOM</td>\n",
              "      <td>COK</td>\n",
              "      <td>NaN</td>\n",
              "      <td>NaN</td>\n",
              "      <td>28.567</td>\n",
              "      <td>19.089</td>\n",
              "      <td>10.152</td>\n",
              "      <td>0.000</td>\n",
              "      <td>0.0</td>\n",
              "      <td>77.103</td>\n",
              "      <td>72.868</td>\n",
              "      <td>76.402</td>\n",
              "      <td>0.000</td>\n",
              "      <td>0.0</td>\n",
              "      <td>1137.527550</td>\n",
              "      <td>1063.175197</td>\n",
              "      <td>8514.282404</td>\n",
              "      <td>0.000000</td>\n",
              "      <td>10714.985151</td>\n",
              "      <td>0</td>\n",
              "      <td>0</td>\n",
              "      <td>0</td>\n",
              "      <td>1</td>\n",
              "      <td>0</td>\n",
              "      <td>0</td>\n",
              "      <td>0</td>\n",
              "      <td>0</td>\n",
              "      <td>0</td>\n",
              "      <td>1</td>\n",
              "      <td>0</td>\n",
              "      <td>0</td>\n",
              "      <td>0</td>\n",
              "      <td>1</td>\n",
              "      <td>0</td>\n",
              "      <td>0</td>\n",
              "      <td>0</td>\n",
              "      <td>0</td>\n",
              "      <td>1</td>\n",
              "      <td>0</td>\n",
              "      <td>0</td>\n",
              "      <td>0</td>\n",
              "      <td>0</td>\n",
              "      <td>1</td>\n",
              "      <td>0</td>\n",
              "    </tr>\n",
              "  </tbody>\n",
              "</table>\n",
              "</div>"
            ],
            "text/plain": [
              "                   Route  ... Additional_Info_Others\n",
              "0              BLR → DEL  ...                      0\n",
              "1  CCU → IXR → BBI → BLR  ...                      0\n",
              "2  DEL → LKO → BOM → COK  ...                      0\n",
              "3        CCU → NAG → BLR  ...                      0\n",
              "4        BLR → NAG → DEL  ...                      0\n",
              "5              CCU → BLR  ...                      0\n",
              "6        BLR → BOM → DEL  ...                      0\n",
              "7        BLR → BOM → DEL  ...                      0\n",
              "8        BLR → BOM → DEL  ...                      0\n",
              "9        DEL → BOM → COK  ...                      0\n",
              "\n",
              "[10 rows x 57 columns]"
            ]
          },
          "metadata": {},
          "execution_count": 114
        }
      ]
    },
    {
      "cell_type": "code",
      "metadata": {
        "id": "nx3JtDrY08d4"
      },
      "source": [
        "#Standardising our numerical columns.\n",
        "from sklearn.preprocessing import minmax_scale\n",
        "air_dum['Duration1']=minmax_scale(air_dum['Duration1'])"
      ],
      "execution_count": 115,
      "outputs": []
    },
    {
      "cell_type": "code",
      "metadata": {
        "id": "ysYqIV4G0_ae"
      },
      "source": [
        "air_dum['Total']=minmax_scale(air_dum['Total'])"
      ],
      "execution_count": 116,
      "outputs": []
    },
    {
      "cell_type": "code",
      "metadata": {
        "colab": {
          "base_uri": "https://localhost:8080/"
        },
        "id": "6am0Ahk_3xmV",
        "outputId": "26ccbfe1-2091-41f7-d120-cf18140da05f"
      },
      "source": [
        "air_dum.columns"
      ],
      "execution_count": 117,
      "outputs": [
        {
          "output_type": "execute_result",
          "data": {
            "text/plain": [
              "Index(['Route', 'Arrival_Time', 'Duration', 'Price', 'Date', 'Month', 'Year',\n",
              "       'Day', 'Stops', 'Hours', 'Minutes', 'Duration1', 'Route_1', 'Route_2',\n",
              "       'Route_3', 'Route_4', 'Route_5', 'Route_11', 'Route_22', 'Route_33',\n",
              "       'Route_44', 'Route_55', 'Route_11l', 'Route_22l', 'Route_33l',\n",
              "       'Route_44l', 'Route_55l', 'Distance1', 'Distance2', 'Distance3',\n",
              "       'Distance4', 'Total', 'Airline_Air India', 'Airline_IndiGo',\n",
              "       'Airline_Jet Airways', 'Airline_Multiple carriers', 'Airline_Others',\n",
              "       'Airline_SpiceJet', 'Airline_Vistara', 'Source_Banglore',\n",
              "       'Source_Chennai', 'Source_Delhi', 'Source_Kolkata', 'Source_Mumbai',\n",
              "       'Destination_Banglore', 'Destination_Cochin', 'Destination_Delhi',\n",
              "       'Destination_Hyderabad', 'Destination_Kolkata', 'Destination_New Delhi',\n",
              "       'Dep_Time_Afternoon', 'Dep_Time_Evening', 'Dep_Time_Morning',\n",
              "       'Dep_Time_Night', 'Additional_Info_In-flight meal not included',\n",
              "       'Additional_Info_No info', 'Additional_Info_Others'],\n",
              "      dtype='object')"
            ]
          },
          "metadata": {},
          "execution_count": 117
        }
      ]
    },
    {
      "cell_type": "code",
      "metadata": {
        "id": "PB3Z1Ey336jq"
      },
      "source": [
        "#We will remove the unnecessary columns from aur air_dum data to perform regression.\n",
        "air_dum.drop(columns=['Route_3', 'Route_4', 'Route_5', 'Route_11', 'Route_22', 'Route_33',\n",
        "       'Route_44', 'Route_55', 'Route_11l', 'Route_22l', 'Route_33l',\n",
        "       'Route_44l', 'Route_55l', 'Distance1', 'Distance2', 'Distance3',\n",
        "       'Distance4','Route', 'Arrival_Time', 'Duration','Year',\n",
        "      'Hours', 'Minutes','Route_1', 'Route_2'],inplace=True)"
      ],
      "execution_count": 118,
      "outputs": []
    },
    {
      "cell_type": "code",
      "metadata": {
        "id": "7sTukdKP48Zg"
      },
      "source": [
        "#Now my training data and test data will be:\n",
        "training=air_dum[0:10682]\n",
        "testing=air_dum[10682:]"
      ],
      "execution_count": 119,
      "outputs": []
    },
    {
      "cell_type": "markdown",
      "metadata": {
        "id": "9kg1MakUfrLq"
      },
      "source": [
        "**Feature Selection**"
      ]
    },
    {
      "cell_type": "code",
      "metadata": {
        "id": "tkb-1G5OfO1w"
      },
      "source": [
        "from sklearn.linear_model import Lasso\n",
        "from sklearn.feature_selection import SelectFromModel"
      ],
      "execution_count": 120,
      "outputs": []
    },
    {
      "cell_type": "code",
      "metadata": {
        "id": "njiO0vYTf3LG"
      },
      "source": [
        "X=training.drop(['Price'],axis=1)\n",
        "y=training.Price"
      ],
      "execution_count": 121,
      "outputs": []
    },
    {
      "cell_type": "code",
      "metadata": {
        "id": "2aHRqoubgA3N"
      },
      "source": [
        "model=SelectFromModel(Lasso(alpha=0.005,random_state=0))"
      ],
      "execution_count": 122,
      "outputs": []
    },
    {
      "cell_type": "code",
      "metadata": {
        "id": "GA7a9GCIgHI0",
        "colab": {
          "base_uri": "https://localhost:8080/"
        },
        "outputId": "e017bd1b-28cf-456b-b381-63d0251028af"
      },
      "source": [
        "model.fit(X,y)"
      ],
      "execution_count": 123,
      "outputs": [
        {
          "output_type": "stream",
          "text": [
            "/usr/local/lib/python3.7/dist-packages/sklearn/linear_model/_coordinate_descent.py:476: ConvergenceWarning: Objective did not converge. You might want to increase the number of iterations. Duality gap: 7995557434.661804, tolerance: 22714623.071221344\n",
            "  positive)\n"
          ],
          "name": "stderr"
        },
        {
          "output_type": "execute_result",
          "data": {
            "text/plain": [
              "SelectFromModel(estimator=Lasso(alpha=0.005, copy_X=True, fit_intercept=True,\n",
              "                                max_iter=1000, normalize=False, positive=False,\n",
              "                                precompute=False, random_state=0,\n",
              "                                selection='cyclic', tol=0.0001,\n",
              "                                warm_start=False),\n",
              "                max_features=None, norm_order=1, prefit=False, threshold=None)"
            ]
          },
          "metadata": {},
          "execution_count": 123
        }
      ]
    },
    {
      "cell_type": "code",
      "metadata": {
        "id": "68gXsMWJgLVB",
        "colab": {
          "base_uri": "https://localhost:8080/"
        },
        "outputId": "3d7ef2f2-7edd-48d4-c0e6-f5d63a2f855e"
      },
      "source": [
        "model.get_support()"
      ],
      "execution_count": 124,
      "outputs": [
        {
          "output_type": "execute_result",
          "data": {
            "text/plain": [
              "array([ True,  True,  True,  True,  True,  True,  True,  True,  True,\n",
              "        True,  True,  True,  True,  True,  True,  True,  True,  True,\n",
              "        True,  True,  True,  True,  True,  True,  True,  True,  True,\n",
              "        True,  True,  True,  True])"
            ]
          },
          "metadata": {},
          "execution_count": 124
        }
      ]
    },
    {
      "cell_type": "code",
      "metadata": {
        "id": "_65aLxv1gPUV"
      },
      "source": [
        "selected_features=X.columns[(model.get_support())]"
      ],
      "execution_count": 125,
      "outputs": []
    },
    {
      "cell_type": "code",
      "metadata": {
        "id": "_MIaCNh4gTMW",
        "colab": {
          "base_uri": "https://localhost:8080/"
        },
        "outputId": "c0d9b2f3-ca5e-4d0c-ecf9-a8ecaa15bcad"
      },
      "source": [
        "selected_features"
      ],
      "execution_count": 126,
      "outputs": [
        {
          "output_type": "execute_result",
          "data": {
            "text/plain": [
              "Index(['Date', 'Month', 'Day', 'Stops', 'Duration1', 'Total',\n",
              "       'Airline_Air India', 'Airline_IndiGo', 'Airline_Jet Airways',\n",
              "       'Airline_Multiple carriers', 'Airline_Others', 'Airline_SpiceJet',\n",
              "       'Airline_Vistara', 'Source_Banglore', 'Source_Chennai', 'Source_Delhi',\n",
              "       'Source_Kolkata', 'Source_Mumbai', 'Destination_Banglore',\n",
              "       'Destination_Cochin', 'Destination_Delhi', 'Destination_Hyderabad',\n",
              "       'Destination_Kolkata', 'Destination_New Delhi', 'Dep_Time_Afternoon',\n",
              "       'Dep_Time_Evening', 'Dep_Time_Morning', 'Dep_Time_Night',\n",
              "       'Additional_Info_In-flight meal not included',\n",
              "       'Additional_Info_No info', 'Additional_Info_Others'],\n",
              "      dtype='object')"
            ]
          },
          "metadata": {},
          "execution_count": 126
        }
      ]
    },
    {
      "cell_type": "code",
      "metadata": {
        "id": "NN-zy8WzzUsD",
        "colab": {
          "base_uri": "https://localhost:8080/",
          "height": 252
        },
        "outputId": "acfbf062-3929-493e-c403-c8c74c8acc02"
      },
      "source": [
        "testing.head(5)"
      ],
      "execution_count": 127,
      "outputs": [
        {
          "output_type": "execute_result",
          "data": {
            "text/html": [
              "<div>\n",
              "<style scoped>\n",
              "    .dataframe tbody tr th:only-of-type {\n",
              "        vertical-align: middle;\n",
              "    }\n",
              "\n",
              "    .dataframe tbody tr th {\n",
              "        vertical-align: top;\n",
              "    }\n",
              "\n",
              "    .dataframe thead th {\n",
              "        text-align: right;\n",
              "    }\n",
              "</style>\n",
              "<table border=\"1\" class=\"dataframe\">\n",
              "  <thead>\n",
              "    <tr style=\"text-align: right;\">\n",
              "      <th></th>\n",
              "      <th>Price</th>\n",
              "      <th>Date</th>\n",
              "      <th>Month</th>\n",
              "      <th>Day</th>\n",
              "      <th>Stops</th>\n",
              "      <th>Duration1</th>\n",
              "      <th>Total</th>\n",
              "      <th>Airline_Air India</th>\n",
              "      <th>Airline_IndiGo</th>\n",
              "      <th>Airline_Jet Airways</th>\n",
              "      <th>Airline_Multiple carriers</th>\n",
              "      <th>Airline_Others</th>\n",
              "      <th>Airline_SpiceJet</th>\n",
              "      <th>Airline_Vistara</th>\n",
              "      <th>Source_Banglore</th>\n",
              "      <th>Source_Chennai</th>\n",
              "      <th>Source_Delhi</th>\n",
              "      <th>Source_Kolkata</th>\n",
              "      <th>Source_Mumbai</th>\n",
              "      <th>Destination_Banglore</th>\n",
              "      <th>Destination_Cochin</th>\n",
              "      <th>Destination_Delhi</th>\n",
              "      <th>Destination_Hyderabad</th>\n",
              "      <th>Destination_Kolkata</th>\n",
              "      <th>Destination_New Delhi</th>\n",
              "      <th>Dep_Time_Afternoon</th>\n",
              "      <th>Dep_Time_Evening</th>\n",
              "      <th>Dep_Time_Morning</th>\n",
              "      <th>Dep_Time_Night</th>\n",
              "      <th>Additional_Info_In-flight meal not included</th>\n",
              "      <th>Additional_Info_No info</th>\n",
              "      <th>Additional_Info_Others</th>\n",
              "    </tr>\n",
              "  </thead>\n",
              "  <tbody>\n",
              "    <tr>\n",
              "      <th>0</th>\n",
              "      <td>NaN</td>\n",
              "      <td>2</td>\n",
              "      <td>1</td>\n",
              "      <td>3</td>\n",
              "      <td>1</td>\n",
              "      <td>0.227671</td>\n",
              "      <td>0.824986</td>\n",
              "      <td>0</td>\n",
              "      <td>0</td>\n",
              "      <td>1</td>\n",
              "      <td>0</td>\n",
              "      <td>0</td>\n",
              "      <td>0</td>\n",
              "      <td>0</td>\n",
              "      <td>0</td>\n",
              "      <td>0</td>\n",
              "      <td>1</td>\n",
              "      <td>0</td>\n",
              "      <td>0</td>\n",
              "      <td>0</td>\n",
              "      <td>1</td>\n",
              "      <td>0</td>\n",
              "      <td>0</td>\n",
              "      <td>0</td>\n",
              "      <td>0</td>\n",
              "      <td>0</td>\n",
              "      <td>1</td>\n",
              "      <td>0</td>\n",
              "      <td>0</td>\n",
              "      <td>0</td>\n",
              "      <td>1</td>\n",
              "      <td>0</td>\n",
              "    </tr>\n",
              "    <tr>\n",
              "      <th>1</th>\n",
              "      <td>NaN</td>\n",
              "      <td>1</td>\n",
              "      <td>1</td>\n",
              "      <td>6</td>\n",
              "      <td>1</td>\n",
              "      <td>0.082312</td>\n",
              "      <td>0.787803</td>\n",
              "      <td>0</td>\n",
              "      <td>1</td>\n",
              "      <td>0</td>\n",
              "      <td>0</td>\n",
              "      <td>0</td>\n",
              "      <td>0</td>\n",
              "      <td>0</td>\n",
              "      <td>0</td>\n",
              "      <td>0</td>\n",
              "      <td>0</td>\n",
              "      <td>1</td>\n",
              "      <td>0</td>\n",
              "      <td>1</td>\n",
              "      <td>0</td>\n",
              "      <td>0</td>\n",
              "      <td>0</td>\n",
              "      <td>0</td>\n",
              "      <td>0</td>\n",
              "      <td>0</td>\n",
              "      <td>0</td>\n",
              "      <td>1</td>\n",
              "      <td>0</td>\n",
              "      <td>0</td>\n",
              "      <td>1</td>\n",
              "      <td>0</td>\n",
              "    </tr>\n",
              "    <tr>\n",
              "      <th>2</th>\n",
              "      <td>NaN</td>\n",
              "      <td>1</td>\n",
              "      <td>1</td>\n",
              "      <td>1</td>\n",
              "      <td>1</td>\n",
              "      <td>0.497373</td>\n",
              "      <td>0.824986</td>\n",
              "      <td>0</td>\n",
              "      <td>0</td>\n",
              "      <td>1</td>\n",
              "      <td>0</td>\n",
              "      <td>0</td>\n",
              "      <td>0</td>\n",
              "      <td>0</td>\n",
              "      <td>0</td>\n",
              "      <td>0</td>\n",
              "      <td>1</td>\n",
              "      <td>0</td>\n",
              "      <td>0</td>\n",
              "      <td>0</td>\n",
              "      <td>1</td>\n",
              "      <td>0</td>\n",
              "      <td>0</td>\n",
              "      <td>0</td>\n",
              "      <td>0</td>\n",
              "      <td>0</td>\n",
              "      <td>1</td>\n",
              "      <td>0</td>\n",
              "      <td>0</td>\n",
              "      <td>1</td>\n",
              "      <td>0</td>\n",
              "      <td>0</td>\n",
              "    </tr>\n",
              "    <tr>\n",
              "      <th>3</th>\n",
              "      <td>NaN</td>\n",
              "      <td>1</td>\n",
              "      <td>1</td>\n",
              "      <td>1</td>\n",
              "      <td>1</td>\n",
              "      <td>0.271454</td>\n",
              "      <td>0.824986</td>\n",
              "      <td>0</td>\n",
              "      <td>0</td>\n",
              "      <td>0</td>\n",
              "      <td>1</td>\n",
              "      <td>0</td>\n",
              "      <td>0</td>\n",
              "      <td>0</td>\n",
              "      <td>0</td>\n",
              "      <td>0</td>\n",
              "      <td>1</td>\n",
              "      <td>0</td>\n",
              "      <td>0</td>\n",
              "      <td>0</td>\n",
              "      <td>1</td>\n",
              "      <td>0</td>\n",
              "      <td>0</td>\n",
              "      <td>0</td>\n",
              "      <td>0</td>\n",
              "      <td>0</td>\n",
              "      <td>0</td>\n",
              "      <td>1</td>\n",
              "      <td>0</td>\n",
              "      <td>0</td>\n",
              "      <td>1</td>\n",
              "      <td>0</td>\n",
              "    </tr>\n",
              "    <tr>\n",
              "      <th>4</th>\n",
              "      <td>NaN</td>\n",
              "      <td>1</td>\n",
              "      <td>1</td>\n",
              "      <td>0</td>\n",
              "      <td>0</td>\n",
              "      <td>0.057793</td>\n",
              "      <td>0.800151</td>\n",
              "      <td>0</td>\n",
              "      <td>0</td>\n",
              "      <td>0</td>\n",
              "      <td>0</td>\n",
              "      <td>1</td>\n",
              "      <td>0</td>\n",
              "      <td>0</td>\n",
              "      <td>1</td>\n",
              "      <td>0</td>\n",
              "      <td>0</td>\n",
              "      <td>0</td>\n",
              "      <td>0</td>\n",
              "      <td>0</td>\n",
              "      <td>0</td>\n",
              "      <td>1</td>\n",
              "      <td>0</td>\n",
              "      <td>0</td>\n",
              "      <td>0</td>\n",
              "      <td>0</td>\n",
              "      <td>0</td>\n",
              "      <td>0</td>\n",
              "      <td>1</td>\n",
              "      <td>0</td>\n",
              "      <td>1</td>\n",
              "      <td>0</td>\n",
              "    </tr>\n",
              "  </tbody>\n",
              "</table>\n",
              "</div>"
            ],
            "text/plain": [
              "   Price  Date  ...  Additional_Info_No info  Additional_Info_Others\n",
              "0    NaN     2  ...                        1                       0\n",
              "1    NaN     1  ...                        1                       0\n",
              "2    NaN     1  ...                        0                       0\n",
              "3    NaN     1  ...                        1                       0\n",
              "4    NaN     1  ...                        1                       0\n",
              "\n",
              "[5 rows x 32 columns]"
            ]
          },
          "metadata": {},
          "execution_count": 127
        }
      ]
    },
    {
      "cell_type": "code",
      "metadata": {
        "colab": {
          "base_uri": "https://localhost:8080/"
        },
        "id": "Oh_pmzm19nT8",
        "outputId": "f964e251-e0f6-48fb-cc62-0559f1d9d43b"
      },
      "source": [
        "testing.drop(columns='Price',inplace=True)"
      ],
      "execution_count": 128,
      "outputs": [
        {
          "output_type": "stream",
          "text": [
            "/usr/local/lib/python3.7/dist-packages/pandas/core/frame.py:4174: SettingWithCopyWarning: \n",
            "A value is trying to be set on a copy of a slice from a DataFrame\n",
            "\n",
            "See the caveats in the documentation: https://pandas.pydata.org/pandas-docs/stable/user_guide/indexing.html#returning-a-view-versus-a-copy\n",
            "  errors=errors,\n"
          ],
          "name": "stderr"
        }
      ]
    },
    {
      "cell_type": "code",
      "metadata": {
        "id": "BNYWe3xO8jmC",
        "colab": {
          "base_uri": "https://localhost:8080/"
        },
        "outputId": "e58ba0b9-2107-4168-ec7a-a5aad70f9bf1"
      },
      "source": [
        "#Performing regression\n",
        "from sklearn.model_selection import train_test_split\n",
        "X_train, X_test, y_train, y_test = train_test_split(X, y, test_size=0.3, random_state=0) #test size ka mtlb out of complete data humara 40% of data will be a test data and model will be fit upon the values of ^0% of the data\n",
        "\n",
        "from sklearn.linear_model import LinearRegression\n",
        "lm = LinearRegression()\n",
        "lm.fit(X_train,y_train)"
      ],
      "execution_count": 129,
      "outputs": [
        {
          "output_type": "execute_result",
          "data": {
            "text/plain": [
              "LinearRegression(copy_X=True, fit_intercept=True, n_jobs=None, normalize=False)"
            ]
          },
          "metadata": {},
          "execution_count": 129
        }
      ]
    },
    {
      "cell_type": "code",
      "metadata": {
        "id": "849a6Tpk88aL",
        "colab": {
          "base_uri": "https://localhost:8080/"
        },
        "outputId": "a15926f8-54d2-4781-d0af-2841034c2a1a"
      },
      "source": [
        "#MODEL EVALUATION\n",
        "# print the intercept\n",
        "print(lm.intercept_)"
      ],
      "execution_count": 130,
      "outputs": [
        {
          "output_type": "stream",
          "text": [
            "717248513997942.4\n"
          ],
          "name": "stdout"
        }
      ]
    },
    {
      "cell_type": "code",
      "metadata": {
        "id": "dbwns4uA9BPl",
        "colab": {
          "base_uri": "https://localhost:8080/",
          "height": 986
        },
        "outputId": "acf86ec9-4235-4399-976e-85cea426b69d"
      },
      "source": [
        "coeff_df = pd.DataFrame(lm.coef_,X.columns,columns=['Coefficient'])\n",
        "coeff_df"
      ],
      "execution_count": 131,
      "outputs": [
        {
          "output_type": "execute_result",
          "data": {
            "text/html": [
              "<div>\n",
              "<style scoped>\n",
              "    .dataframe tbody tr th:only-of-type {\n",
              "        vertical-align: middle;\n",
              "    }\n",
              "\n",
              "    .dataframe tbody tr th {\n",
              "        vertical-align: top;\n",
              "    }\n",
              "\n",
              "    .dataframe thead th {\n",
              "        text-align: right;\n",
              "    }\n",
              "</style>\n",
              "<table border=\"1\" class=\"dataframe\">\n",
              "  <thead>\n",
              "    <tr style=\"text-align: right;\">\n",
              "      <th></th>\n",
              "      <th>Coefficient</th>\n",
              "    </tr>\n",
              "  </thead>\n",
              "  <tbody>\n",
              "    <tr>\n",
              "      <th>Date</th>\n",
              "      <td>1.059085e+03</td>\n",
              "    </tr>\n",
              "    <tr>\n",
              "      <th>Month</th>\n",
              "      <td>1.250076e+03</td>\n",
              "    </tr>\n",
              "    <tr>\n",
              "      <th>Day</th>\n",
              "      <td>1.028071e+02</td>\n",
              "    </tr>\n",
              "    <tr>\n",
              "      <th>Stops</th>\n",
              "      <td>2.544223e+03</td>\n",
              "    </tr>\n",
              "    <tr>\n",
              "      <th>Duration1</th>\n",
              "      <td>-2.260290e+01</td>\n",
              "    </tr>\n",
              "    <tr>\n",
              "      <th>Total</th>\n",
              "      <td>5.874011e+03</td>\n",
              "    </tr>\n",
              "    <tr>\n",
              "      <th>Airline_Air India</th>\n",
              "      <td>-7.266601e+13</td>\n",
              "    </tr>\n",
              "    <tr>\n",
              "      <th>Airline_IndiGo</th>\n",
              "      <td>-7.266601e+13</td>\n",
              "    </tr>\n",
              "    <tr>\n",
              "      <th>Airline_Jet Airways</th>\n",
              "      <td>-7.266601e+13</td>\n",
              "    </tr>\n",
              "    <tr>\n",
              "      <th>Airline_Multiple carriers</th>\n",
              "      <td>-7.266601e+13</td>\n",
              "    </tr>\n",
              "    <tr>\n",
              "      <th>Airline_Others</th>\n",
              "      <td>-7.266601e+13</td>\n",
              "    </tr>\n",
              "    <tr>\n",
              "      <th>Airline_SpiceJet</th>\n",
              "      <td>-7.266601e+13</td>\n",
              "    </tr>\n",
              "    <tr>\n",
              "      <th>Airline_Vistara</th>\n",
              "      <td>-7.266601e+13</td>\n",
              "    </tr>\n",
              "    <tr>\n",
              "      <th>Source_Banglore</th>\n",
              "      <td>-2.778353e+14</td>\n",
              "    </tr>\n",
              "    <tr>\n",
              "      <th>Source_Chennai</th>\n",
              "      <td>-3.164986e+14</td>\n",
              "    </tr>\n",
              "    <tr>\n",
              "      <th>Source_Delhi</th>\n",
              "      <td>-3.661122e+14</td>\n",
              "    </tr>\n",
              "    <tr>\n",
              "      <th>Source_Kolkata</th>\n",
              "      <td>-4.964372e+14</td>\n",
              "    </tr>\n",
              "    <tr>\n",
              "      <th>Source_Mumbai</th>\n",
              "      <td>-3.982965e+14</td>\n",
              "    </tr>\n",
              "    <tr>\n",
              "      <th>Destination_Banglore</th>\n",
              "      <td>-2.037489e+14</td>\n",
              "    </tr>\n",
              "    <tr>\n",
              "      <th>Destination_Cochin</th>\n",
              "      <td>-3.340739e+14</td>\n",
              "    </tr>\n",
              "    <tr>\n",
              "      <th>Destination_Delhi</th>\n",
              "      <td>-4.223508e+14</td>\n",
              "    </tr>\n",
              "    <tr>\n",
              "      <th>Destination_Hyderabad</th>\n",
              "      <td>-3.018896e+14</td>\n",
              "    </tr>\n",
              "    <tr>\n",
              "      <th>Destination_Kolkata</th>\n",
              "      <td>-3.836875e+14</td>\n",
              "    </tr>\n",
              "    <tr>\n",
              "      <th>Destination_New Delhi</th>\n",
              "      <td>-4.223508e+14</td>\n",
              "    </tr>\n",
              "    <tr>\n",
              "      <th>Dep_Time_Afternoon</th>\n",
              "      <td>8.364050e+12</td>\n",
              "    </tr>\n",
              "    <tr>\n",
              "      <th>Dep_Time_Evening</th>\n",
              "      <td>8.364050e+12</td>\n",
              "    </tr>\n",
              "    <tr>\n",
              "      <th>Dep_Time_Morning</th>\n",
              "      <td>8.364050e+12</td>\n",
              "    </tr>\n",
              "    <tr>\n",
              "      <th>Dep_Time_Night</th>\n",
              "      <td>8.364050e+12</td>\n",
              "    </tr>\n",
              "    <tr>\n",
              "      <th>Additional_Info_In-flight meal not included</th>\n",
              "      <td>4.723956e+13</td>\n",
              "    </tr>\n",
              "    <tr>\n",
              "      <th>Additional_Info_No info</th>\n",
              "      <td>4.723956e+13</td>\n",
              "    </tr>\n",
              "    <tr>\n",
              "      <th>Additional_Info_Others</th>\n",
              "      <td>4.723956e+13</td>\n",
              "    </tr>\n",
              "  </tbody>\n",
              "</table>\n",
              "</div>"
            ],
            "text/plain": [
              "                                              Coefficient\n",
              "Date                                         1.059085e+03\n",
              "Month                                        1.250076e+03\n",
              "Day                                          1.028071e+02\n",
              "Stops                                        2.544223e+03\n",
              "Duration1                                   -2.260290e+01\n",
              "Total                                        5.874011e+03\n",
              "Airline_Air India                           -7.266601e+13\n",
              "Airline_IndiGo                              -7.266601e+13\n",
              "Airline_Jet Airways                         -7.266601e+13\n",
              "Airline_Multiple carriers                   -7.266601e+13\n",
              "Airline_Others                              -7.266601e+13\n",
              "Airline_SpiceJet                            -7.266601e+13\n",
              "Airline_Vistara                             -7.266601e+13\n",
              "Source_Banglore                             -2.778353e+14\n",
              "Source_Chennai                              -3.164986e+14\n",
              "Source_Delhi                                -3.661122e+14\n",
              "Source_Kolkata                              -4.964372e+14\n",
              "Source_Mumbai                               -3.982965e+14\n",
              "Destination_Banglore                        -2.037489e+14\n",
              "Destination_Cochin                          -3.340739e+14\n",
              "Destination_Delhi                           -4.223508e+14\n",
              "Destination_Hyderabad                       -3.018896e+14\n",
              "Destination_Kolkata                         -3.836875e+14\n",
              "Destination_New Delhi                       -4.223508e+14\n",
              "Dep_Time_Afternoon                           8.364050e+12\n",
              "Dep_Time_Evening                             8.364050e+12\n",
              "Dep_Time_Morning                             8.364050e+12\n",
              "Dep_Time_Night                               8.364050e+12\n",
              "Additional_Info_In-flight meal not included  4.723956e+13\n",
              "Additional_Info_No info                      4.723956e+13\n",
              "Additional_Info_Others                       4.723956e+13"
            ]
          },
          "metadata": {},
          "execution_count": 131
        }
      ]
    },
    {
      "cell_type": "code",
      "metadata": {
        "id": "pjJuQw4P9MMw"
      },
      "source": [
        "#MAKING THE PREDICTIONS\n",
        "predictions = lm.predict(X_test)"
      ],
      "execution_count": 132,
      "outputs": []
    },
    {
      "cell_type": "code",
      "metadata": {
        "id": "8isd2xqJ9iW7",
        "colab": {
          "base_uri": "https://localhost:8080/"
        },
        "outputId": "4db96f51-2fe2-47df-dde5-9e3bffd60ccb"
      },
      "source": [
        "print(predictions)"
      ],
      "execution_count": 133,
      "outputs": [
        {
          "output_type": "stream",
          "text": [
            "[12701.875  6434.375  2807.625 ...  7427.625 13041.125  7709.25 ]\n"
          ],
          "name": "stdout"
        }
      ]
    },
    {
      "cell_type": "code",
      "metadata": {
        "id": "4hn5AS1o9r8z",
        "colab": {
          "base_uri": "https://localhost:8080/",
          "height": 191
        },
        "outputId": "310eb55b-ddeb-46b4-ca85-078e2223510a"
      },
      "source": [
        "print('MAE:', metrics.mean_absolute_error(y_test, predictions))\n",
        "print('MSE:', metrics.mean_squared_error(y_test, predictions))\n",
        "print('RMSE:', np.sqrt(metrics.mean_squared_error(y_test, predictions)))"
      ],
      "execution_count": 134,
      "outputs": [
        {
          "output_type": "error",
          "ename": "NameError",
          "evalue": "ignored",
          "traceback": [
            "\u001b[0;31m---------------------------------------------------------------------------\u001b[0m",
            "\u001b[0;31mNameError\u001b[0m                                 Traceback (most recent call last)",
            "\u001b[0;32m<ipython-input-134-056bd2db366c>\u001b[0m in \u001b[0;36m<module>\u001b[0;34m()\u001b[0m\n\u001b[0;32m----> 1\u001b[0;31m \u001b[0mprint\u001b[0m\u001b[0;34m(\u001b[0m\u001b[0;34m'MAE:'\u001b[0m\u001b[0;34m,\u001b[0m \u001b[0mmetrics\u001b[0m\u001b[0;34m.\u001b[0m\u001b[0mmean_absolute_error\u001b[0m\u001b[0;34m(\u001b[0m\u001b[0my_test\u001b[0m\u001b[0;34m,\u001b[0m \u001b[0mpredictions\u001b[0m\u001b[0;34m)\u001b[0m\u001b[0;34m)\u001b[0m\u001b[0;34m\u001b[0m\u001b[0;34m\u001b[0m\u001b[0m\n\u001b[0m\u001b[1;32m      2\u001b[0m \u001b[0mprint\u001b[0m\u001b[0;34m(\u001b[0m\u001b[0;34m'MSE:'\u001b[0m\u001b[0;34m,\u001b[0m \u001b[0mmetrics\u001b[0m\u001b[0;34m.\u001b[0m\u001b[0mmean_squared_error\u001b[0m\u001b[0;34m(\u001b[0m\u001b[0my_test\u001b[0m\u001b[0;34m,\u001b[0m \u001b[0mpredictions\u001b[0m\u001b[0;34m)\u001b[0m\u001b[0;34m)\u001b[0m\u001b[0;34m\u001b[0m\u001b[0;34m\u001b[0m\u001b[0m\n\u001b[1;32m      3\u001b[0m \u001b[0mprint\u001b[0m\u001b[0;34m(\u001b[0m\u001b[0;34m'RMSE:'\u001b[0m\u001b[0;34m,\u001b[0m \u001b[0mnp\u001b[0m\u001b[0;34m.\u001b[0m\u001b[0msqrt\u001b[0m\u001b[0;34m(\u001b[0m\u001b[0mmetrics\u001b[0m\u001b[0;34m.\u001b[0m\u001b[0mmean_squared_error\u001b[0m\u001b[0;34m(\u001b[0m\u001b[0my_test\u001b[0m\u001b[0;34m,\u001b[0m \u001b[0mpredictions\u001b[0m\u001b[0;34m)\u001b[0m\u001b[0;34m)\u001b[0m\u001b[0;34m)\u001b[0m\u001b[0;34m\u001b[0m\u001b[0;34m\u001b[0m\u001b[0m\n",
            "\u001b[0;31mNameError\u001b[0m: name 'metrics' is not defined"
          ]
        }
      ]
    },
    {
      "cell_type": "code",
      "metadata": {
        "colab": {
          "base_uri": "https://localhost:8080/"
        },
        "id": "s7DAXsPNM_1K",
        "outputId": "597d6528-25d1-4fc6-e44e-3f8230b7ca85"
      },
      "source": [
        "from sklearn.metrics import r2_score\n",
        "r2_score(y_test, predictions)"
      ],
      "execution_count": 135,
      "outputs": [
        {
          "output_type": "execute_result",
          "data": {
            "text/plain": [
              "0.6282829958779548"
            ]
          },
          "metadata": {},
          "execution_count": 135
        }
      ]
    },
    {
      "cell_type": "code",
      "metadata": {
        "id": "kNyAlwQf9x8Y"
      },
      "source": [
        "#Making the predictions on our testing data\n",
        "predictions1 = lm.predict(testing)"
      ],
      "execution_count": 136,
      "outputs": []
    },
    {
      "cell_type": "code",
      "metadata": {
        "id": "YoP8YgfC91fU",
        "colab": {
          "base_uri": "https://localhost:8080/"
        },
        "outputId": "07c06ddd-132b-4639-a719-2946a4f8045a"
      },
      "source": [
        "testing['Predicted price']=predictions1"
      ],
      "execution_count": 137,
      "outputs": [
        {
          "output_type": "stream",
          "text": [
            "/usr/local/lib/python3.7/dist-packages/ipykernel_launcher.py:1: SettingWithCopyWarning: \n",
            "A value is trying to be set on a copy of a slice from a DataFrame.\n",
            "Try using .loc[row_indexer,col_indexer] = value instead\n",
            "\n",
            "See the caveats in the documentation: https://pandas.pydata.org/pandas-docs/stable/user_guide/indexing.html#returning-a-view-versus-a-copy\n",
            "  \"\"\"Entry point for launching an IPython kernel.\n"
          ],
          "name": "stderr"
        }
      ]
    },
    {
      "cell_type": "code",
      "metadata": {
        "id": "N7r3B0K9CRd8",
        "colab": {
          "base_uri": "https://localhost:8080/",
          "height": 161
        },
        "outputId": "a7641c3b-e184-428d-df71-73761e0ce98a"
      },
      "source": [
        "testing.head(2)#airline source destination one hot mean price map skewness mean price "
      ],
      "execution_count": 138,
      "outputs": [
        {
          "output_type": "execute_result",
          "data": {
            "text/html": [
              "<div>\n",
              "<style scoped>\n",
              "    .dataframe tbody tr th:only-of-type {\n",
              "        vertical-align: middle;\n",
              "    }\n",
              "\n",
              "    .dataframe tbody tr th {\n",
              "        vertical-align: top;\n",
              "    }\n",
              "\n",
              "    .dataframe thead th {\n",
              "        text-align: right;\n",
              "    }\n",
              "</style>\n",
              "<table border=\"1\" class=\"dataframe\">\n",
              "  <thead>\n",
              "    <tr style=\"text-align: right;\">\n",
              "      <th></th>\n",
              "      <th>Date</th>\n",
              "      <th>Month</th>\n",
              "      <th>Day</th>\n",
              "      <th>Stops</th>\n",
              "      <th>Duration1</th>\n",
              "      <th>Total</th>\n",
              "      <th>Airline_Air India</th>\n",
              "      <th>Airline_IndiGo</th>\n",
              "      <th>Airline_Jet Airways</th>\n",
              "      <th>Airline_Multiple carriers</th>\n",
              "      <th>Airline_Others</th>\n",
              "      <th>Airline_SpiceJet</th>\n",
              "      <th>Airline_Vistara</th>\n",
              "      <th>Source_Banglore</th>\n",
              "      <th>Source_Chennai</th>\n",
              "      <th>Source_Delhi</th>\n",
              "      <th>Source_Kolkata</th>\n",
              "      <th>Source_Mumbai</th>\n",
              "      <th>Destination_Banglore</th>\n",
              "      <th>Destination_Cochin</th>\n",
              "      <th>Destination_Delhi</th>\n",
              "      <th>Destination_Hyderabad</th>\n",
              "      <th>Destination_Kolkata</th>\n",
              "      <th>Destination_New Delhi</th>\n",
              "      <th>Dep_Time_Afternoon</th>\n",
              "      <th>Dep_Time_Evening</th>\n",
              "      <th>Dep_Time_Morning</th>\n",
              "      <th>Dep_Time_Night</th>\n",
              "      <th>Additional_Info_In-flight meal not included</th>\n",
              "      <th>Additional_Info_No info</th>\n",
              "      <th>Additional_Info_Others</th>\n",
              "      <th>Predicted price</th>\n",
              "    </tr>\n",
              "  </thead>\n",
              "  <tbody>\n",
              "    <tr>\n",
              "      <th>0</th>\n",
              "      <td>2</td>\n",
              "      <td>1</td>\n",
              "      <td>3</td>\n",
              "      <td>1</td>\n",
              "      <td>0.227671</td>\n",
              "      <td>0.824986</td>\n",
              "      <td>0</td>\n",
              "      <td>0</td>\n",
              "      <td>1</td>\n",
              "      <td>0</td>\n",
              "      <td>0</td>\n",
              "      <td>0</td>\n",
              "      <td>0</td>\n",
              "      <td>0</td>\n",
              "      <td>0</td>\n",
              "      <td>1</td>\n",
              "      <td>0</td>\n",
              "      <td>0</td>\n",
              "      <td>0</td>\n",
              "      <td>1</td>\n",
              "      <td>0</td>\n",
              "      <td>0</td>\n",
              "      <td>0</td>\n",
              "      <td>0</td>\n",
              "      <td>0</td>\n",
              "      <td>1</td>\n",
              "      <td>0</td>\n",
              "      <td>0</td>\n",
              "      <td>0</td>\n",
              "      <td>1</td>\n",
              "      <td>0</td>\n",
              "      <td>13542.875</td>\n",
              "    </tr>\n",
              "    <tr>\n",
              "      <th>1</th>\n",
              "      <td>1</td>\n",
              "      <td>1</td>\n",
              "      <td>6</td>\n",
              "      <td>1</td>\n",
              "      <td>0.082312</td>\n",
              "      <td>0.787803</td>\n",
              "      <td>0</td>\n",
              "      <td>1</td>\n",
              "      <td>0</td>\n",
              "      <td>0</td>\n",
              "      <td>0</td>\n",
              "      <td>0</td>\n",
              "      <td>0</td>\n",
              "      <td>0</td>\n",
              "      <td>0</td>\n",
              "      <td>0</td>\n",
              "      <td>1</td>\n",
              "      <td>0</td>\n",
              "      <td>1</td>\n",
              "      <td>0</td>\n",
              "      <td>0</td>\n",
              "      <td>0</td>\n",
              "      <td>0</td>\n",
              "      <td>0</td>\n",
              "      <td>0</td>\n",
              "      <td>0</td>\n",
              "      <td>1</td>\n",
              "      <td>0</td>\n",
              "      <td>0</td>\n",
              "      <td>1</td>\n",
              "      <td>0</td>\n",
              "      <td>6619.750</td>\n",
              "    </tr>\n",
              "  </tbody>\n",
              "</table>\n",
              "</div>"
            ],
            "text/plain": [
              "   Date  Month  ...  Additional_Info_Others  Predicted price\n",
              "0     2      1  ...                       0        13542.875\n",
              "1     1      1  ...                       0         6619.750\n",
              "\n",
              "[2 rows x 32 columns]"
            ]
          },
          "metadata": {},
          "execution_count": 138
        }
      ]
    },
    {
      "cell_type": "code",
      "metadata": {
        "colab": {
          "base_uri": "https://localhost:8080/"
        },
        "id": "fMDOrGB9SgPe",
        "outputId": "23fd9640-8e80-4074-fc41-501dfa4590ea"
      },
      "source": [
        "from sklearn.model_selection import train_test_split\n",
        "x_train, x_test, y_train, y_test = train_test_split(X, y, test_size = 0.2)\n",
        "from sklearn import metrics\n",
        "def predict(model):\n",
        "    model_name = model.fit(x_train,y_train)\n",
        "    print('model name {}'.format(model))\n",
        "    print('\\n')\n",
        "    print('model score {}'.format(model_name.score(x_train, y_train)))\n",
        "    predictions = model_name.predict(x_test)\n",
        "    print('predictions are {}'.format(predictions))\n",
        "    print('\\n')\n",
        "    r2_score = metrics.r2_score(y_test, predictions)\n",
        "    print(r2_score)\n",
        "from sklearn.ensemble import RandomForestRegressor\n",
        "predict(RandomForestRegressor())\n",
        "from sklearn.model_selection import cross_val_score\n",
        "score = cross_val_score(RandomForestRegressor(), X, y, cv = 10)\n",
        "print(score.mean())"
      ],
      "execution_count": 139,
      "outputs": [
        {
          "output_type": "stream",
          "text": [
            "model name RandomForestRegressor(bootstrap=True, ccp_alpha=0.0, criterion='mse',\n",
            "                      max_depth=None, max_features='auto', max_leaf_nodes=None,\n",
            "                      max_samples=None, min_impurity_decrease=0.0,\n",
            "                      min_impurity_split=None, min_samples_leaf=1,\n",
            "                      min_samples_split=2, min_weight_fraction_leaf=0.0,\n",
            "                      n_estimators=100, n_jobs=None, oob_score=False,\n",
            "                      random_state=None, verbose=0, warm_start=False)\n",
            "\n",
            "\n",
            "model score 0.9630079697574453\n",
            "predictions are [12344.17        6177.61       14888.33666667 ... 10661.66335714\n",
            " 10111.2         4823.        ]\n",
            "\n",
            "\n",
            "0.8776078480291432\n",
            "0.8483148445881932\n"
          ],
          "name": "stdout"
        }
      ]
    },
    {
      "cell_type": "code",
      "metadata": {
        "id": "A3NcZSIwSkp1"
      },
      "source": [
        ""
      ],
      "execution_count": null,
      "outputs": []
    }
  ]
}